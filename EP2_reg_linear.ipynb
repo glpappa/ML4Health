{
  "nbformat": 4,
  "nbformat_minor": 0,
  "metadata": {
    "colab": {
      "provenance": [],
      "toc_visible": true,
      "include_colab_link": true
    },
    "kernelspec": {
      "name": "python3",
      "display_name": "Python 3"
    },
    "language_info": {
      "name": "python"
    }
  },
  "cells": [
    {
      "cell_type": "markdown",
      "metadata": {
        "id": "view-in-github",
        "colab_type": "text"
      },
      "source": [
        "<a href=\"https://colab.research.google.com/github/glpappa/ML4Health/blob/main/EP2_reg_linear.ipynb\" target=\"_parent\"><img src=\"https://colab.research.google.com/assets/colab-badge.svg\" alt=\"Open In Colab\"/></a>"
      ]
    },
    {
      "cell_type": "markdown",
      "source": [
        "# Exercício Prático 2\n",
        "\n",
        "### Regressão linear múltipla\n",
        "\n",
        "* Objetivo: Prever a quantidade de dias de internação (length of stay - LoS) de um paciente no CTI utilizando atributos demográficos e sinais vitais do primeiro dia de hospitalização. \n",
        "* O notebook foi baseado no trabalho de [Alghatani et. al (2021)](https://doi.org/10.2196/21347) e alguns trechos do artigo foram transcritos.\n",
        "* Para o pessoal da pós-graduação, tente adicionar outros atributos a análise após obter os primeiros resultados."
      ],
      "metadata": {
        "id": "-4hYFTJxQd1Y"
      }
    },
    {
      "cell_type": "code",
      "execution_count": null,
      "metadata": {
        "id": "AsrktH8579z0"
      },
      "outputs": [],
      "source": [
        "from google.cloud import bigquery\n",
        "from collections import OrderedDict\n",
        "import matplotlib.pyplot as plt\n",
        "import numpy as np\n",
        "import pandas as pd\n",
        "import seaborn as sns"
      ]
    },
    {
      "cell_type": "code",
      "source": [
        "from sklearn.model_selection import train_test_split\n",
        "from sklearn.preprocessing import MinMaxScaler\n",
        "from sklearn.linear_model import LinearRegression\n",
        "from sklearn.preprocessing import OneHotEncoder\n",
        "from sklearn.preprocessing import Normalizer\n",
        "\n",
        "from sklearn.impute import SimpleImputer\n",
        "from sklearn.pipeline import Pipeline\n",
        "from sklearn.pipeline import make_pipeline\n",
        "from sklearn.preprocessing import OrdinalEncoder\n",
        "from sklearn.compose import ColumnTransformer\n",
        "from sklearn.feature_selection import SelectPercentile\n",
        "from sklearn.feature_selection import chi2\n",
        "from sklearn.compose import make_column_selector as selector\n",
        "from sklearn.metrics import mean_squared_error, r2_score, mean_absolute_error\n",
        "from sklearn.compose import make_column_transformer"
      ],
      "metadata": {
        "id": "7MRU28jT8WNG"
      },
      "execution_count": null,
      "outputs": []
    },
    {
      "cell_type": "code",
      "source": [
        "from google.colab import auth\n",
        "auth.authenticate_user()"
      ],
      "metadata": {
        "id": "zJakMpNz8X2h"
      },
      "execution_count": null,
      "outputs": []
    },
    {
      "cell_type": "code",
      "source": [
        "projeto = 'mimic-ml-01' # Project ID inserted based on the query results selected to explore\n",
        "location = 'US' # Location inserted based on the query results selected to explore\n",
        "\n",
        "dataset_hosp = 'physionet-data.mimiciv_hosp'\n",
        "dataset_icu = 'physionet-data.mimiciv_icu'\n",
        "dataset_ed = 'physionet-data.mimiciv_ed'\n",
        "dataset_note = 'physionet-data.mimiciv_note'\n",
        "dataset_cxr = 'physionet-data.mimic_cxr'"
      ],
      "metadata": {
        "id": "Io4rtzwa8ZpT"
      },
      "execution_count": null,
      "outputs": []
    },
    {
      "cell_type": "markdown",
      "source": [
        "## 1. Seleção da amostra"
      ],
      "metadata": {
        "id": "gVyxm6LwVlYw"
      }
    },
    {
      "cell_type": "code",
      "source": [
        "sql = \"\"\"\n",
        "SELECT * FROM `\"\"\" + dataset_icu + \"\"\".icustays`;\"\"\"\n",
        "estadias_icu = pd.read_gbq(sql, projeto) "
      ],
      "metadata": {
        "id": "5PgBhIN38d2k"
      },
      "execution_count": null,
      "outputs": []
    },
    {
      "cell_type": "code",
      "source": [
        "estadias_icu.shape"
      ],
      "metadata": {
        "colab": {
          "base_uri": "https://localhost:8080/"
        },
        "id": "RCI2LDAO9DYU",
        "outputId": "4f666963-e6f2-44a7-cba3-98bd7bfc1a71"
      },
      "execution_count": null,
      "outputs": [
        {
          "output_type": "execute_result",
          "data": {
            "text/plain": [
              "(73181, 8)"
            ]
          },
          "metadata": {},
          "execution_count": 6
        }
      ]
    },
    {
      "cell_type": "markdown",
      "source": [
        "> *Patients who stayed in the ICU for at least 1 day. We considered their data for only the first day.*\n",
        "\n"
      ],
      "metadata": {
        "id": "2MQfcTDK9fFd"
      }
    },
    {
      "cell_type": "code",
      "source": [
        "estadias_icu = estadias_icu[estadias_icu['los'] > 1]\n",
        "estadias_icu.shape"
      ],
      "metadata": {
        "colab": {
          "base_uri": "https://localhost:8080/"
        },
        "id": "o3pHXtrq8yca",
        "outputId": "1c7b2897-e720-4e96-9986-0d86d65eacdc"
      },
      "execution_count": null,
      "outputs": [
        {
          "output_type": "execute_result",
          "data": {
            "text/plain": [
              "(57732, 8)"
            ]
          },
          "metadata": {},
          "execution_count": 7
        }
      ]
    },
    {
      "cell_type": "code",
      "source": [
        "estadias_icu['stay_id'].unique().size"
      ],
      "metadata": {
        "colab": {
          "base_uri": "https://localhost:8080/"
        },
        "id": "x6zF-lSB83hM",
        "outputId": "85abfbc9-728b-44a6-b409-c71c7cc08dd0"
      },
      "execution_count": null,
      "outputs": [
        {
          "output_type": "execute_result",
          "data": {
            "text/plain": [
              "57732"
            ]
          },
          "metadata": {},
          "execution_count": 8
        }
      ]
    },
    {
      "cell_type": "code",
      "source": [
        "estadias_icu.head()"
      ],
      "metadata": {
        "colab": {
          "base_uri": "https://localhost:8080/",
          "height": 206
        },
        "id": "sT_O9XmfaKtS",
        "outputId": "eb9de1bb-e8c1-482c-91e5-14116c224ead"
      },
      "execution_count": null,
      "outputs": [
        {
          "output_type": "execute_result",
          "data": {
            "text/plain": [
              "   subject_id   hadm_id   stay_id  first_careunit   last_careunit  \\\n",
              "0    10004113  29879900  35200789  Neuro Stepdown  Neuro Stepdown   \n",
              "1    10018328  23786647  31269608  Neuro Stepdown  Neuro Stepdown   \n",
              "2    10019607  24546857  34178938  Neuro Stepdown  Neuro Stepdown   \n",
              "4    10028930  26238833  33941522  Neuro Stepdown  Neuro Stepdown   \n",
              "5    10067921  27475639  31097260  Neuro Stepdown  Neuro Stepdown   \n",
              "\n",
              "               intime             outtime       los  \n",
              "0 2173-03-20 20:16:36 2173-03-21 21:43:59  1.060683  \n",
              "1 2154-04-24 23:03:44 2154-05-02 15:55:21  7.702512  \n",
              "2 2167-03-19 17:37:39 2167-03-21 13:12:28  1.815845  \n",
              "4 2172-08-28 13:11:37 2172-08-29 14:19:35  1.047199  \n",
              "5 2128-07-15 00:55:00 2128-07-16 11:41:23  1.448877  "
            ],
            "text/html": [
              "\n",
              "  <div id=\"df-e634cc6b-476d-461f-8894-eb44d00c19ed\">\n",
              "    <div class=\"colab-df-container\">\n",
              "      <div>\n",
              "<style scoped>\n",
              "    .dataframe tbody tr th:only-of-type {\n",
              "        vertical-align: middle;\n",
              "    }\n",
              "\n",
              "    .dataframe tbody tr th {\n",
              "        vertical-align: top;\n",
              "    }\n",
              "\n",
              "    .dataframe thead th {\n",
              "        text-align: right;\n",
              "    }\n",
              "</style>\n",
              "<table border=\"1\" class=\"dataframe\">\n",
              "  <thead>\n",
              "    <tr style=\"text-align: right;\">\n",
              "      <th></th>\n",
              "      <th>subject_id</th>\n",
              "      <th>hadm_id</th>\n",
              "      <th>stay_id</th>\n",
              "      <th>first_careunit</th>\n",
              "      <th>last_careunit</th>\n",
              "      <th>intime</th>\n",
              "      <th>outtime</th>\n",
              "      <th>los</th>\n",
              "    </tr>\n",
              "  </thead>\n",
              "  <tbody>\n",
              "    <tr>\n",
              "      <th>0</th>\n",
              "      <td>10004113</td>\n",
              "      <td>29879900</td>\n",
              "      <td>35200789</td>\n",
              "      <td>Neuro Stepdown</td>\n",
              "      <td>Neuro Stepdown</td>\n",
              "      <td>2173-03-20 20:16:36</td>\n",
              "      <td>2173-03-21 21:43:59</td>\n",
              "      <td>1.060683</td>\n",
              "    </tr>\n",
              "    <tr>\n",
              "      <th>1</th>\n",
              "      <td>10018328</td>\n",
              "      <td>23786647</td>\n",
              "      <td>31269608</td>\n",
              "      <td>Neuro Stepdown</td>\n",
              "      <td>Neuro Stepdown</td>\n",
              "      <td>2154-04-24 23:03:44</td>\n",
              "      <td>2154-05-02 15:55:21</td>\n",
              "      <td>7.702512</td>\n",
              "    </tr>\n",
              "    <tr>\n",
              "      <th>2</th>\n",
              "      <td>10019607</td>\n",
              "      <td>24546857</td>\n",
              "      <td>34178938</td>\n",
              "      <td>Neuro Stepdown</td>\n",
              "      <td>Neuro Stepdown</td>\n",
              "      <td>2167-03-19 17:37:39</td>\n",
              "      <td>2167-03-21 13:12:28</td>\n",
              "      <td>1.815845</td>\n",
              "    </tr>\n",
              "    <tr>\n",
              "      <th>4</th>\n",
              "      <td>10028930</td>\n",
              "      <td>26238833</td>\n",
              "      <td>33941522</td>\n",
              "      <td>Neuro Stepdown</td>\n",
              "      <td>Neuro Stepdown</td>\n",
              "      <td>2172-08-28 13:11:37</td>\n",
              "      <td>2172-08-29 14:19:35</td>\n",
              "      <td>1.047199</td>\n",
              "    </tr>\n",
              "    <tr>\n",
              "      <th>5</th>\n",
              "      <td>10067921</td>\n",
              "      <td>27475639</td>\n",
              "      <td>31097260</td>\n",
              "      <td>Neuro Stepdown</td>\n",
              "      <td>Neuro Stepdown</td>\n",
              "      <td>2128-07-15 00:55:00</td>\n",
              "      <td>2128-07-16 11:41:23</td>\n",
              "      <td>1.448877</td>\n",
              "    </tr>\n",
              "  </tbody>\n",
              "</table>\n",
              "</div>\n",
              "      <button class=\"colab-df-convert\" onclick=\"convertToInteractive('df-e634cc6b-476d-461f-8894-eb44d00c19ed')\"\n",
              "              title=\"Convert this dataframe to an interactive table.\"\n",
              "              style=\"display:none;\">\n",
              "        \n",
              "  <svg xmlns=\"http://www.w3.org/2000/svg\" height=\"24px\"viewBox=\"0 0 24 24\"\n",
              "       width=\"24px\">\n",
              "    <path d=\"M0 0h24v24H0V0z\" fill=\"none\"/>\n",
              "    <path d=\"M18.56 5.44l.94 2.06.94-2.06 2.06-.94-2.06-.94-.94-2.06-.94 2.06-2.06.94zm-11 1L8.5 8.5l.94-2.06 2.06-.94-2.06-.94L8.5 2.5l-.94 2.06-2.06.94zm10 10l.94 2.06.94-2.06 2.06-.94-2.06-.94-.94-2.06-.94 2.06-2.06.94z\"/><path d=\"M17.41 7.96l-1.37-1.37c-.4-.4-.92-.59-1.43-.59-.52 0-1.04.2-1.43.59L10.3 9.45l-7.72 7.72c-.78.78-.78 2.05 0 2.83L4 21.41c.39.39.9.59 1.41.59.51 0 1.02-.2 1.41-.59l7.78-7.78 2.81-2.81c.8-.78.8-2.07 0-2.86zM5.41 20L4 18.59l7.72-7.72 1.47 1.35L5.41 20z\"/>\n",
              "  </svg>\n",
              "      </button>\n",
              "      \n",
              "  <style>\n",
              "    .colab-df-container {\n",
              "      display:flex;\n",
              "      flex-wrap:wrap;\n",
              "      gap: 12px;\n",
              "    }\n",
              "\n",
              "    .colab-df-convert {\n",
              "      background-color: #E8F0FE;\n",
              "      border: none;\n",
              "      border-radius: 50%;\n",
              "      cursor: pointer;\n",
              "      display: none;\n",
              "      fill: #1967D2;\n",
              "      height: 32px;\n",
              "      padding: 0 0 0 0;\n",
              "      width: 32px;\n",
              "    }\n",
              "\n",
              "    .colab-df-convert:hover {\n",
              "      background-color: #E2EBFA;\n",
              "      box-shadow: 0px 1px 2px rgba(60, 64, 67, 0.3), 0px 1px 3px 1px rgba(60, 64, 67, 0.15);\n",
              "      fill: #174EA6;\n",
              "    }\n",
              "\n",
              "    [theme=dark] .colab-df-convert {\n",
              "      background-color: #3B4455;\n",
              "      fill: #D2E3FC;\n",
              "    }\n",
              "\n",
              "    [theme=dark] .colab-df-convert:hover {\n",
              "      background-color: #434B5C;\n",
              "      box-shadow: 0px 1px 3px 1px rgba(0, 0, 0, 0.15);\n",
              "      filter: drop-shadow(0px 1px 2px rgba(0, 0, 0, 0.3));\n",
              "      fill: #FFFFFF;\n",
              "    }\n",
              "  </style>\n",
              "\n",
              "      <script>\n",
              "        const buttonEl =\n",
              "          document.querySelector('#df-e634cc6b-476d-461f-8894-eb44d00c19ed button.colab-df-convert');\n",
              "        buttonEl.style.display =\n",
              "          google.colab.kernel.accessAllowed ? 'block' : 'none';\n",
              "\n",
              "        async function convertToInteractive(key) {\n",
              "          const element = document.querySelector('#df-e634cc6b-476d-461f-8894-eb44d00c19ed');\n",
              "          const dataTable =\n",
              "            await google.colab.kernel.invokeFunction('convertToInteractive',\n",
              "                                                     [key], {});\n",
              "          if (!dataTable) return;\n",
              "\n",
              "          const docLinkHtml = 'Like what you see? Visit the ' +\n",
              "            '<a target=\"_blank\" href=https://colab.research.google.com/notebooks/data_table.ipynb>data table notebook</a>'\n",
              "            + ' to learn more about interactive tables.';\n",
              "          element.innerHTML = '';\n",
              "          dataTable['output_type'] = 'display_data';\n",
              "          await google.colab.output.renderOutput(dataTable, element);\n",
              "          const docLink = document.createElement('div');\n",
              "          docLink.innerHTML = docLinkHtml;\n",
              "          element.appendChild(docLink);\n",
              "        }\n",
              "      </script>\n",
              "    </div>\n",
              "  </div>\n",
              "  "
            ]
          },
          "metadata": {},
          "execution_count": 9
        }
      ]
    },
    {
      "cell_type": "code",
      "source": [
        "estadias_icu = estadias_icu.loc[:,['subject_id','hadm_id','stay_id','los']].drop_duplicates()"
      ],
      "metadata": {
        "id": "2Kln4c61BY7Z"
      },
      "execution_count": null,
      "outputs": []
    },
    {
      "cell_type": "markdown",
      "source": [
        "\n",
        "\n",
        "> *We focused on six vital sign features (body temperature, heart rate, respiration rate, systolic blood pressure, diastolic blood pressure, and oxygen saturation [SpO2]) along with glucose level.*\n"
      ],
      "metadata": {
        "id": "0Ho7pvivCPG5"
      }
    },
    {
      "cell_type": "markdown",
      "source": [
        "* Seleção dos sinais vitais dos pacientes nas primeiras 24h.\n",
        "* A consulta abaixo foi baseada em https://github.com/MIT-LCP/mimic-iv/blob/master/concepts/firstday/first_day_vitalsign.sql."
      ],
      "metadata": {
        "id": "9nRemiBIGs8w"
      }
    },
    {
      "cell_type": "code",
      "source": [
        "sql = \"\"\"\n",
        "-- This query pivots vital signs and aggregates them\n",
        "-- for the first 24 hours of a patient's stay.\n",
        "SELECT\n",
        "ie.subject_id\n",
        ", ie.stay_id\n",
        ", MIN(heart_rate) AS heart_rate_min\n",
        ", MAX(heart_rate) AS heart_rate_max\n",
        ", AVG(heart_rate) AS heart_rate_mean\n",
        ", MIN(sbp) AS sbp_min\n",
        ", MAX(sbp) AS sbp_max\n",
        ", AVG(sbp) AS sbp_mean\n",
        ", MIN(dbp) AS dbp_min\n",
        ", MAX(dbp) AS dbp_max\n",
        ", AVG(dbp) AS dbp_mean\n",
        ", MIN(mbp) AS mbp_min\n",
        ", MAX(mbp) AS mbp_max\n",
        ", AVG(mbp) AS mbp_mean\n",
        ", MIN(resp_rate) AS resp_rate_min\n",
        ", MAX(resp_rate) AS resp_rate_max\n",
        ", AVG(resp_rate) AS resp_rate_mean\n",
        ", MIN(temperature) AS temperature_min\n",
        ", MAX(temperature) AS temperature_max\n",
        ", AVG(temperature) AS temperature_mean\n",
        ", MIN(spo2) AS spo2_min\n",
        ", MAX(spo2) AS spo2_max\n",
        ", AVG(spo2) AS spo2_mean\n",
        ", MIN(glucose) AS glucose_min\n",
        ", MAX(glucose) AS glucose_max\n",
        ", AVG(glucose) AS glucose_mean\n",
        "FROM `physionet-data.mimiciv_icu.icustays` ie\n",
        "LEFT JOIN `physionet-data.mimiciv_derived.vitalsign` ce\n",
        "    ON ie.stay_id = ce.stay_id\n",
        "    AND ce.charttime >= DATETIME_SUB(ie.intime, INTERVAL '6' HOUR)\n",
        "    AND ce.charttime <= DATETIME_ADD(ie.intime, INTERVAL '1' DAY)\n",
        "GROUP BY ie.subject_id, ie.stay_id;\"\"\"\n",
        "\n",
        "sinais_vitais_dia1 = pd.read_gbq(sql, projeto)"
      ],
      "metadata": {
        "id": "fX2hKJMQGtaQ"
      },
      "execution_count": null,
      "outputs": []
    },
    {
      "cell_type": "code",
      "source": [
        "sinais_vitais_dia1.head()"
      ],
      "metadata": {
        "colab": {
          "base_uri": "https://localhost:8080/",
          "height": 300
        },
        "id": "NEqYPNWlWn3t",
        "outputId": "2e1a8b32-d523-481c-d816-b34f342c15c8"
      },
      "execution_count": null,
      "outputs": [
        {
          "output_type": "execute_result",
          "data": {
            "text/plain": [
              "   subject_id   stay_id  heart_rate_min  heart_rate_max  heart_rate_mean  \\\n",
              "0    17375900  34942552            74.0           109.0        89.625000   \n",
              "1    12614621  37408921            70.0           104.0        85.333333   \n",
              "2    12766546  39448784            67.0            90.0        80.750000   \n",
              "3    15678285  33352302            60.0            63.0        60.166667   \n",
              "4    17853367  38547150            84.0           135.0       111.000000   \n",
              "\n",
              "   sbp_min  sbp_max    sbp_mean  dbp_min  dbp_max  ...  resp_rate_mean  \\\n",
              "0    140.0    207.0  179.000000     84.0    117.0  ...       14.125000   \n",
              "1    125.0    155.0  138.250000     72.0    119.0  ...       17.466667   \n",
              "2    138.0    152.0  145.000000     88.0     95.0  ...       18.000000   \n",
              "3    104.0    161.0  144.473684     71.0    111.0  ...       20.958333   \n",
              "4    120.0    169.0  148.500000     78.0    110.0  ...       22.769231   \n",
              "\n",
              "   temperature_min  temperature_max  temperature_mean  spo2_min  spo2_max  \\\n",
              "0     36.390000000     37.560000000      36.851666667      97.0     100.0   \n",
              "1     36.670000000     37.170000000      36.898571429      96.0      98.0   \n",
              "2     36.890000000     36.890000000      36.890000000      98.0      99.0   \n",
              "3     36.670000000     37.110000000      36.856000000      91.0     100.0   \n",
              "4     37.170000000     37.610000000      37.343333333      95.0     100.0   \n",
              "\n",
              "   spo2_mean glucose_min glucose_max glucose_mean  \n",
              "0  99.083333       110.0       243.0   180.857143  \n",
              "1  96.444444        74.0       123.0    94.200000  \n",
              "2  98.500000       114.0       114.0   114.000000  \n",
              "3  96.166667        96.0        96.0    96.000000  \n",
              "4  97.346154       101.0       124.0   110.000000  \n",
              "\n",
              "[5 rows x 26 columns]"
            ],
            "text/html": [
              "\n",
              "  <div id=\"df-40c04000-8dea-4bbe-959d-a4d00f1ca9b3\">\n",
              "    <div class=\"colab-df-container\">\n",
              "      <div>\n",
              "<style scoped>\n",
              "    .dataframe tbody tr th:only-of-type {\n",
              "        vertical-align: middle;\n",
              "    }\n",
              "\n",
              "    .dataframe tbody tr th {\n",
              "        vertical-align: top;\n",
              "    }\n",
              "\n",
              "    .dataframe thead th {\n",
              "        text-align: right;\n",
              "    }\n",
              "</style>\n",
              "<table border=\"1\" class=\"dataframe\">\n",
              "  <thead>\n",
              "    <tr style=\"text-align: right;\">\n",
              "      <th></th>\n",
              "      <th>subject_id</th>\n",
              "      <th>stay_id</th>\n",
              "      <th>heart_rate_min</th>\n",
              "      <th>heart_rate_max</th>\n",
              "      <th>heart_rate_mean</th>\n",
              "      <th>sbp_min</th>\n",
              "      <th>sbp_max</th>\n",
              "      <th>sbp_mean</th>\n",
              "      <th>dbp_min</th>\n",
              "      <th>dbp_max</th>\n",
              "      <th>...</th>\n",
              "      <th>resp_rate_mean</th>\n",
              "      <th>temperature_min</th>\n",
              "      <th>temperature_max</th>\n",
              "      <th>temperature_mean</th>\n",
              "      <th>spo2_min</th>\n",
              "      <th>spo2_max</th>\n",
              "      <th>spo2_mean</th>\n",
              "      <th>glucose_min</th>\n",
              "      <th>glucose_max</th>\n",
              "      <th>glucose_mean</th>\n",
              "    </tr>\n",
              "  </thead>\n",
              "  <tbody>\n",
              "    <tr>\n",
              "      <th>0</th>\n",
              "      <td>17375900</td>\n",
              "      <td>34942552</td>\n",
              "      <td>74.0</td>\n",
              "      <td>109.0</td>\n",
              "      <td>89.625000</td>\n",
              "      <td>140.0</td>\n",
              "      <td>207.0</td>\n",
              "      <td>179.000000</td>\n",
              "      <td>84.0</td>\n",
              "      <td>117.0</td>\n",
              "      <td>...</td>\n",
              "      <td>14.125000</td>\n",
              "      <td>36.390000000</td>\n",
              "      <td>37.560000000</td>\n",
              "      <td>36.851666667</td>\n",
              "      <td>97.0</td>\n",
              "      <td>100.0</td>\n",
              "      <td>99.083333</td>\n",
              "      <td>110.0</td>\n",
              "      <td>243.0</td>\n",
              "      <td>180.857143</td>\n",
              "    </tr>\n",
              "    <tr>\n",
              "      <th>1</th>\n",
              "      <td>12614621</td>\n",
              "      <td>37408921</td>\n",
              "      <td>70.0</td>\n",
              "      <td>104.0</td>\n",
              "      <td>85.333333</td>\n",
              "      <td>125.0</td>\n",
              "      <td>155.0</td>\n",
              "      <td>138.250000</td>\n",
              "      <td>72.0</td>\n",
              "      <td>119.0</td>\n",
              "      <td>...</td>\n",
              "      <td>17.466667</td>\n",
              "      <td>36.670000000</td>\n",
              "      <td>37.170000000</td>\n",
              "      <td>36.898571429</td>\n",
              "      <td>96.0</td>\n",
              "      <td>98.0</td>\n",
              "      <td>96.444444</td>\n",
              "      <td>74.0</td>\n",
              "      <td>123.0</td>\n",
              "      <td>94.200000</td>\n",
              "    </tr>\n",
              "    <tr>\n",
              "      <th>2</th>\n",
              "      <td>12766546</td>\n",
              "      <td>39448784</td>\n",
              "      <td>67.0</td>\n",
              "      <td>90.0</td>\n",
              "      <td>80.750000</td>\n",
              "      <td>138.0</td>\n",
              "      <td>152.0</td>\n",
              "      <td>145.000000</td>\n",
              "      <td>88.0</td>\n",
              "      <td>95.0</td>\n",
              "      <td>...</td>\n",
              "      <td>18.000000</td>\n",
              "      <td>36.890000000</td>\n",
              "      <td>36.890000000</td>\n",
              "      <td>36.890000000</td>\n",
              "      <td>98.0</td>\n",
              "      <td>99.0</td>\n",
              "      <td>98.500000</td>\n",
              "      <td>114.0</td>\n",
              "      <td>114.0</td>\n",
              "      <td>114.000000</td>\n",
              "    </tr>\n",
              "    <tr>\n",
              "      <th>3</th>\n",
              "      <td>15678285</td>\n",
              "      <td>33352302</td>\n",
              "      <td>60.0</td>\n",
              "      <td>63.0</td>\n",
              "      <td>60.166667</td>\n",
              "      <td>104.0</td>\n",
              "      <td>161.0</td>\n",
              "      <td>144.473684</td>\n",
              "      <td>71.0</td>\n",
              "      <td>111.0</td>\n",
              "      <td>...</td>\n",
              "      <td>20.958333</td>\n",
              "      <td>36.670000000</td>\n",
              "      <td>37.110000000</td>\n",
              "      <td>36.856000000</td>\n",
              "      <td>91.0</td>\n",
              "      <td>100.0</td>\n",
              "      <td>96.166667</td>\n",
              "      <td>96.0</td>\n",
              "      <td>96.0</td>\n",
              "      <td>96.000000</td>\n",
              "    </tr>\n",
              "    <tr>\n",
              "      <th>4</th>\n",
              "      <td>17853367</td>\n",
              "      <td>38547150</td>\n",
              "      <td>84.0</td>\n",
              "      <td>135.0</td>\n",
              "      <td>111.000000</td>\n",
              "      <td>120.0</td>\n",
              "      <td>169.0</td>\n",
              "      <td>148.500000</td>\n",
              "      <td>78.0</td>\n",
              "      <td>110.0</td>\n",
              "      <td>...</td>\n",
              "      <td>22.769231</td>\n",
              "      <td>37.170000000</td>\n",
              "      <td>37.610000000</td>\n",
              "      <td>37.343333333</td>\n",
              "      <td>95.0</td>\n",
              "      <td>100.0</td>\n",
              "      <td>97.346154</td>\n",
              "      <td>101.0</td>\n",
              "      <td>124.0</td>\n",
              "      <td>110.000000</td>\n",
              "    </tr>\n",
              "  </tbody>\n",
              "</table>\n",
              "<p>5 rows × 26 columns</p>\n",
              "</div>\n",
              "      <button class=\"colab-df-convert\" onclick=\"convertToInteractive('df-40c04000-8dea-4bbe-959d-a4d00f1ca9b3')\"\n",
              "              title=\"Convert this dataframe to an interactive table.\"\n",
              "              style=\"display:none;\">\n",
              "        \n",
              "  <svg xmlns=\"http://www.w3.org/2000/svg\" height=\"24px\"viewBox=\"0 0 24 24\"\n",
              "       width=\"24px\">\n",
              "    <path d=\"M0 0h24v24H0V0z\" fill=\"none\"/>\n",
              "    <path d=\"M18.56 5.44l.94 2.06.94-2.06 2.06-.94-2.06-.94-.94-2.06-.94 2.06-2.06.94zm-11 1L8.5 8.5l.94-2.06 2.06-.94-2.06-.94L8.5 2.5l-.94 2.06-2.06.94zm10 10l.94 2.06.94-2.06 2.06-.94-2.06-.94-.94-2.06-.94 2.06-2.06.94z\"/><path d=\"M17.41 7.96l-1.37-1.37c-.4-.4-.92-.59-1.43-.59-.52 0-1.04.2-1.43.59L10.3 9.45l-7.72 7.72c-.78.78-.78 2.05 0 2.83L4 21.41c.39.39.9.59 1.41.59.51 0 1.02-.2 1.41-.59l7.78-7.78 2.81-2.81c.8-.78.8-2.07 0-2.86zM5.41 20L4 18.59l7.72-7.72 1.47 1.35L5.41 20z\"/>\n",
              "  </svg>\n",
              "      </button>\n",
              "      \n",
              "  <style>\n",
              "    .colab-df-container {\n",
              "      display:flex;\n",
              "      flex-wrap:wrap;\n",
              "      gap: 12px;\n",
              "    }\n",
              "\n",
              "    .colab-df-convert {\n",
              "      background-color: #E8F0FE;\n",
              "      border: none;\n",
              "      border-radius: 50%;\n",
              "      cursor: pointer;\n",
              "      display: none;\n",
              "      fill: #1967D2;\n",
              "      height: 32px;\n",
              "      padding: 0 0 0 0;\n",
              "      width: 32px;\n",
              "    }\n",
              "\n",
              "    .colab-df-convert:hover {\n",
              "      background-color: #E2EBFA;\n",
              "      box-shadow: 0px 1px 2px rgba(60, 64, 67, 0.3), 0px 1px 3px 1px rgba(60, 64, 67, 0.15);\n",
              "      fill: #174EA6;\n",
              "    }\n",
              "\n",
              "    [theme=dark] .colab-df-convert {\n",
              "      background-color: #3B4455;\n",
              "      fill: #D2E3FC;\n",
              "    }\n",
              "\n",
              "    [theme=dark] .colab-df-convert:hover {\n",
              "      background-color: #434B5C;\n",
              "      box-shadow: 0px 1px 3px 1px rgba(0, 0, 0, 0.15);\n",
              "      filter: drop-shadow(0px 1px 2px rgba(0, 0, 0, 0.3));\n",
              "      fill: #FFFFFF;\n",
              "    }\n",
              "  </style>\n",
              "\n",
              "      <script>\n",
              "        const buttonEl =\n",
              "          document.querySelector('#df-40c04000-8dea-4bbe-959d-a4d00f1ca9b3 button.colab-df-convert');\n",
              "        buttonEl.style.display =\n",
              "          google.colab.kernel.accessAllowed ? 'block' : 'none';\n",
              "\n",
              "        async function convertToInteractive(key) {\n",
              "          const element = document.querySelector('#df-40c04000-8dea-4bbe-959d-a4d00f1ca9b3');\n",
              "          const dataTable =\n",
              "            await google.colab.kernel.invokeFunction('convertToInteractive',\n",
              "                                                     [key], {});\n",
              "          if (!dataTable) return;\n",
              "\n",
              "          const docLinkHtml = 'Like what you see? Visit the ' +\n",
              "            '<a target=\"_blank\" href=https://colab.research.google.com/notebooks/data_table.ipynb>data table notebook</a>'\n",
              "            + ' to learn more about interactive tables.';\n",
              "          element.innerHTML = '';\n",
              "          dataTable['output_type'] = 'display_data';\n",
              "          await google.colab.output.renderOutput(dataTable, element);\n",
              "          const docLink = document.createElement('div');\n",
              "          docLink.innerHTML = docLinkHtml;\n",
              "          element.appendChild(docLink);\n",
              "        }\n",
              "      </script>\n",
              "    </div>\n",
              "  </div>\n",
              "  "
            ]
          },
          "metadata": {},
          "execution_count": 12
        }
      ]
    },
    {
      "cell_type": "code",
      "source": [
        "sinais_vitais_dia1['stay_id'].unique().size"
      ],
      "metadata": {
        "colab": {
          "base_uri": "https://localhost:8080/"
        },
        "id": "9d3FtTBeWt2r",
        "outputId": "47162ba9-ebda-4af5-ff19-32f048568feb"
      },
      "execution_count": null,
      "outputs": [
        {
          "output_type": "execute_result",
          "data": {
            "text/plain": [
              "73181"
            ]
          },
          "metadata": {},
          "execution_count": 13
        }
      ]
    },
    {
      "cell_type": "code",
      "source": [
        "sinais_vitais_dia1.shape"
      ],
      "metadata": {
        "colab": {
          "base_uri": "https://localhost:8080/"
        },
        "id": "yVOD2XyPWyef",
        "outputId": "b8598dfb-c075-4f8a-8c09-b9d0506aa9e4"
      },
      "execution_count": null,
      "outputs": [
        {
          "output_type": "execute_result",
          "data": {
            "text/plain": [
              "(73181, 26)"
            ]
          },
          "metadata": {},
          "execution_count": 14
        }
      ]
    },
    {
      "cell_type": "markdown",
      "source": [
        "* Considerar apenas os pacientes que passaram pelo menos 1 dia no CTI."
      ],
      "metadata": {
        "id": "QD-OI0ssbyXv"
      }
    },
    {
      "cell_type": "code",
      "source": [
        "df_completo = pd.merge(estadias_icu, sinais_vitais_dia1, on=['subject_id','stay_id'])\n",
        "df_completo.shape"
      ],
      "metadata": {
        "colab": {
          "base_uri": "https://localhost:8080/"
        },
        "id": "SSgTyj6mTZtG",
        "outputId": "4594daba-f3ec-4aa4-b531-cecd0a128d43"
      },
      "execution_count": null,
      "outputs": [
        {
          "output_type": "execute_result",
          "data": {
            "text/plain": [
              "(57732, 28)"
            ]
          },
          "metadata": {},
          "execution_count": 15
        }
      ]
    },
    {
      "cell_type": "code",
      "source": [
        "df_completo.head()"
      ],
      "metadata": {
        "colab": {
          "base_uri": "https://localhost:8080/",
          "height": 300
        },
        "id": "jWUAx9M4TkQg",
        "outputId": "2c8e712c-66f0-462d-aa33-ce92dc975a13"
      },
      "execution_count": null,
      "outputs": [
        {
          "output_type": "execute_result",
          "data": {
            "text/plain": [
              "   subject_id   hadm_id   stay_id       los  heart_rate_min  heart_rate_max  \\\n",
              "0    10004113  29879900  35200789  1.060683            63.0           101.0   \n",
              "1    10018328  23786647  31269608  7.702512            65.0            93.0   \n",
              "2    10019607  24546857  34178938  1.815845            56.0            93.0   \n",
              "3    10028930  26238833  33941522  1.047199            55.0            94.0   \n",
              "4    10067921  27475639  31097260  1.448877            54.0            74.0   \n",
              "\n",
              "   heart_rate_mean  sbp_min  sbp_max    sbp_mean  ...  resp_rate_mean  \\\n",
              "0        75.760000     98.0    124.0  112.000000  ...       14.680000   \n",
              "1        75.846154    108.0    147.0  124.846154  ...       20.576923   \n",
              "2        70.888889    101.0    125.0  109.000000  ...       16.352941   \n",
              "3        72.176471    110.0    140.0  125.214286  ...       18.437500   \n",
              "4        65.187500    110.0    153.0  132.176471  ...       15.000000   \n",
              "\n",
              "   temperature_min  temperature_max  temperature_mean  spo2_min  spo2_max  \\\n",
              "0     36.890000000     37.390000000      37.112500000      98.0     100.0   \n",
              "1     36.390000000     36.830000000      36.620000000      91.0     100.0   \n",
              "2     36.560000000     37.720000000      36.815000000      96.0     100.0   \n",
              "3     36.780000000     37.060000000      36.905714286      95.0      99.0   \n",
              "4     36.440000000     37.060000000      36.762857143      96.0     100.0   \n",
              "\n",
              "   spo2_mean  glucose_min  glucose_max glucose_mean  \n",
              "0  98.600000         91.0         91.0         91.0  \n",
              "1  95.884615        174.0        213.0        189.8  \n",
              "2  97.705882        100.0        113.0        106.5  \n",
              "3  97.000000        103.0        108.0        105.5  \n",
              "4  97.625000         83.0         83.0         83.0  \n",
              "\n",
              "[5 rows x 28 columns]"
            ],
            "text/html": [
              "\n",
              "  <div id=\"df-293ab1bf-bfba-4863-8c3d-f3fced064aec\">\n",
              "    <div class=\"colab-df-container\">\n",
              "      <div>\n",
              "<style scoped>\n",
              "    .dataframe tbody tr th:only-of-type {\n",
              "        vertical-align: middle;\n",
              "    }\n",
              "\n",
              "    .dataframe tbody tr th {\n",
              "        vertical-align: top;\n",
              "    }\n",
              "\n",
              "    .dataframe thead th {\n",
              "        text-align: right;\n",
              "    }\n",
              "</style>\n",
              "<table border=\"1\" class=\"dataframe\">\n",
              "  <thead>\n",
              "    <tr style=\"text-align: right;\">\n",
              "      <th></th>\n",
              "      <th>subject_id</th>\n",
              "      <th>hadm_id</th>\n",
              "      <th>stay_id</th>\n",
              "      <th>los</th>\n",
              "      <th>heart_rate_min</th>\n",
              "      <th>heart_rate_max</th>\n",
              "      <th>heart_rate_mean</th>\n",
              "      <th>sbp_min</th>\n",
              "      <th>sbp_max</th>\n",
              "      <th>sbp_mean</th>\n",
              "      <th>...</th>\n",
              "      <th>resp_rate_mean</th>\n",
              "      <th>temperature_min</th>\n",
              "      <th>temperature_max</th>\n",
              "      <th>temperature_mean</th>\n",
              "      <th>spo2_min</th>\n",
              "      <th>spo2_max</th>\n",
              "      <th>spo2_mean</th>\n",
              "      <th>glucose_min</th>\n",
              "      <th>glucose_max</th>\n",
              "      <th>glucose_mean</th>\n",
              "    </tr>\n",
              "  </thead>\n",
              "  <tbody>\n",
              "    <tr>\n",
              "      <th>0</th>\n",
              "      <td>10004113</td>\n",
              "      <td>29879900</td>\n",
              "      <td>35200789</td>\n",
              "      <td>1.060683</td>\n",
              "      <td>63.0</td>\n",
              "      <td>101.0</td>\n",
              "      <td>75.760000</td>\n",
              "      <td>98.0</td>\n",
              "      <td>124.0</td>\n",
              "      <td>112.000000</td>\n",
              "      <td>...</td>\n",
              "      <td>14.680000</td>\n",
              "      <td>36.890000000</td>\n",
              "      <td>37.390000000</td>\n",
              "      <td>37.112500000</td>\n",
              "      <td>98.0</td>\n",
              "      <td>100.0</td>\n",
              "      <td>98.600000</td>\n",
              "      <td>91.0</td>\n",
              "      <td>91.0</td>\n",
              "      <td>91.0</td>\n",
              "    </tr>\n",
              "    <tr>\n",
              "      <th>1</th>\n",
              "      <td>10018328</td>\n",
              "      <td>23786647</td>\n",
              "      <td>31269608</td>\n",
              "      <td>7.702512</td>\n",
              "      <td>65.0</td>\n",
              "      <td>93.0</td>\n",
              "      <td>75.846154</td>\n",
              "      <td>108.0</td>\n",
              "      <td>147.0</td>\n",
              "      <td>124.846154</td>\n",
              "      <td>...</td>\n",
              "      <td>20.576923</td>\n",
              "      <td>36.390000000</td>\n",
              "      <td>36.830000000</td>\n",
              "      <td>36.620000000</td>\n",
              "      <td>91.0</td>\n",
              "      <td>100.0</td>\n",
              "      <td>95.884615</td>\n",
              "      <td>174.0</td>\n",
              "      <td>213.0</td>\n",
              "      <td>189.8</td>\n",
              "    </tr>\n",
              "    <tr>\n",
              "      <th>2</th>\n",
              "      <td>10019607</td>\n",
              "      <td>24546857</td>\n",
              "      <td>34178938</td>\n",
              "      <td>1.815845</td>\n",
              "      <td>56.0</td>\n",
              "      <td>93.0</td>\n",
              "      <td>70.888889</td>\n",
              "      <td>101.0</td>\n",
              "      <td>125.0</td>\n",
              "      <td>109.000000</td>\n",
              "      <td>...</td>\n",
              "      <td>16.352941</td>\n",
              "      <td>36.560000000</td>\n",
              "      <td>37.720000000</td>\n",
              "      <td>36.815000000</td>\n",
              "      <td>96.0</td>\n",
              "      <td>100.0</td>\n",
              "      <td>97.705882</td>\n",
              "      <td>100.0</td>\n",
              "      <td>113.0</td>\n",
              "      <td>106.5</td>\n",
              "    </tr>\n",
              "    <tr>\n",
              "      <th>3</th>\n",
              "      <td>10028930</td>\n",
              "      <td>26238833</td>\n",
              "      <td>33941522</td>\n",
              "      <td>1.047199</td>\n",
              "      <td>55.0</td>\n",
              "      <td>94.0</td>\n",
              "      <td>72.176471</td>\n",
              "      <td>110.0</td>\n",
              "      <td>140.0</td>\n",
              "      <td>125.214286</td>\n",
              "      <td>...</td>\n",
              "      <td>18.437500</td>\n",
              "      <td>36.780000000</td>\n",
              "      <td>37.060000000</td>\n",
              "      <td>36.905714286</td>\n",
              "      <td>95.0</td>\n",
              "      <td>99.0</td>\n",
              "      <td>97.000000</td>\n",
              "      <td>103.0</td>\n",
              "      <td>108.0</td>\n",
              "      <td>105.5</td>\n",
              "    </tr>\n",
              "    <tr>\n",
              "      <th>4</th>\n",
              "      <td>10067921</td>\n",
              "      <td>27475639</td>\n",
              "      <td>31097260</td>\n",
              "      <td>1.448877</td>\n",
              "      <td>54.0</td>\n",
              "      <td>74.0</td>\n",
              "      <td>65.187500</td>\n",
              "      <td>110.0</td>\n",
              "      <td>153.0</td>\n",
              "      <td>132.176471</td>\n",
              "      <td>...</td>\n",
              "      <td>15.000000</td>\n",
              "      <td>36.440000000</td>\n",
              "      <td>37.060000000</td>\n",
              "      <td>36.762857143</td>\n",
              "      <td>96.0</td>\n",
              "      <td>100.0</td>\n",
              "      <td>97.625000</td>\n",
              "      <td>83.0</td>\n",
              "      <td>83.0</td>\n",
              "      <td>83.0</td>\n",
              "    </tr>\n",
              "  </tbody>\n",
              "</table>\n",
              "<p>5 rows × 28 columns</p>\n",
              "</div>\n",
              "      <button class=\"colab-df-convert\" onclick=\"convertToInteractive('df-293ab1bf-bfba-4863-8c3d-f3fced064aec')\"\n",
              "              title=\"Convert this dataframe to an interactive table.\"\n",
              "              style=\"display:none;\">\n",
              "        \n",
              "  <svg xmlns=\"http://www.w3.org/2000/svg\" height=\"24px\"viewBox=\"0 0 24 24\"\n",
              "       width=\"24px\">\n",
              "    <path d=\"M0 0h24v24H0V0z\" fill=\"none\"/>\n",
              "    <path d=\"M18.56 5.44l.94 2.06.94-2.06 2.06-.94-2.06-.94-.94-2.06-.94 2.06-2.06.94zm-11 1L8.5 8.5l.94-2.06 2.06-.94-2.06-.94L8.5 2.5l-.94 2.06-2.06.94zm10 10l.94 2.06.94-2.06 2.06-.94-2.06-.94-.94-2.06-.94 2.06-2.06.94z\"/><path d=\"M17.41 7.96l-1.37-1.37c-.4-.4-.92-.59-1.43-.59-.52 0-1.04.2-1.43.59L10.3 9.45l-7.72 7.72c-.78.78-.78 2.05 0 2.83L4 21.41c.39.39.9.59 1.41.59.51 0 1.02-.2 1.41-.59l7.78-7.78 2.81-2.81c.8-.78.8-2.07 0-2.86zM5.41 20L4 18.59l7.72-7.72 1.47 1.35L5.41 20z\"/>\n",
              "  </svg>\n",
              "      </button>\n",
              "      \n",
              "  <style>\n",
              "    .colab-df-container {\n",
              "      display:flex;\n",
              "      flex-wrap:wrap;\n",
              "      gap: 12px;\n",
              "    }\n",
              "\n",
              "    .colab-df-convert {\n",
              "      background-color: #E8F0FE;\n",
              "      border: none;\n",
              "      border-radius: 50%;\n",
              "      cursor: pointer;\n",
              "      display: none;\n",
              "      fill: #1967D2;\n",
              "      height: 32px;\n",
              "      padding: 0 0 0 0;\n",
              "      width: 32px;\n",
              "    }\n",
              "\n",
              "    .colab-df-convert:hover {\n",
              "      background-color: #E2EBFA;\n",
              "      box-shadow: 0px 1px 2px rgba(60, 64, 67, 0.3), 0px 1px 3px 1px rgba(60, 64, 67, 0.15);\n",
              "      fill: #174EA6;\n",
              "    }\n",
              "\n",
              "    [theme=dark] .colab-df-convert {\n",
              "      background-color: #3B4455;\n",
              "      fill: #D2E3FC;\n",
              "    }\n",
              "\n",
              "    [theme=dark] .colab-df-convert:hover {\n",
              "      background-color: #434B5C;\n",
              "      box-shadow: 0px 1px 3px 1px rgba(0, 0, 0, 0.15);\n",
              "      filter: drop-shadow(0px 1px 2px rgba(0, 0, 0, 0.3));\n",
              "      fill: #FFFFFF;\n",
              "    }\n",
              "  </style>\n",
              "\n",
              "      <script>\n",
              "        const buttonEl =\n",
              "          document.querySelector('#df-293ab1bf-bfba-4863-8c3d-f3fced064aec button.colab-df-convert');\n",
              "        buttonEl.style.display =\n",
              "          google.colab.kernel.accessAllowed ? 'block' : 'none';\n",
              "\n",
              "        async function convertToInteractive(key) {\n",
              "          const element = document.querySelector('#df-293ab1bf-bfba-4863-8c3d-f3fced064aec');\n",
              "          const dataTable =\n",
              "            await google.colab.kernel.invokeFunction('convertToInteractive',\n",
              "                                                     [key], {});\n",
              "          if (!dataTable) return;\n",
              "\n",
              "          const docLinkHtml = 'Like what you see? Visit the ' +\n",
              "            '<a target=\"_blank\" href=https://colab.research.google.com/notebooks/data_table.ipynb>data table notebook</a>'\n",
              "            + ' to learn more about interactive tables.';\n",
              "          element.innerHTML = '';\n",
              "          dataTable['output_type'] = 'display_data';\n",
              "          await google.colab.output.renderOutput(dataTable, element);\n",
              "          const docLink = document.createElement('div');\n",
              "          docLink.innerHTML = docLinkHtml;\n",
              "          element.appendChild(docLink);\n",
              "        }\n",
              "      </script>\n",
              "    </div>\n",
              "  </div>\n",
              "  "
            ]
          },
          "metadata": {},
          "execution_count": 16
        }
      ]
    },
    {
      "cell_type": "markdown",
      "source": [
        "* Selecionar os pesos dos pacientes. Consulta baseada em\n",
        "https://github.com/MIT-LCP/mimic-iv/blob/master/concepts/demographics/weight_durations.sql."
      ],
      "metadata": {
        "id": "eprUMYjxFyDB"
      }
    },
    {
      "cell_type": "code",
      "source": [
        "sql = \"\"\"-- This query extracts weights for adult ICU patients with start/stop times\n",
        "-- if an admission weight is given, then this is assigned from intime to outtime\n",
        "WITH wt_stg as\n",
        "(\n",
        "    SELECT\n",
        "        c.stay_id\n",
        "      , c.charttime\n",
        "      , case when c.itemid = 226512 then 'admit'\n",
        "          else 'daily' end as weight_type\n",
        "      -- TODO: eliminate obvious outliers if there is a reasonable weight\n",
        "      , c.valuenum as weight\n",
        "    FROM `physionet-data.mimiciv_icu.chartevents` c\n",
        "    WHERE c.valuenum IS NOT NULL\n",
        "      AND c.itemid in\n",
        "      (\n",
        "          226512 -- Admit Wt\n",
        "          , 224639 -- Daily Weight\n",
        "      )\n",
        "      AND c.valuenum > 0\n",
        ")\n",
        "-- assign ascending row number\n",
        ", wt_stg1 as\n",
        "(\n",
        "  select\n",
        "      stay_id\n",
        "    , charttime\n",
        "    , weight_type\n",
        "    , weight\n",
        "    , ROW_NUMBER() OVER (partition by stay_id, weight_type order by charttime) as rn\n",
        "  from wt_stg\n",
        "  WHERE weight IS NOT NULL\n",
        ")\n",
        "-- change charttime to intime for the first admission weight recorded\n",
        ", wt_stg2 AS\n",
        "(\n",
        "  SELECT \n",
        "      wt_stg1.stay_id\n",
        "    , ie.intime, ie.outtime\n",
        "    , wt_stg1.weight_type\n",
        "    , case when wt_stg1.weight_type = 'admit' and wt_stg1.rn = 1\n",
        "        then DATETIME_SUB(ie.intime, INTERVAL '2' HOUR)\n",
        "      else wt_stg1.charttime end as starttime\n",
        "    , wt_stg1.weight\n",
        "  from wt_stg1\n",
        "  INNER JOIN `physionet-data.mimiciv_icu.icustays` ie\n",
        "    on ie.stay_id = wt_stg1.stay_id\n",
        ")\n",
        ", wt_stg3 as\n",
        "(\n",
        "  select\n",
        "    stay_id\n",
        "    , intime, outtime\n",
        "    , starttime\n",
        "    , coalesce(\n",
        "        LEAD(starttime) OVER (PARTITION BY stay_id ORDER BY starttime),\n",
        "        DATETIME_ADD(outtime, INTERVAL '2' HOUR)\n",
        "      ) as endtime\n",
        "    , weight\n",
        "    , weight_type\n",
        "  from wt_stg2\n",
        ")\n",
        "-- this table is the start/stop times from admit/daily weight in charted data\n",
        ", wt1 as\n",
        "(\n",
        "  select\n",
        "      stay_id\n",
        "    , starttime\n",
        "    , coalesce(endtime,\n",
        "      LEAD(starttime) OVER (partition by stay_id order by starttime),\n",
        "      -- impute ICU discharge as the end of the final weight measurement\n",
        "      -- plus a 2 hour \"fuzziness\" window\n",
        "      DATETIME_ADD(outtime, INTERVAL '2' HOUR)\n",
        "    ) as endtime\n",
        "    , weight\n",
        "    , weight_type\n",
        "  from wt_stg3\n",
        ")\n",
        "-- if the intime for the patient is < the first charted daily weight\n",
        "-- then we will have a \"gap\" at the start of their stay\n",
        "-- to prevent this, we look for these gaps and backfill the first weight\n",
        "-- this adds (153255-149657)=3598 rows, meaning this fix helps for up to 3598 stay_id\n",
        ", wt_fix as\n",
        "(\n",
        "  select ie.stay_id\n",
        "    -- we add a 2 hour \"fuzziness\" window\n",
        "    , DATETIME_SUB(ie.intime, INTERVAL '2' HOUR) as starttime\n",
        "    , wt.starttime as endtime\n",
        "    , wt.weight\n",
        "    , wt.weight_type\n",
        "  from `physionet-data.mimiciv_icu.icustays` ie\n",
        "  inner join\n",
        "  -- the below subquery returns one row for each unique stay_id\n",
        "  -- the row contains: the first starttime and the corresponding weight\n",
        "  (\n",
        "    SELECT wt1.stay_id, wt1.starttime, wt1.weight\n",
        "    , weight_type\n",
        "    , ROW_NUMBER() OVER (PARTITION BY wt1.stay_id ORDER BY wt1.starttime) as rn\n",
        "    FROM wt1\n",
        "  ) wt\n",
        "    ON  ie.stay_id = wt.stay_id\n",
        "    AND wt.rn = 1\n",
        "    and ie.intime < wt.starttime\n",
        ")\n",
        "-- add the backfill rows to the main weight table\n",
        "SELECT\n",
        "wt1.stay_id\n",
        ", wt1.starttime\n",
        ", wt1.endtime\n",
        ", wt1.weight\n",
        ", wt1.weight_type\n",
        "FROM wt1\n",
        "UNION ALL\n",
        "SELECT\n",
        "wt_fix.stay_id\n",
        ", wt_fix.starttime\n",
        ", wt_fix.endtime\n",
        ", wt_fix.weight\n",
        ", wt_fix.weight_type\n",
        "FROM wt_fix;\"\"\"\n",
        "\n",
        "pesos_pacientes = pd.read_gbq(sql, projeto) "
      ],
      "metadata": {
        "id": "S3emfJ2kE6wa"
      },
      "execution_count": null,
      "outputs": []
    },
    {
      "cell_type": "code",
      "source": [
        "pesos_pacientes.head()"
      ],
      "metadata": {
        "colab": {
          "base_uri": "https://localhost:8080/",
          "height": 206
        },
        "id": "iYdEDOjdXbcc",
        "outputId": "d327f2f6-f937-430a-888c-54156071fa2d"
      },
      "execution_count": null,
      "outputs": [
        {
          "output_type": "execute_result",
          "data": {
            "text/plain": [
              "    stay_id           starttime             endtime  weight weight_type\n",
              "0  30021505 2127-01-21 08:37:06 2127-01-22 04:00:00    92.2       admit\n",
              "1  30021505 2127-01-22 04:00:00 2127-01-23 14:10:26   102.0       daily\n",
              "2  30029746 2126-10-26 07:33:50 2126-10-27 05:00:00    49.9       admit\n",
              "3  30029746 2126-10-27 05:00:00 2126-10-28 00:32:36    54.6       daily\n",
              "4  30030186 2139-12-01 10:56:07 2139-12-02 23:00:00    75.9       admit"
            ],
            "text/html": [
              "\n",
              "  <div id=\"df-d020839e-9e23-4404-832b-56ef9ccad9dd\">\n",
              "    <div class=\"colab-df-container\">\n",
              "      <div>\n",
              "<style scoped>\n",
              "    .dataframe tbody tr th:only-of-type {\n",
              "        vertical-align: middle;\n",
              "    }\n",
              "\n",
              "    .dataframe tbody tr th {\n",
              "        vertical-align: top;\n",
              "    }\n",
              "\n",
              "    .dataframe thead th {\n",
              "        text-align: right;\n",
              "    }\n",
              "</style>\n",
              "<table border=\"1\" class=\"dataframe\">\n",
              "  <thead>\n",
              "    <tr style=\"text-align: right;\">\n",
              "      <th></th>\n",
              "      <th>stay_id</th>\n",
              "      <th>starttime</th>\n",
              "      <th>endtime</th>\n",
              "      <th>weight</th>\n",
              "      <th>weight_type</th>\n",
              "    </tr>\n",
              "  </thead>\n",
              "  <tbody>\n",
              "    <tr>\n",
              "      <th>0</th>\n",
              "      <td>30021505</td>\n",
              "      <td>2127-01-21 08:37:06</td>\n",
              "      <td>2127-01-22 04:00:00</td>\n",
              "      <td>92.2</td>\n",
              "      <td>admit</td>\n",
              "    </tr>\n",
              "    <tr>\n",
              "      <th>1</th>\n",
              "      <td>30021505</td>\n",
              "      <td>2127-01-22 04:00:00</td>\n",
              "      <td>2127-01-23 14:10:26</td>\n",
              "      <td>102.0</td>\n",
              "      <td>daily</td>\n",
              "    </tr>\n",
              "    <tr>\n",
              "      <th>2</th>\n",
              "      <td>30029746</td>\n",
              "      <td>2126-10-26 07:33:50</td>\n",
              "      <td>2126-10-27 05:00:00</td>\n",
              "      <td>49.9</td>\n",
              "      <td>admit</td>\n",
              "    </tr>\n",
              "    <tr>\n",
              "      <th>3</th>\n",
              "      <td>30029746</td>\n",
              "      <td>2126-10-27 05:00:00</td>\n",
              "      <td>2126-10-28 00:32:36</td>\n",
              "      <td>54.6</td>\n",
              "      <td>daily</td>\n",
              "    </tr>\n",
              "    <tr>\n",
              "      <th>4</th>\n",
              "      <td>30030186</td>\n",
              "      <td>2139-12-01 10:56:07</td>\n",
              "      <td>2139-12-02 23:00:00</td>\n",
              "      <td>75.9</td>\n",
              "      <td>admit</td>\n",
              "    </tr>\n",
              "  </tbody>\n",
              "</table>\n",
              "</div>\n",
              "      <button class=\"colab-df-convert\" onclick=\"convertToInteractive('df-d020839e-9e23-4404-832b-56ef9ccad9dd')\"\n",
              "              title=\"Convert this dataframe to an interactive table.\"\n",
              "              style=\"display:none;\">\n",
              "        \n",
              "  <svg xmlns=\"http://www.w3.org/2000/svg\" height=\"24px\"viewBox=\"0 0 24 24\"\n",
              "       width=\"24px\">\n",
              "    <path d=\"M0 0h24v24H0V0z\" fill=\"none\"/>\n",
              "    <path d=\"M18.56 5.44l.94 2.06.94-2.06 2.06-.94-2.06-.94-.94-2.06-.94 2.06-2.06.94zm-11 1L8.5 8.5l.94-2.06 2.06-.94-2.06-.94L8.5 2.5l-.94 2.06-2.06.94zm10 10l.94 2.06.94-2.06 2.06-.94-2.06-.94-.94-2.06-.94 2.06-2.06.94z\"/><path d=\"M17.41 7.96l-1.37-1.37c-.4-.4-.92-.59-1.43-.59-.52 0-1.04.2-1.43.59L10.3 9.45l-7.72 7.72c-.78.78-.78 2.05 0 2.83L4 21.41c.39.39.9.59 1.41.59.51 0 1.02-.2 1.41-.59l7.78-7.78 2.81-2.81c.8-.78.8-2.07 0-2.86zM5.41 20L4 18.59l7.72-7.72 1.47 1.35L5.41 20z\"/>\n",
              "  </svg>\n",
              "      </button>\n",
              "      \n",
              "  <style>\n",
              "    .colab-df-container {\n",
              "      display:flex;\n",
              "      flex-wrap:wrap;\n",
              "      gap: 12px;\n",
              "    }\n",
              "\n",
              "    .colab-df-convert {\n",
              "      background-color: #E8F0FE;\n",
              "      border: none;\n",
              "      border-radius: 50%;\n",
              "      cursor: pointer;\n",
              "      display: none;\n",
              "      fill: #1967D2;\n",
              "      height: 32px;\n",
              "      padding: 0 0 0 0;\n",
              "      width: 32px;\n",
              "    }\n",
              "\n",
              "    .colab-df-convert:hover {\n",
              "      background-color: #E2EBFA;\n",
              "      box-shadow: 0px 1px 2px rgba(60, 64, 67, 0.3), 0px 1px 3px 1px rgba(60, 64, 67, 0.15);\n",
              "      fill: #174EA6;\n",
              "    }\n",
              "\n",
              "    [theme=dark] .colab-df-convert {\n",
              "      background-color: #3B4455;\n",
              "      fill: #D2E3FC;\n",
              "    }\n",
              "\n",
              "    [theme=dark] .colab-df-convert:hover {\n",
              "      background-color: #434B5C;\n",
              "      box-shadow: 0px 1px 3px 1px rgba(0, 0, 0, 0.15);\n",
              "      filter: drop-shadow(0px 1px 2px rgba(0, 0, 0, 0.3));\n",
              "      fill: #FFFFFF;\n",
              "    }\n",
              "  </style>\n",
              "\n",
              "      <script>\n",
              "        const buttonEl =\n",
              "          document.querySelector('#df-d020839e-9e23-4404-832b-56ef9ccad9dd button.colab-df-convert');\n",
              "        buttonEl.style.display =\n",
              "          google.colab.kernel.accessAllowed ? 'block' : 'none';\n",
              "\n",
              "        async function convertToInteractive(key) {\n",
              "          const element = document.querySelector('#df-d020839e-9e23-4404-832b-56ef9ccad9dd');\n",
              "          const dataTable =\n",
              "            await google.colab.kernel.invokeFunction('convertToInteractive',\n",
              "                                                     [key], {});\n",
              "          if (!dataTable) return;\n",
              "\n",
              "          const docLinkHtml = 'Like what you see? Visit the ' +\n",
              "            '<a target=\"_blank\" href=https://colab.research.google.com/notebooks/data_table.ipynb>data table notebook</a>'\n",
              "            + ' to learn more about interactive tables.';\n",
              "          element.innerHTML = '';\n",
              "          dataTable['output_type'] = 'display_data';\n",
              "          await google.colab.output.renderOutput(dataTable, element);\n",
              "          const docLink = document.createElement('div');\n",
              "          docLink.innerHTML = docLinkHtml;\n",
              "          element.appendChild(docLink);\n",
              "        }\n",
              "      </script>\n",
              "    </div>\n",
              "  </div>\n",
              "  "
            ]
          },
          "metadata": {},
          "execution_count": 18
        }
      ]
    },
    {
      "cell_type": "code",
      "source": [
        "pesos_pacientes = pesos_pacientes.loc[pesos_pacientes['weight_type'] == 'admit',['stay_id','weight']]\n",
        "pesos_pacientes['stay_id'].unique().size"
      ],
      "metadata": {
        "colab": {
          "base_uri": "https://localhost:8080/"
        },
        "id": "4J32YRkyXeZV",
        "outputId": "bdee2dce-254c-4202-ae2a-e47ef6f2f1d2"
      },
      "execution_count": null,
      "outputs": [
        {
          "output_type": "execute_result",
          "data": {
            "text/plain": [
              "67825"
            ]
          },
          "metadata": {},
          "execution_count": 19
        }
      ]
    },
    {
      "cell_type": "code",
      "source": [
        "df_completo = pd.merge(df_completo, pesos_pacientes, on=['stay_id'])\n",
        "df_completo.shape"
      ],
      "metadata": {
        "id": "7fXrAyipczVG",
        "colab": {
          "base_uri": "https://localhost:8080/"
        },
        "outputId": "84b758f3-4771-448d-fa8e-3d53b2ba8e86"
      },
      "execution_count": null,
      "outputs": [
        {
          "output_type": "execute_result",
          "data": {
            "text/plain": [
              "(53711, 29)"
            ]
          },
          "metadata": {},
          "execution_count": 20
        }
      ]
    },
    {
      "cell_type": "markdown",
      "source": [
        "* Selecionar a idade do paciente no momento da hospitalização. Consulta baseada em\n",
        "https://github.com/MIT-LCP/mimic-iv/blob/master/concepts/demographics/age.sql."
      ],
      "metadata": {
        "id": "cwavu-ceGGW6"
      }
    },
    {
      "cell_type": "code",
      "source": [
        "sql = \"\"\"\n",
        "-- This query calculates the age of a patient on admission to the hospital.\n",
        "\n",
        "-- The columns of the table patients: anchor_age, anchor_year, anchor_year_group\n",
        "-- provide information regarding the actual patient year for the patient admission, \n",
        "-- and the patient's age at that time.\n",
        "\n",
        "-- anchor_year is a shifted year for the patient.\n",
        "-- anchor_year_group is a range of years - the patient's anchor_year occurred during this range.\n",
        "-- anchor_age is the patient's age in the anchor_year.\n",
        "-- Example: a patient has an anchor_year of 2153,\n",
        "-- anchor_year_group of 2008 - 2010, and an anchor_age of 60.\n",
        "-- The year 2153 for the patient corresponds to 2008, 2009, or 2010.\n",
        "-- The patient was 60 in the shifted year of 2153, i.e. they were 60 in 2008, 2009, or 2010.\n",
        "-- A patient admission in 2154 will occur in 2009-2011, \n",
        "-- an admission in 2155 will occur in 2010-2012, and so on.\n",
        "\n",
        "-- Therefore, the age of a patient = hospital admission time - anchor_year + anchor_age\n",
        "SELECT \t\n",
        "\tad.subject_id\n",
        "\t, ad.hadm_id\n",
        "\t, ad.admittime\n",
        "\t, pa.anchor_age\n",
        "\t, pa.anchor_year\n",
        "\t, DATETIME_DIFF(ad.admittime, DATETIME(pa.anchor_year, 1, 1, 0, 0, 0), YEAR) + pa.anchor_age AS age\n",
        "FROM `physionet-data.mimiciv_hosp.admissions` ad\n",
        "INNER JOIN `physionet-data.mimiciv_hosp.patients` pa\n",
        "ON ad.subject_id = pa.subject_id\n",
        ";\"\"\"\n",
        "\n",
        "idade = pd.read_gbq(sql, projeto) "
      ],
      "metadata": {
        "id": "fHW8jS0wGCdI"
      },
      "execution_count": null,
      "outputs": []
    },
    {
      "cell_type": "code",
      "source": [
        "idade.head()"
      ],
      "metadata": {
        "colab": {
          "base_uri": "https://localhost:8080/",
          "height": 206
        },
        "id": "DPblu2SlYDXh",
        "outputId": "0c343d8f-c3ca-42fc-d88b-b324ce92a7a0"
      },
      "execution_count": null,
      "outputs": [
        {
          "output_type": "execute_result",
          "data": {
            "text/plain": [
              "   subject_id   hadm_id           admittime  anchor_age  anchor_year  age\n",
              "0    14962874  22614141 2165-10-15 15:59:00          89         2165   89\n",
              "1    13241600  22574379 2162-10-29 15:36:00          89         2162   89\n",
              "2    12945423  20185299 2122-07-08 05:40:00          89         2122   89\n",
              "3    16014534  21633959 2176-03-03 14:33:00          89         2175   90\n",
              "4    16014534  27188276 2176-03-27 11:53:00          89         2175   90"
            ],
            "text/html": [
              "\n",
              "  <div id=\"df-ca0eb33d-e750-49aa-b3cc-02d17b0408de\">\n",
              "    <div class=\"colab-df-container\">\n",
              "      <div>\n",
              "<style scoped>\n",
              "    .dataframe tbody tr th:only-of-type {\n",
              "        vertical-align: middle;\n",
              "    }\n",
              "\n",
              "    .dataframe tbody tr th {\n",
              "        vertical-align: top;\n",
              "    }\n",
              "\n",
              "    .dataframe thead th {\n",
              "        text-align: right;\n",
              "    }\n",
              "</style>\n",
              "<table border=\"1\" class=\"dataframe\">\n",
              "  <thead>\n",
              "    <tr style=\"text-align: right;\">\n",
              "      <th></th>\n",
              "      <th>subject_id</th>\n",
              "      <th>hadm_id</th>\n",
              "      <th>admittime</th>\n",
              "      <th>anchor_age</th>\n",
              "      <th>anchor_year</th>\n",
              "      <th>age</th>\n",
              "    </tr>\n",
              "  </thead>\n",
              "  <tbody>\n",
              "    <tr>\n",
              "      <th>0</th>\n",
              "      <td>14962874</td>\n",
              "      <td>22614141</td>\n",
              "      <td>2165-10-15 15:59:00</td>\n",
              "      <td>89</td>\n",
              "      <td>2165</td>\n",
              "      <td>89</td>\n",
              "    </tr>\n",
              "    <tr>\n",
              "      <th>1</th>\n",
              "      <td>13241600</td>\n",
              "      <td>22574379</td>\n",
              "      <td>2162-10-29 15:36:00</td>\n",
              "      <td>89</td>\n",
              "      <td>2162</td>\n",
              "      <td>89</td>\n",
              "    </tr>\n",
              "    <tr>\n",
              "      <th>2</th>\n",
              "      <td>12945423</td>\n",
              "      <td>20185299</td>\n",
              "      <td>2122-07-08 05:40:00</td>\n",
              "      <td>89</td>\n",
              "      <td>2122</td>\n",
              "      <td>89</td>\n",
              "    </tr>\n",
              "    <tr>\n",
              "      <th>3</th>\n",
              "      <td>16014534</td>\n",
              "      <td>21633959</td>\n",
              "      <td>2176-03-03 14:33:00</td>\n",
              "      <td>89</td>\n",
              "      <td>2175</td>\n",
              "      <td>90</td>\n",
              "    </tr>\n",
              "    <tr>\n",
              "      <th>4</th>\n",
              "      <td>16014534</td>\n",
              "      <td>27188276</td>\n",
              "      <td>2176-03-27 11:53:00</td>\n",
              "      <td>89</td>\n",
              "      <td>2175</td>\n",
              "      <td>90</td>\n",
              "    </tr>\n",
              "  </tbody>\n",
              "</table>\n",
              "</div>\n",
              "      <button class=\"colab-df-convert\" onclick=\"convertToInteractive('df-ca0eb33d-e750-49aa-b3cc-02d17b0408de')\"\n",
              "              title=\"Convert this dataframe to an interactive table.\"\n",
              "              style=\"display:none;\">\n",
              "        \n",
              "  <svg xmlns=\"http://www.w3.org/2000/svg\" height=\"24px\"viewBox=\"0 0 24 24\"\n",
              "       width=\"24px\">\n",
              "    <path d=\"M0 0h24v24H0V0z\" fill=\"none\"/>\n",
              "    <path d=\"M18.56 5.44l.94 2.06.94-2.06 2.06-.94-2.06-.94-.94-2.06-.94 2.06-2.06.94zm-11 1L8.5 8.5l.94-2.06 2.06-.94-2.06-.94L8.5 2.5l-.94 2.06-2.06.94zm10 10l.94 2.06.94-2.06 2.06-.94-2.06-.94-.94-2.06-.94 2.06-2.06.94z\"/><path d=\"M17.41 7.96l-1.37-1.37c-.4-.4-.92-.59-1.43-.59-.52 0-1.04.2-1.43.59L10.3 9.45l-7.72 7.72c-.78.78-.78 2.05 0 2.83L4 21.41c.39.39.9.59 1.41.59.51 0 1.02-.2 1.41-.59l7.78-7.78 2.81-2.81c.8-.78.8-2.07 0-2.86zM5.41 20L4 18.59l7.72-7.72 1.47 1.35L5.41 20z\"/>\n",
              "  </svg>\n",
              "      </button>\n",
              "      \n",
              "  <style>\n",
              "    .colab-df-container {\n",
              "      display:flex;\n",
              "      flex-wrap:wrap;\n",
              "      gap: 12px;\n",
              "    }\n",
              "\n",
              "    .colab-df-convert {\n",
              "      background-color: #E8F0FE;\n",
              "      border: none;\n",
              "      border-radius: 50%;\n",
              "      cursor: pointer;\n",
              "      display: none;\n",
              "      fill: #1967D2;\n",
              "      height: 32px;\n",
              "      padding: 0 0 0 0;\n",
              "      width: 32px;\n",
              "    }\n",
              "\n",
              "    .colab-df-convert:hover {\n",
              "      background-color: #E2EBFA;\n",
              "      box-shadow: 0px 1px 2px rgba(60, 64, 67, 0.3), 0px 1px 3px 1px rgba(60, 64, 67, 0.15);\n",
              "      fill: #174EA6;\n",
              "    }\n",
              "\n",
              "    [theme=dark] .colab-df-convert {\n",
              "      background-color: #3B4455;\n",
              "      fill: #D2E3FC;\n",
              "    }\n",
              "\n",
              "    [theme=dark] .colab-df-convert:hover {\n",
              "      background-color: #434B5C;\n",
              "      box-shadow: 0px 1px 3px 1px rgba(0, 0, 0, 0.15);\n",
              "      filter: drop-shadow(0px 1px 2px rgba(0, 0, 0, 0.3));\n",
              "      fill: #FFFFFF;\n",
              "    }\n",
              "  </style>\n",
              "\n",
              "      <script>\n",
              "        const buttonEl =\n",
              "          document.querySelector('#df-ca0eb33d-e750-49aa-b3cc-02d17b0408de button.colab-df-convert');\n",
              "        buttonEl.style.display =\n",
              "          google.colab.kernel.accessAllowed ? 'block' : 'none';\n",
              "\n",
              "        async function convertToInteractive(key) {\n",
              "          const element = document.querySelector('#df-ca0eb33d-e750-49aa-b3cc-02d17b0408de');\n",
              "          const dataTable =\n",
              "            await google.colab.kernel.invokeFunction('convertToInteractive',\n",
              "                                                     [key], {});\n",
              "          if (!dataTable) return;\n",
              "\n",
              "          const docLinkHtml = 'Like what you see? Visit the ' +\n",
              "            '<a target=\"_blank\" href=https://colab.research.google.com/notebooks/data_table.ipynb>data table notebook</a>'\n",
              "            + ' to learn more about interactive tables.';\n",
              "          element.innerHTML = '';\n",
              "          dataTable['output_type'] = 'display_data';\n",
              "          await google.colab.output.renderOutput(dataTable, element);\n",
              "          const docLink = document.createElement('div');\n",
              "          docLink.innerHTML = docLinkHtml;\n",
              "          element.appendChild(docLink);\n",
              "        }\n",
              "      </script>\n",
              "    </div>\n",
              "  </div>\n",
              "  "
            ]
          },
          "metadata": {},
          "execution_count": 22
        }
      ]
    },
    {
      "cell_type": "code",
      "source": [
        "idade = idade.loc[:,['subject_id','hadm_id','age']]\n",
        "idade.shape"
      ],
      "metadata": {
        "colab": {
          "base_uri": "https://localhost:8080/"
        },
        "id": "RM9Nz-yZWDY5",
        "outputId": "03dc2df1-11ea-4dcc-b0d5-024fcf868d9c"
      },
      "execution_count": null,
      "outputs": [
        {
          "output_type": "execute_result",
          "data": {
            "text/plain": [
              "(431231, 3)"
            ]
          },
          "metadata": {},
          "execution_count": 23
        }
      ]
    },
    {
      "cell_type": "code",
      "source": [
        "df_completo = pd.merge(df_completo, idade, on=['subject_id','hadm_id'])\n",
        "df_completo.shape"
      ],
      "metadata": {
        "colab": {
          "base_uri": "https://localhost:8080/"
        },
        "id": "YgGeeReqWY2_",
        "outputId": "57c0161f-b97b-4e5f-88eb-cb5ad0813a7e"
      },
      "execution_count": null,
      "outputs": [
        {
          "output_type": "execute_result",
          "data": {
            "text/plain": [
              "(53711, 30)"
            ]
          },
          "metadata": {},
          "execution_count": 24
        }
      ]
    },
    {
      "cell_type": "markdown",
      "source": [
        "* Selecionar altura dos pacientes. Consulta baseada em https://github.com/MIT-LCP/mimic-iv/blob/master/concepts/measurement/height.sql."
      ],
      "metadata": {
        "id": "GfLNym-0GYWR"
      }
    },
    {
      "cell_type": "code",
      "source": [
        "sql = \"\"\"\n",
        "-- prep height\n",
        "WITH ht_in AS\n",
        "(\n",
        "  SELECT \n",
        "    c.subject_id, c.stay_id, c.charttime\n",
        "    -- Ensure that all heights are in centimeters\n",
        "    , ROUND(c.valuenum * 2.54, 2) AS height\n",
        "    , c.valuenum as height_orig\n",
        "  FROM `physionet-data.mimiciv_icu.chartevents` c\n",
        "  WHERE c.valuenum IS NOT NULL\n",
        "  -- Height (measured in inches)\n",
        "  AND c.itemid = 226707\n",
        ")\n",
        ", ht_cm AS\n",
        "(\n",
        "  SELECT \n",
        "    c.subject_id, c.stay_id, c.charttime\n",
        "    -- Ensure that all heights are in centimeters\n",
        "    , ROUND(c.valuenum, 2) AS height\n",
        "  FROM `physionet-data.mimiciv_icu.chartevents` c\n",
        "  WHERE c.valuenum IS NOT NULL\n",
        "  -- Height cm\n",
        "  AND c.itemid = 226730\n",
        ")\n",
        "-- merge cm/height, only take 1 value per charted row\n",
        ", ht_stg0 AS\n",
        "(\n",
        "  SELECT\n",
        "  COALESCE(h1.subject_id, h1.subject_id) as subject_id\n",
        "  , COALESCE(h1.stay_id, h1.stay_id) AS stay_id\n",
        "  , COALESCE(h1.charttime, h1.charttime) AS charttime\n",
        "  , COALESCE(h1.height, h2.height) as height\n",
        "  FROM ht_cm h1\n",
        "  FULL OUTER JOIN ht_in h2\n",
        "    ON h1.subject_id = h2.subject_id\n",
        "    AND h1.charttime = h2.charttime\n",
        ")\n",
        "SELECT subject_id, stay_id, charttime, height\n",
        "FROM ht_stg0\n",
        "WHERE height IS NOT NULL\n",
        "-- filter out bad heights\n",
        "AND height > 120 AND height < 230;\"\"\"\n",
        "\n",
        "altura = pd.read_gbq(sql, projeto) "
      ],
      "metadata": {
        "id": "AFVPfIm5GX0Q"
      },
      "execution_count": null,
      "outputs": []
    },
    {
      "cell_type": "code",
      "source": [
        "altura.head()"
      ],
      "metadata": {
        "colab": {
          "base_uri": "https://localhost:8080/",
          "height": 206
        },
        "id": "kBNXix85Yanj",
        "outputId": "24e51399-b71d-41a7-a95f-61452b0aa0ab"
      },
      "execution_count": null,
      "outputs": [
        {
          "output_type": "execute_result",
          "data": {
            "text/plain": [
              "   subject_id   stay_id           charttime  height\n",
              "0    18308219  32174951 2149-10-17 10:38:00   192.0\n",
              "1    10027730  38837816 2165-07-10 18:38:00   166.0\n",
              "2    15033599  35180084 2150-08-06 01:40:00   164.0\n",
              "3    15311611  38531054 2155-05-03 00:50:00   166.0\n",
              "4    15021968  30673495 2128-05-12 17:14:00   145.0"
            ],
            "text/html": [
              "\n",
              "  <div id=\"df-686a0f1f-365d-4b4a-936d-bd619bd505a3\">\n",
              "    <div class=\"colab-df-container\">\n",
              "      <div>\n",
              "<style scoped>\n",
              "    .dataframe tbody tr th:only-of-type {\n",
              "        vertical-align: middle;\n",
              "    }\n",
              "\n",
              "    .dataframe tbody tr th {\n",
              "        vertical-align: top;\n",
              "    }\n",
              "\n",
              "    .dataframe thead th {\n",
              "        text-align: right;\n",
              "    }\n",
              "</style>\n",
              "<table border=\"1\" class=\"dataframe\">\n",
              "  <thead>\n",
              "    <tr style=\"text-align: right;\">\n",
              "      <th></th>\n",
              "      <th>subject_id</th>\n",
              "      <th>stay_id</th>\n",
              "      <th>charttime</th>\n",
              "      <th>height</th>\n",
              "    </tr>\n",
              "  </thead>\n",
              "  <tbody>\n",
              "    <tr>\n",
              "      <th>0</th>\n",
              "      <td>18308219</td>\n",
              "      <td>32174951</td>\n",
              "      <td>2149-10-17 10:38:00</td>\n",
              "      <td>192.0</td>\n",
              "    </tr>\n",
              "    <tr>\n",
              "      <th>1</th>\n",
              "      <td>10027730</td>\n",
              "      <td>38837816</td>\n",
              "      <td>2165-07-10 18:38:00</td>\n",
              "      <td>166.0</td>\n",
              "    </tr>\n",
              "    <tr>\n",
              "      <th>2</th>\n",
              "      <td>15033599</td>\n",
              "      <td>35180084</td>\n",
              "      <td>2150-08-06 01:40:00</td>\n",
              "      <td>164.0</td>\n",
              "    </tr>\n",
              "    <tr>\n",
              "      <th>3</th>\n",
              "      <td>15311611</td>\n",
              "      <td>38531054</td>\n",
              "      <td>2155-05-03 00:50:00</td>\n",
              "      <td>166.0</td>\n",
              "    </tr>\n",
              "    <tr>\n",
              "      <th>4</th>\n",
              "      <td>15021968</td>\n",
              "      <td>30673495</td>\n",
              "      <td>2128-05-12 17:14:00</td>\n",
              "      <td>145.0</td>\n",
              "    </tr>\n",
              "  </tbody>\n",
              "</table>\n",
              "</div>\n",
              "      <button class=\"colab-df-convert\" onclick=\"convertToInteractive('df-686a0f1f-365d-4b4a-936d-bd619bd505a3')\"\n",
              "              title=\"Convert this dataframe to an interactive table.\"\n",
              "              style=\"display:none;\">\n",
              "        \n",
              "  <svg xmlns=\"http://www.w3.org/2000/svg\" height=\"24px\"viewBox=\"0 0 24 24\"\n",
              "       width=\"24px\">\n",
              "    <path d=\"M0 0h24v24H0V0z\" fill=\"none\"/>\n",
              "    <path d=\"M18.56 5.44l.94 2.06.94-2.06 2.06-.94-2.06-.94-.94-2.06-.94 2.06-2.06.94zm-11 1L8.5 8.5l.94-2.06 2.06-.94-2.06-.94L8.5 2.5l-.94 2.06-2.06.94zm10 10l.94 2.06.94-2.06 2.06-.94-2.06-.94-.94-2.06-.94 2.06-2.06.94z\"/><path d=\"M17.41 7.96l-1.37-1.37c-.4-.4-.92-.59-1.43-.59-.52 0-1.04.2-1.43.59L10.3 9.45l-7.72 7.72c-.78.78-.78 2.05 0 2.83L4 21.41c.39.39.9.59 1.41.59.51 0 1.02-.2 1.41-.59l7.78-7.78 2.81-2.81c.8-.78.8-2.07 0-2.86zM5.41 20L4 18.59l7.72-7.72 1.47 1.35L5.41 20z\"/>\n",
              "  </svg>\n",
              "      </button>\n",
              "      \n",
              "  <style>\n",
              "    .colab-df-container {\n",
              "      display:flex;\n",
              "      flex-wrap:wrap;\n",
              "      gap: 12px;\n",
              "    }\n",
              "\n",
              "    .colab-df-convert {\n",
              "      background-color: #E8F0FE;\n",
              "      border: none;\n",
              "      border-radius: 50%;\n",
              "      cursor: pointer;\n",
              "      display: none;\n",
              "      fill: #1967D2;\n",
              "      height: 32px;\n",
              "      padding: 0 0 0 0;\n",
              "      width: 32px;\n",
              "    }\n",
              "\n",
              "    .colab-df-convert:hover {\n",
              "      background-color: #E2EBFA;\n",
              "      box-shadow: 0px 1px 2px rgba(60, 64, 67, 0.3), 0px 1px 3px 1px rgba(60, 64, 67, 0.15);\n",
              "      fill: #174EA6;\n",
              "    }\n",
              "\n",
              "    [theme=dark] .colab-df-convert {\n",
              "      background-color: #3B4455;\n",
              "      fill: #D2E3FC;\n",
              "    }\n",
              "\n",
              "    [theme=dark] .colab-df-convert:hover {\n",
              "      background-color: #434B5C;\n",
              "      box-shadow: 0px 1px 3px 1px rgba(0, 0, 0, 0.15);\n",
              "      filter: drop-shadow(0px 1px 2px rgba(0, 0, 0, 0.3));\n",
              "      fill: #FFFFFF;\n",
              "    }\n",
              "  </style>\n",
              "\n",
              "      <script>\n",
              "        const buttonEl =\n",
              "          document.querySelector('#df-686a0f1f-365d-4b4a-936d-bd619bd505a3 button.colab-df-convert');\n",
              "        buttonEl.style.display =\n",
              "          google.colab.kernel.accessAllowed ? 'block' : 'none';\n",
              "\n",
              "        async function convertToInteractive(key) {\n",
              "          const element = document.querySelector('#df-686a0f1f-365d-4b4a-936d-bd619bd505a3');\n",
              "          const dataTable =\n",
              "            await google.colab.kernel.invokeFunction('convertToInteractive',\n",
              "                                                     [key], {});\n",
              "          if (!dataTable) return;\n",
              "\n",
              "          const docLinkHtml = 'Like what you see? Visit the ' +\n",
              "            '<a target=\"_blank\" href=https://colab.research.google.com/notebooks/data_table.ipynb>data table notebook</a>'\n",
              "            + ' to learn more about interactive tables.';\n",
              "          element.innerHTML = '';\n",
              "          dataTable['output_type'] = 'display_data';\n",
              "          await google.colab.output.renderOutput(dataTable, element);\n",
              "          const docLink = document.createElement('div');\n",
              "          docLink.innerHTML = docLinkHtml;\n",
              "          element.appendChild(docLink);\n",
              "        }\n",
              "      </script>\n",
              "    </div>\n",
              "  </div>\n",
              "  "
            ]
          },
          "metadata": {},
          "execution_count": 26
        }
      ]
    },
    {
      "cell_type": "code",
      "source": [
        "altura = altura.loc[:,['subject_id','stay_id','height']]\n",
        "altura.shape"
      ],
      "metadata": {
        "colab": {
          "base_uri": "https://localhost:8080/"
        },
        "id": "L05hz5bLYcg5",
        "outputId": "60410713-51fd-4ab3-a2ea-fa78c8a2e811"
      },
      "execution_count": null,
      "outputs": [
        {
          "output_type": "execute_result",
          "data": {
            "text/plain": [
              "(33474, 3)"
            ]
          },
          "metadata": {},
          "execution_count": 27
        }
      ]
    },
    {
      "cell_type": "code",
      "source": [
        "# join foi feito considerando a tabela da esquerda pois existem pacientes sem altura disponível.\n",
        "# Tratar os missing values para altura.\n",
        "df_completo = pd.merge(df_completo, altura, on=['subject_id','stay_id'], how='left')\n",
        "df_completo.shape"
      ],
      "metadata": {
        "colab": {
          "base_uri": "https://localhost:8080/"
        },
        "id": "9CheqN74XQBh",
        "outputId": "34607765-ac02-4c3b-fc90-722042a9cef0"
      },
      "execution_count": null,
      "outputs": [
        {
          "output_type": "execute_result",
          "data": {
            "text/plain": [
              "(53711, 31)"
            ]
          },
          "metadata": {},
          "execution_count": 28
        }
      ]
    },
    {
      "cell_type": "markdown",
      "source": [
        "* Selecionar gênero dos pacientes."
      ],
      "metadata": {
        "id": "IEp6VRgTXWJk"
      }
    },
    {
      "cell_type": "code",
      "source": [
        "sql = \"\"\" \n",
        "SELECT p.subject_id, p.gender\n",
        "FROM `physionet-data.mimiciv_hosp.patients` p;\"\"\"\n",
        "\n",
        "genero = pd.read_gbq(sql, projeto) "
      ],
      "metadata": {
        "id": "7-8xdKmaYhTZ"
      },
      "execution_count": null,
      "outputs": []
    },
    {
      "cell_type": "code",
      "source": [
        "genero.head()"
      ],
      "metadata": {
        "colab": {
          "base_uri": "https://localhost:8080/",
          "height": 206
        },
        "id": "ypqpqz-SYzKw",
        "outputId": "d34d4e6e-886e-4ee5-9fde-0ec98e48f9a0"
      },
      "execution_count": null,
      "outputs": [
        {
          "output_type": "execute_result",
          "data": {
            "text/plain": [
              "   subject_id gender\n",
              "0    10078138      F\n",
              "1    10851602      F\n",
              "2    10902424      F\n",
              "3    11289691      F\n",
              "4    11739764      F"
            ],
            "text/html": [
              "\n",
              "  <div id=\"df-64de6efb-72a6-43ba-bb9d-5e9498a0a18e\">\n",
              "    <div class=\"colab-df-container\">\n",
              "      <div>\n",
              "<style scoped>\n",
              "    .dataframe tbody tr th:only-of-type {\n",
              "        vertical-align: middle;\n",
              "    }\n",
              "\n",
              "    .dataframe tbody tr th {\n",
              "        vertical-align: top;\n",
              "    }\n",
              "\n",
              "    .dataframe thead th {\n",
              "        text-align: right;\n",
              "    }\n",
              "</style>\n",
              "<table border=\"1\" class=\"dataframe\">\n",
              "  <thead>\n",
              "    <tr style=\"text-align: right;\">\n",
              "      <th></th>\n",
              "      <th>subject_id</th>\n",
              "      <th>gender</th>\n",
              "    </tr>\n",
              "  </thead>\n",
              "  <tbody>\n",
              "    <tr>\n",
              "      <th>0</th>\n",
              "      <td>10078138</td>\n",
              "      <td>F</td>\n",
              "    </tr>\n",
              "    <tr>\n",
              "      <th>1</th>\n",
              "      <td>10851602</td>\n",
              "      <td>F</td>\n",
              "    </tr>\n",
              "    <tr>\n",
              "      <th>2</th>\n",
              "      <td>10902424</td>\n",
              "      <td>F</td>\n",
              "    </tr>\n",
              "    <tr>\n",
              "      <th>3</th>\n",
              "      <td>11289691</td>\n",
              "      <td>F</td>\n",
              "    </tr>\n",
              "    <tr>\n",
              "      <th>4</th>\n",
              "      <td>11739764</td>\n",
              "      <td>F</td>\n",
              "    </tr>\n",
              "  </tbody>\n",
              "</table>\n",
              "</div>\n",
              "      <button class=\"colab-df-convert\" onclick=\"convertToInteractive('df-64de6efb-72a6-43ba-bb9d-5e9498a0a18e')\"\n",
              "              title=\"Convert this dataframe to an interactive table.\"\n",
              "              style=\"display:none;\">\n",
              "        \n",
              "  <svg xmlns=\"http://www.w3.org/2000/svg\" height=\"24px\"viewBox=\"0 0 24 24\"\n",
              "       width=\"24px\">\n",
              "    <path d=\"M0 0h24v24H0V0z\" fill=\"none\"/>\n",
              "    <path d=\"M18.56 5.44l.94 2.06.94-2.06 2.06-.94-2.06-.94-.94-2.06-.94 2.06-2.06.94zm-11 1L8.5 8.5l.94-2.06 2.06-.94-2.06-.94L8.5 2.5l-.94 2.06-2.06.94zm10 10l.94 2.06.94-2.06 2.06-.94-2.06-.94-.94-2.06-.94 2.06-2.06.94z\"/><path d=\"M17.41 7.96l-1.37-1.37c-.4-.4-.92-.59-1.43-.59-.52 0-1.04.2-1.43.59L10.3 9.45l-7.72 7.72c-.78.78-.78 2.05 0 2.83L4 21.41c.39.39.9.59 1.41.59.51 0 1.02-.2 1.41-.59l7.78-7.78 2.81-2.81c.8-.78.8-2.07 0-2.86zM5.41 20L4 18.59l7.72-7.72 1.47 1.35L5.41 20z\"/>\n",
              "  </svg>\n",
              "      </button>\n",
              "      \n",
              "  <style>\n",
              "    .colab-df-container {\n",
              "      display:flex;\n",
              "      flex-wrap:wrap;\n",
              "      gap: 12px;\n",
              "    }\n",
              "\n",
              "    .colab-df-convert {\n",
              "      background-color: #E8F0FE;\n",
              "      border: none;\n",
              "      border-radius: 50%;\n",
              "      cursor: pointer;\n",
              "      display: none;\n",
              "      fill: #1967D2;\n",
              "      height: 32px;\n",
              "      padding: 0 0 0 0;\n",
              "      width: 32px;\n",
              "    }\n",
              "\n",
              "    .colab-df-convert:hover {\n",
              "      background-color: #E2EBFA;\n",
              "      box-shadow: 0px 1px 2px rgba(60, 64, 67, 0.3), 0px 1px 3px 1px rgba(60, 64, 67, 0.15);\n",
              "      fill: #174EA6;\n",
              "    }\n",
              "\n",
              "    [theme=dark] .colab-df-convert {\n",
              "      background-color: #3B4455;\n",
              "      fill: #D2E3FC;\n",
              "    }\n",
              "\n",
              "    [theme=dark] .colab-df-convert:hover {\n",
              "      background-color: #434B5C;\n",
              "      box-shadow: 0px 1px 3px 1px rgba(0, 0, 0, 0.15);\n",
              "      filter: drop-shadow(0px 1px 2px rgba(0, 0, 0, 0.3));\n",
              "      fill: #FFFFFF;\n",
              "    }\n",
              "  </style>\n",
              "\n",
              "      <script>\n",
              "        const buttonEl =\n",
              "          document.querySelector('#df-64de6efb-72a6-43ba-bb9d-5e9498a0a18e button.colab-df-convert');\n",
              "        buttonEl.style.display =\n",
              "          google.colab.kernel.accessAllowed ? 'block' : 'none';\n",
              "\n",
              "        async function convertToInteractive(key) {\n",
              "          const element = document.querySelector('#df-64de6efb-72a6-43ba-bb9d-5e9498a0a18e');\n",
              "          const dataTable =\n",
              "            await google.colab.kernel.invokeFunction('convertToInteractive',\n",
              "                                                     [key], {});\n",
              "          if (!dataTable) return;\n",
              "\n",
              "          const docLinkHtml = 'Like what you see? Visit the ' +\n",
              "            '<a target=\"_blank\" href=https://colab.research.google.com/notebooks/data_table.ipynb>data table notebook</a>'\n",
              "            + ' to learn more about interactive tables.';\n",
              "          element.innerHTML = '';\n",
              "          dataTable['output_type'] = 'display_data';\n",
              "          await google.colab.output.renderOutput(dataTable, element);\n",
              "          const docLink = document.createElement('div');\n",
              "          docLink.innerHTML = docLinkHtml;\n",
              "          element.appendChild(docLink);\n",
              "        }\n",
              "      </script>\n",
              "    </div>\n",
              "  </div>\n",
              "  "
            ]
          },
          "metadata": {},
          "execution_count": 30
        }
      ]
    },
    {
      "cell_type": "code",
      "source": [
        "df_completo = pd.merge(df_completo, genero, on='subject_id')\n",
        "df_completo.shape"
      ],
      "metadata": {
        "id": "IJxx798IZ_Jv",
        "colab": {
          "base_uri": "https://localhost:8080/"
        },
        "outputId": "65868b49-6d3a-4052-ed31-a3c2427b5971"
      },
      "execution_count": null,
      "outputs": [
        {
          "output_type": "execute_result",
          "data": {
            "text/plain": [
              "(53711, 32)"
            ]
          },
          "metadata": {},
          "execution_count": 31
        }
      ]
    },
    {
      "cell_type": "markdown",
      "source": [
        "* Tabela de dados final"
      ],
      "metadata": {
        "id": "2x8qAI_UzCbH"
      }
    },
    {
      "cell_type": "markdown",
      "source": [
        "\n",
        "\n",
        "> *We focused on six vital sign features (body temperature, heart rate, respiration rate, systolic blood pressure, diastolic blood pressure, and oxygen saturation [SpO2]) along with glucose level... We extracted four demographic features (weight, height, age, and gender).*\n",
        "\n"
      ],
      "metadata": {
        "id": "5Tv3A-YGmA84"
      }
    },
    {
      "cell_type": "code",
      "source": [
        "variaveis_numericas = ['heart_rate_mean', 'sbp_mean', 'dbp_mean', 'resp_rate_mean',\n",
        "       'temperature_mean', 'spo2_mean', 'glucose_mean', 'age', 'weight', 'height']\n",
        "variaveis_categoricas = ['gender']"
      ],
      "metadata": {
        "id": "SNxQ35V0tjpT"
      },
      "execution_count": null,
      "outputs": []
    },
    {
      "cell_type": "code",
      "source": [
        "df_modelo = df_completo.loc[:, ['stay_id'] + variaveis_numericas + variaveis_categoricas].drop_duplicates()\n",
        "df_modelo"
      ],
      "metadata": {
        "colab": {
          "base_uri": "https://localhost:8080/",
          "height": 424
        },
        "id": "mAdqMWgTuvNg",
        "outputId": "ad54433a-bb50-4705-ae86-80bf2dd69230"
      },
      "execution_count": null,
      "outputs": [
        {
          "output_type": "execute_result",
          "data": {
            "text/plain": [
              "        stay_id  heart_rate_mean    sbp_mean   dbp_mean  resp_rate_mean  \\\n",
              "0      35200789        75.760000  112.000000  65.333333       14.680000   \n",
              "1      31269608        75.846154  124.846154  54.230769       20.576923   \n",
              "2      34178938        70.888889  109.000000  60.411765       16.352941   \n",
              "3      33941522        72.176471  125.214286  79.928571       18.437500   \n",
              "4      31097260        65.187500  132.176471  70.882353       15.000000   \n",
              "...         ...              ...         ...        ...             ...   \n",
              "53706  33257394       101.837838  120.000000  70.300000       16.812500   \n",
              "53707  34725536        77.214286  143.192308  66.576923       15.178571   \n",
              "53708  35141145        83.240000  141.320000  82.720000       18.240000   \n",
              "53709  35401899       112.423077  103.250000  60.500000       21.115385   \n",
              "53710  30143796        81.458333  110.520000  68.666667       14.576923   \n",
              "\n",
              "      temperature_mean  spo2_mean  glucose_mean  age  weight  height gender  \n",
              "0         37.112500000  98.600000     91.000000   33    79.4     NaN      M  \n",
              "1         36.620000000  95.884615    189.800000   83    59.8     NaN      F  \n",
              "2         36.815000000  97.705882    106.500000   20    71.4     NaN      M  \n",
              "3         36.905714286  97.000000    105.500000   65    95.6     NaN      M  \n",
              "4         36.762857143  97.625000     83.000000   68    58.7     NaN      F  \n",
              "...                ...        ...           ...  ...     ...     ...    ...  \n",
              "53706     37.262500000  97.972973     84.000000   39    75.0     NaN      F  \n",
              "53707     36.784285714  98.678571    169.064516   62   110.0     NaN      M  \n",
              "53708     36.467142857  96.916667     97.000000   26   106.5     NaN      M  \n",
              "53709     37.320000000  91.419355    164.750000   58   108.0     NaN      M  \n",
              "53710     36.477142857  96.478261    108.000000   63    55.8   170.0      M  \n",
              "\n",
              "[53710 rows x 12 columns]"
            ],
            "text/html": [
              "\n",
              "  <div id=\"df-e0056dff-00f4-4d5b-9ea1-0dcfdfae903f\">\n",
              "    <div class=\"colab-df-container\">\n",
              "      <div>\n",
              "<style scoped>\n",
              "    .dataframe tbody tr th:only-of-type {\n",
              "        vertical-align: middle;\n",
              "    }\n",
              "\n",
              "    .dataframe tbody tr th {\n",
              "        vertical-align: top;\n",
              "    }\n",
              "\n",
              "    .dataframe thead th {\n",
              "        text-align: right;\n",
              "    }\n",
              "</style>\n",
              "<table border=\"1\" class=\"dataframe\">\n",
              "  <thead>\n",
              "    <tr style=\"text-align: right;\">\n",
              "      <th></th>\n",
              "      <th>stay_id</th>\n",
              "      <th>heart_rate_mean</th>\n",
              "      <th>sbp_mean</th>\n",
              "      <th>dbp_mean</th>\n",
              "      <th>resp_rate_mean</th>\n",
              "      <th>temperature_mean</th>\n",
              "      <th>spo2_mean</th>\n",
              "      <th>glucose_mean</th>\n",
              "      <th>age</th>\n",
              "      <th>weight</th>\n",
              "      <th>height</th>\n",
              "      <th>gender</th>\n",
              "    </tr>\n",
              "  </thead>\n",
              "  <tbody>\n",
              "    <tr>\n",
              "      <th>0</th>\n",
              "      <td>35200789</td>\n",
              "      <td>75.760000</td>\n",
              "      <td>112.000000</td>\n",
              "      <td>65.333333</td>\n",
              "      <td>14.680000</td>\n",
              "      <td>37.112500000</td>\n",
              "      <td>98.600000</td>\n",
              "      <td>91.000000</td>\n",
              "      <td>33</td>\n",
              "      <td>79.4</td>\n",
              "      <td>NaN</td>\n",
              "      <td>M</td>\n",
              "    </tr>\n",
              "    <tr>\n",
              "      <th>1</th>\n",
              "      <td>31269608</td>\n",
              "      <td>75.846154</td>\n",
              "      <td>124.846154</td>\n",
              "      <td>54.230769</td>\n",
              "      <td>20.576923</td>\n",
              "      <td>36.620000000</td>\n",
              "      <td>95.884615</td>\n",
              "      <td>189.800000</td>\n",
              "      <td>83</td>\n",
              "      <td>59.8</td>\n",
              "      <td>NaN</td>\n",
              "      <td>F</td>\n",
              "    </tr>\n",
              "    <tr>\n",
              "      <th>2</th>\n",
              "      <td>34178938</td>\n",
              "      <td>70.888889</td>\n",
              "      <td>109.000000</td>\n",
              "      <td>60.411765</td>\n",
              "      <td>16.352941</td>\n",
              "      <td>36.815000000</td>\n",
              "      <td>97.705882</td>\n",
              "      <td>106.500000</td>\n",
              "      <td>20</td>\n",
              "      <td>71.4</td>\n",
              "      <td>NaN</td>\n",
              "      <td>M</td>\n",
              "    </tr>\n",
              "    <tr>\n",
              "      <th>3</th>\n",
              "      <td>33941522</td>\n",
              "      <td>72.176471</td>\n",
              "      <td>125.214286</td>\n",
              "      <td>79.928571</td>\n",
              "      <td>18.437500</td>\n",
              "      <td>36.905714286</td>\n",
              "      <td>97.000000</td>\n",
              "      <td>105.500000</td>\n",
              "      <td>65</td>\n",
              "      <td>95.6</td>\n",
              "      <td>NaN</td>\n",
              "      <td>M</td>\n",
              "    </tr>\n",
              "    <tr>\n",
              "      <th>4</th>\n",
              "      <td>31097260</td>\n",
              "      <td>65.187500</td>\n",
              "      <td>132.176471</td>\n",
              "      <td>70.882353</td>\n",
              "      <td>15.000000</td>\n",
              "      <td>36.762857143</td>\n",
              "      <td>97.625000</td>\n",
              "      <td>83.000000</td>\n",
              "      <td>68</td>\n",
              "      <td>58.7</td>\n",
              "      <td>NaN</td>\n",
              "      <td>F</td>\n",
              "    </tr>\n",
              "    <tr>\n",
              "      <th>...</th>\n",
              "      <td>...</td>\n",
              "      <td>...</td>\n",
              "      <td>...</td>\n",
              "      <td>...</td>\n",
              "      <td>...</td>\n",
              "      <td>...</td>\n",
              "      <td>...</td>\n",
              "      <td>...</td>\n",
              "      <td>...</td>\n",
              "      <td>...</td>\n",
              "      <td>...</td>\n",
              "      <td>...</td>\n",
              "    </tr>\n",
              "    <tr>\n",
              "      <th>53706</th>\n",
              "      <td>33257394</td>\n",
              "      <td>101.837838</td>\n",
              "      <td>120.000000</td>\n",
              "      <td>70.300000</td>\n",
              "      <td>16.812500</td>\n",
              "      <td>37.262500000</td>\n",
              "      <td>97.972973</td>\n",
              "      <td>84.000000</td>\n",
              "      <td>39</td>\n",
              "      <td>75.0</td>\n",
              "      <td>NaN</td>\n",
              "      <td>F</td>\n",
              "    </tr>\n",
              "    <tr>\n",
              "      <th>53707</th>\n",
              "      <td>34725536</td>\n",
              "      <td>77.214286</td>\n",
              "      <td>143.192308</td>\n",
              "      <td>66.576923</td>\n",
              "      <td>15.178571</td>\n",
              "      <td>36.784285714</td>\n",
              "      <td>98.678571</td>\n",
              "      <td>169.064516</td>\n",
              "      <td>62</td>\n",
              "      <td>110.0</td>\n",
              "      <td>NaN</td>\n",
              "      <td>M</td>\n",
              "    </tr>\n",
              "    <tr>\n",
              "      <th>53708</th>\n",
              "      <td>35141145</td>\n",
              "      <td>83.240000</td>\n",
              "      <td>141.320000</td>\n",
              "      <td>82.720000</td>\n",
              "      <td>18.240000</td>\n",
              "      <td>36.467142857</td>\n",
              "      <td>96.916667</td>\n",
              "      <td>97.000000</td>\n",
              "      <td>26</td>\n",
              "      <td>106.5</td>\n",
              "      <td>NaN</td>\n",
              "      <td>M</td>\n",
              "    </tr>\n",
              "    <tr>\n",
              "      <th>53709</th>\n",
              "      <td>35401899</td>\n",
              "      <td>112.423077</td>\n",
              "      <td>103.250000</td>\n",
              "      <td>60.500000</td>\n",
              "      <td>21.115385</td>\n",
              "      <td>37.320000000</td>\n",
              "      <td>91.419355</td>\n",
              "      <td>164.750000</td>\n",
              "      <td>58</td>\n",
              "      <td>108.0</td>\n",
              "      <td>NaN</td>\n",
              "      <td>M</td>\n",
              "    </tr>\n",
              "    <tr>\n",
              "      <th>53710</th>\n",
              "      <td>30143796</td>\n",
              "      <td>81.458333</td>\n",
              "      <td>110.520000</td>\n",
              "      <td>68.666667</td>\n",
              "      <td>14.576923</td>\n",
              "      <td>36.477142857</td>\n",
              "      <td>96.478261</td>\n",
              "      <td>108.000000</td>\n",
              "      <td>63</td>\n",
              "      <td>55.8</td>\n",
              "      <td>170.0</td>\n",
              "      <td>M</td>\n",
              "    </tr>\n",
              "  </tbody>\n",
              "</table>\n",
              "<p>53710 rows × 12 columns</p>\n",
              "</div>\n",
              "      <button class=\"colab-df-convert\" onclick=\"convertToInteractive('df-e0056dff-00f4-4d5b-9ea1-0dcfdfae903f')\"\n",
              "              title=\"Convert this dataframe to an interactive table.\"\n",
              "              style=\"display:none;\">\n",
              "        \n",
              "  <svg xmlns=\"http://www.w3.org/2000/svg\" height=\"24px\"viewBox=\"0 0 24 24\"\n",
              "       width=\"24px\">\n",
              "    <path d=\"M0 0h24v24H0V0z\" fill=\"none\"/>\n",
              "    <path d=\"M18.56 5.44l.94 2.06.94-2.06 2.06-.94-2.06-.94-.94-2.06-.94 2.06-2.06.94zm-11 1L8.5 8.5l.94-2.06 2.06-.94-2.06-.94L8.5 2.5l-.94 2.06-2.06.94zm10 10l.94 2.06.94-2.06 2.06-.94-2.06-.94-.94-2.06-.94 2.06-2.06.94z\"/><path d=\"M17.41 7.96l-1.37-1.37c-.4-.4-.92-.59-1.43-.59-.52 0-1.04.2-1.43.59L10.3 9.45l-7.72 7.72c-.78.78-.78 2.05 0 2.83L4 21.41c.39.39.9.59 1.41.59.51 0 1.02-.2 1.41-.59l7.78-7.78 2.81-2.81c.8-.78.8-2.07 0-2.86zM5.41 20L4 18.59l7.72-7.72 1.47 1.35L5.41 20z\"/>\n",
              "  </svg>\n",
              "      </button>\n",
              "      \n",
              "  <style>\n",
              "    .colab-df-container {\n",
              "      display:flex;\n",
              "      flex-wrap:wrap;\n",
              "      gap: 12px;\n",
              "    }\n",
              "\n",
              "    .colab-df-convert {\n",
              "      background-color: #E8F0FE;\n",
              "      border: none;\n",
              "      border-radius: 50%;\n",
              "      cursor: pointer;\n",
              "      display: none;\n",
              "      fill: #1967D2;\n",
              "      height: 32px;\n",
              "      padding: 0 0 0 0;\n",
              "      width: 32px;\n",
              "    }\n",
              "\n",
              "    .colab-df-convert:hover {\n",
              "      background-color: #E2EBFA;\n",
              "      box-shadow: 0px 1px 2px rgba(60, 64, 67, 0.3), 0px 1px 3px 1px rgba(60, 64, 67, 0.15);\n",
              "      fill: #174EA6;\n",
              "    }\n",
              "\n",
              "    [theme=dark] .colab-df-convert {\n",
              "      background-color: #3B4455;\n",
              "      fill: #D2E3FC;\n",
              "    }\n",
              "\n",
              "    [theme=dark] .colab-df-convert:hover {\n",
              "      background-color: #434B5C;\n",
              "      box-shadow: 0px 1px 3px 1px rgba(0, 0, 0, 0.15);\n",
              "      filter: drop-shadow(0px 1px 2px rgba(0, 0, 0, 0.3));\n",
              "      fill: #FFFFFF;\n",
              "    }\n",
              "  </style>\n",
              "\n",
              "      <script>\n",
              "        const buttonEl =\n",
              "          document.querySelector('#df-e0056dff-00f4-4d5b-9ea1-0dcfdfae903f button.colab-df-convert');\n",
              "        buttonEl.style.display =\n",
              "          google.colab.kernel.accessAllowed ? 'block' : 'none';\n",
              "\n",
              "        async function convertToInteractive(key) {\n",
              "          const element = document.querySelector('#df-e0056dff-00f4-4d5b-9ea1-0dcfdfae903f');\n",
              "          const dataTable =\n",
              "            await google.colab.kernel.invokeFunction('convertToInteractive',\n",
              "                                                     [key], {});\n",
              "          if (!dataTable) return;\n",
              "\n",
              "          const docLinkHtml = 'Like what you see? Visit the ' +\n",
              "            '<a target=\"_blank\" href=https://colab.research.google.com/notebooks/data_table.ipynb>data table notebook</a>'\n",
              "            + ' to learn more about interactive tables.';\n",
              "          element.innerHTML = '';\n",
              "          dataTable['output_type'] = 'display_data';\n",
              "          await google.colab.output.renderOutput(dataTable, element);\n",
              "          const docLink = document.createElement('div');\n",
              "          docLink.innerHTML = docLinkHtml;\n",
              "          element.appendChild(docLink);\n",
              "        }\n",
              "      </script>\n",
              "    </div>\n",
              "  </div>\n",
              "  "
            ]
          },
          "metadata": {},
          "execution_count": 33
        }
      ]
    },
    {
      "cell_type": "code",
      "source": [
        "df_modelo = pd.merge(df_modelo, estadias_icu[['stay_id', 'los']], on=['stay_id'])\n",
        "df_modelo.shape"
      ],
      "metadata": {
        "colab": {
          "base_uri": "https://localhost:8080/"
        },
        "id": "GPYbHVDj3ddC",
        "outputId": "b2f50573-1c6b-4ac9-e259-f0e83257f0b4"
      },
      "execution_count": null,
      "outputs": [
        {
          "output_type": "execute_result",
          "data": {
            "text/plain": [
              "(53710, 13)"
            ]
          },
          "metadata": {},
          "execution_count": 34
        }
      ]
    },
    {
      "cell_type": "markdown",
      "source": [
        "## 2. Análise de dados faltantes"
      ],
      "metadata": {
        "id": "62nQdKyoZWDn"
      }
    },
    {
      "cell_type": "code",
      "source": [
        "df_modelo.isna().sum()/df_modelo.shape[0]*100"
      ],
      "metadata": {
        "colab": {
          "base_uri": "https://localhost:8080/"
        },
        "id": "VjhRK0txZVc3",
        "outputId": "ad35a0f8-6f92-4ac7-b7c5-9b1c27769b81"
      },
      "execution_count": null,
      "outputs": [
        {
          "output_type": "execute_result",
          "data": {
            "text/plain": [
              "stay_id              0.000000\n",
              "heart_rate_mean      0.113573\n",
              "sbp_mean             0.148948\n",
              "dbp_mean             0.150810\n",
              "resp_rate_mean       0.208527\n",
              "temperature_mean     3.215416\n",
              "spo2_mean            0.135915\n",
              "glucose_mean         0.564141\n",
              "age                  0.000000\n",
              "weight               0.000000\n",
              "height              45.924409\n",
              "gender               0.000000\n",
              "los                  0.000000\n",
              "dtype: float64"
            ]
          },
          "metadata": {},
          "execution_count": 35
        }
      ]
    },
    {
      "cell_type": "markdown",
      "source": [
        "\n",
        "\n",
        "> *The percentage of missing data was relatively low (less than 1% for heart rate, respiration rate, systolic blood pressure, diastolic blood pressure, SpO2, and glucose level, and less than 2% for body temperature). Given the low percentage of missing values and the fact that vital signs are numerical values that are typically normally distributed [20], we filled missing values of vital sign observations using the mean.*\n",
        "\n",
        "* Note que os resultados foram um pouco diferentes nos nossos dados. \n",
        "* Vamos preencher esses dados com a média. \n",
        "\n"
      ],
      "metadata": {
        "id": "49mq78nnrFJH"
      }
    },
    {
      "cell_type": "code",
      "source": [
        "for c in variaveis_numericas:\n",
        "    print(c)\n",
        "    if df_modelo[df_modelo[c].isna()].shape[0] > 0:\n",
        "        mean = df_modelo[c].mean()\n",
        "        print(mean, c)\n",
        "        df_modelo.loc[df_modelo[c].isna(), c] = mean"
      ],
      "metadata": {
        "colab": {
          "base_uri": "https://localhost:8080/"
        },
        "id": "oGyn4_oCsog5",
        "outputId": "95688a22-3705-423c-a6af-221f3de50011"
      },
      "execution_count": null,
      "outputs": [
        {
          "output_type": "stream",
          "name": "stdout",
          "text": [
            "heart_rate_mean\n",
            "85.20604904528913 heart_rate_mean\n",
            "sbp_mean\n",
            "118.12617537873057 sbp_mean\n",
            "dbp_mean\n",
            "63.190017302504 dbp_mean\n",
            "resp_rate_mean\n",
            "19.19087842252013 resp_rate_mean\n",
            "temperature_mean\n",
            "36.84467774017383 temperature_mean\n",
            "spo2_mean\n",
            "96.95060644560587 spo2_mean\n",
            "glucose_mean\n",
            "269.33313467489444 glucose_mean\n",
            "age\n",
            "weight\n",
            "height\n",
            "169.49025719597853 height\n"
          ]
        }
      ]
    },
    {
      "cell_type": "code",
      "source": [
        "df_modelo.isna().sum()/df_modelo.shape[0]*100"
      ],
      "metadata": {
        "colab": {
          "base_uri": "https://localhost:8080/"
        },
        "id": "w4aJYEXY2yEk",
        "outputId": "d663e48b-6804-4c07-f6fd-51574cf083c3"
      },
      "execution_count": null,
      "outputs": [
        {
          "output_type": "execute_result",
          "data": {
            "text/plain": [
              "stay_id             0.0\n",
              "heart_rate_mean     0.0\n",
              "sbp_mean            0.0\n",
              "dbp_mean            0.0\n",
              "resp_rate_mean      0.0\n",
              "temperature_mean    0.0\n",
              "spo2_mean           0.0\n",
              "glucose_mean        0.0\n",
              "age                 0.0\n",
              "weight              0.0\n",
              "height              0.0\n",
              "gender              0.0\n",
              "los                 0.0\n",
              "dtype: float64"
            ]
          },
          "metadata": {},
          "execution_count": 37
        }
      ]
    },
    {
      "cell_type": "markdown",
      "source": [
        "####**Suas análises**####\n",
        "\n",
        "* Teste outras formas de tratar dados faltantes. Por exemplo, a altura é o atributo com o maior número de dados faltantes. É conhecido que a altura de uma população segue uma distribuição normal (veja esse [post](https://www.johndcook.com/blog/2008/07/20/why-heights-are-normally-distributed/), que inclusive te leva para um link que explica os casos onde isso falha). Assim, ao invés de usar a média, você pode fazer uma amostragem aleatória a partir de uma distribuiçãpo normal. Essa abordagem é melhor que utilizar a média? Note que o resultado dessa mudanças só serão perceptíveis quando você rodar o modelo com os novos dados.\n",
        "* O quão relevante é a altura no seu modelo? Valeria mais a pena excluir a coluna altura ou as linhas onde a altura é desconhecida?"
      ],
      "metadata": {
        "id": "IdUH93PxwsDb"
      }
    },
    {
      "cell_type": "markdown",
      "source": [
        "## 3. Análise de outliers e distribuição das variáveis"
      ],
      "metadata": {
        "id": "SQ-7nsNmZBxQ"
      }
    },
    {
      "cell_type": "markdown",
      "source": [
        "#### Variável resposta (los)"
      ],
      "metadata": {
        "id": "nosfYkSeZK59"
      }
    },
    {
      "cell_type": "code",
      "source": [
        "df_modelo['los'].plot.box()"
      ],
      "metadata": {
        "colab": {
          "base_uri": "https://localhost:8080/",
          "height": 447
        },
        "id": "yySUcF3qfzIA",
        "outputId": "f6056e3e-8ade-47b8-c97c-fb69525e1145"
      },
      "execution_count": null,
      "outputs": [
        {
          "output_type": "execute_result",
          "data": {
            "text/plain": [
              "<Axes: >"
            ]
          },
          "metadata": {},
          "execution_count": 38
        },
        {
          "output_type": "display_data",
          "data": {
            "text/plain": [
              "<Figure size 640x480 with 1 Axes>"
            ],
            "image/png": "[encoded data removed]"
          },
          "metadata": {}
        }
      ]
    },
    {
      "cell_type": "code",
      "source": [
        "df_modelo.loc[df_modelo['los'] <= 30,'los'].plot.box()"
      ],
      "metadata": {
        "colab": {
          "base_uri": "https://localhost:8080/",
          "height": 447
        },
        "id": "GIONqpgif7D4",
        "outputId": "7628e73a-b6c4-40aa-a27b-9d9f876f8ddb"
      },
      "execution_count": null,
      "outputs": [
        {
          "output_type": "execute_result",
          "data": {
            "text/plain": [
              "<Axes: >"
            ]
          },
          "metadata": {},
          "execution_count": 39
        },
        {
          "output_type": "display_data",
          "data": {
            "text/plain": [
              "<Figure size 640x480 with 1 Axes>"
            ],
            "image/png": "[encoded data removed]"
          },
          "metadata": {}
        }
      ]
    },
    {
      "cell_type": "code",
      "source": [
        "df_modelo['los'].describe()"
      ],
      "metadata": {
        "colab": {
          "base_uri": "https://localhost:8080/"
        },
        "id": "nux24ApOgFix",
        "outputId": "56c3715c-6e69-4875-c5a0-1328ec0d986e"
      },
      "execution_count": null,
      "outputs": [
        {
          "output_type": "execute_result",
          "data": {
            "text/plain": [
              "count    53710.000000\n",
              "mean         4.144484\n",
              "std          5.261509\n",
              "min          1.000046\n",
              "25%          1.551499\n",
              "50%          2.370475\n",
              "75%          4.344138\n",
              "max        110.232280\n",
              "Name: los, dtype: float64"
            ]
          },
          "metadata": {},
          "execution_count": 40
        }
      ]
    },
    {
      "cell_type": "code",
      "source": [
        "df_modelo['los'].plot.hist(bins=100)"
      ],
      "metadata": {
        "colab": {
          "base_uri": "https://localhost:8080/",
          "height": 447
        },
        "id": "AJJWGTdB30hN",
        "outputId": "b5e03374-4bbe-440c-d036-3f8e8eba9a93"
      },
      "execution_count": null,
      "outputs": [
        {
          "output_type": "execute_result",
          "data": {
            "text/plain": [
              "<Axes: ylabel='Frequency'>"
            ]
          },
          "metadata": {},
          "execution_count": 41
        },
        {
          "output_type": "display_data",
          "data": {
            "text/plain": [
              "<Figure size 640x480 with 1 Axes>"
            ],
            "image/png": "[encoded data removed]"
          },
          "metadata": {}
        }
      ]
    },
    {
      "cell_type": "markdown",
      "source": [
        "####**Suas análises**####\n",
        "\n",
        "* Faça análises similares para outras variáveis que você considerar relevantes.\n",
        "* Alguma variável tem valores estranhos? Como você trataria esse problema? Aqui é essencial conhecimento sobre a faixa de valores que cada variável pode assumir. Por exemplo, analise a variável weight. "
      ],
      "metadata": {
        "id": "LzldfKKD3-fg"
      }
    },
    {
      "cell_type": "markdown",
      "source": [
        "## 4. Análise de correlação entre as variáveis\n",
        "\n"
      ],
      "metadata": {
        "id": "YIuRn6Nt51E3"
      }
    },
    {
      "cell_type": "code",
      "source": [
        "for c in variaveis_numericas:\n",
        "    df_modelo[c] = df_modelo[c].apply(lambda x : float(x))"
      ],
      "metadata": {
        "id": "s3iH0TO-6Zv6"
      },
      "execution_count": null,
      "outputs": []
    },
    {
      "cell_type": "code",
      "source": [
        "#_ = sns.pairplot(df_modelo[variaveis_numericas + ['los']], kind=\"reg\", diag_kind=\"kde\", plot_kws={\"scatter_kws\": {'s': 3, 'color':'black'}}) #2min"
      ],
      "metadata": {
        "id": "w-9s30fMsFDv"
      },
      "execution_count": null,
      "outputs": []
    },
    {
      "cell_type": "code",
      "source": [
        "df_modelo[variaveis_numericas + ['los']].corr()"
      ],
      "metadata": {
        "colab": {
          "base_uri": "https://localhost:8080/",
          "height": 394
        },
        "id": "0M3PxLNltK2m",
        "outputId": "a563c7ad-0e43-4249-ad2c-f78735cdfcc9"
      },
      "execution_count": null,
      "outputs": [
        {
          "output_type": "execute_result",
          "data": {
            "text/plain": [
              "                  heart_rate_mean  sbp_mean  dbp_mean  resp_rate_mean  \\\n",
              "heart_rate_mean          1.000000 -0.105863  0.214018        0.367766   \n",
              "sbp_mean                -0.105863  1.000000  0.517999       -0.030232   \n",
              "dbp_mean                 0.214018  0.517999  1.000000        0.061263   \n",
              "resp_rate_mean           0.367766 -0.030232  0.061263        1.000000   \n",
              "temperature_mean         0.236752  0.073281  0.064001        0.152827   \n",
              "spo2_mean               -0.114732 -0.009610 -0.086473       -0.258508   \n",
              "glucose_mean             0.008782 -0.007334 -0.003511        0.004971   \n",
              "age                     -0.194803  0.011870 -0.320429        0.035551   \n",
              "weight                   0.007742  0.026038  0.041841        0.026888   \n",
              "height                  -0.013009 -0.005347  0.065665       -0.019744   \n",
              "los                      0.091079 -0.040897 -0.032333        0.129859   \n",
              "\n",
              "                  temperature_mean  spo2_mean  glucose_mean       age  \\\n",
              "heart_rate_mean           0.236752  -0.114732      0.008782 -0.194803   \n",
              "sbp_mean                  0.073281  -0.009610     -0.007334  0.011870   \n",
              "dbp_mean                  0.064001  -0.086473     -0.003511 -0.320429   \n",
              "resp_rate_mean            0.152827  -0.258508      0.004971  0.035551   \n",
              "temperature_mean          1.000000   0.004151     -0.002216 -0.182736   \n",
              "spo2_mean                 0.004151   1.000000     -0.003241 -0.076048   \n",
              "glucose_mean             -0.002216  -0.003241      1.000000 -0.003308   \n",
              "age                      -0.182736  -0.076048     -0.003308  1.000000   \n",
              "weight                    0.052648  -0.090170      0.001094 -0.111619   \n",
              "height                    0.030748  -0.007370     -0.007385 -0.120005   \n",
              "los                       0.090309   0.013813      0.001934 -0.020405   \n",
              "\n",
              "                    weight    height       los  \n",
              "heart_rate_mean   0.007742 -0.013009  0.091079  \n",
              "sbp_mean          0.026038 -0.005347 -0.040897  \n",
              "dbp_mean          0.041841  0.065665 -0.032333  \n",
              "resp_rate_mean    0.026888 -0.019744  0.129859  \n",
              "temperature_mean  0.052648  0.030748  0.090309  \n",
              "spo2_mean        -0.090170 -0.007370  0.013813  \n",
              "glucose_mean      0.001094 -0.007385  0.001934  \n",
              "age              -0.111619 -0.120005 -0.020405  \n",
              "weight            1.000000  0.202401  0.031580  \n",
              "height            0.202401  1.000000 -0.012012  \n",
              "los               0.031580 -0.012012  1.000000  "
            ],
            "text/html": [
              "\n",
              "  <div id=\"df-68f9635d-c0f3-422b-93f1-c38de99845f7\">\n",
              "    <div class=\"colab-df-container\">\n",
              "      <div>\n",
              "<style scoped>\n",
              "    .dataframe tbody tr th:only-of-type {\n",
              "        vertical-align: middle;\n",
              "    }\n",
              "\n",
              "    .dataframe tbody tr th {\n",
              "        vertical-align: top;\n",
              "    }\n",
              "\n",
              "    .dataframe thead th {\n",
              "        text-align: right;\n",
              "    }\n",
              "</style>\n",
              "<table border=\"1\" class=\"dataframe\">\n",
              "  <thead>\n",
              "    <tr style=\"text-align: right;\">\n",
              "      <th></th>\n",
              "      <th>heart_rate_mean</th>\n",
              "      <th>sbp_mean</th>\n",
              "      <th>dbp_mean</th>\n",
              "      <th>resp_rate_mean</th>\n",
              "      <th>temperature_mean</th>\n",
              "      <th>spo2_mean</th>\n",
              "      <th>glucose_mean</th>\n",
              "      <th>age</th>\n",
              "      <th>weight</th>\n",
              "      <th>height</th>\n",
              "      <th>los</th>\n",
              "    </tr>\n",
              "  </thead>\n",
              "  <tbody>\n",
              "    <tr>\n",
              "      <th>heart_rate_mean</th>\n",
              "      <td>1.000000</td>\n",
              "      <td>-0.105863</td>\n",
              "      <td>0.214018</td>\n",
              "      <td>0.367766</td>\n",
              "      <td>0.236752</td>\n",
              "      <td>-0.114732</td>\n",
              "      <td>0.008782</td>\n",
              "      <td>-0.194803</td>\n",
              "      <td>0.007742</td>\n",
              "      <td>-0.013009</td>\n",
              "      <td>0.091079</td>\n",
              "    </tr>\n",
              "    <tr>\n",
              "      <th>sbp_mean</th>\n",
              "      <td>-0.105863</td>\n",
              "      <td>1.000000</td>\n",
              "      <td>0.517999</td>\n",
              "      <td>-0.030232</td>\n",
              "      <td>0.073281</td>\n",
              "      <td>-0.009610</td>\n",
              "      <td>-0.007334</td>\n",
              "      <td>0.011870</td>\n",
              "      <td>0.026038</td>\n",
              "      <td>-0.005347</td>\n",
              "      <td>-0.040897</td>\n",
              "    </tr>\n",
              "    <tr>\n",
              "      <th>dbp_mean</th>\n",
              "      <td>0.214018</td>\n",
              "      <td>0.517999</td>\n",
              "      <td>1.000000</td>\n",
              "      <td>0.061263</td>\n",
              "      <td>0.064001</td>\n",
              "      <td>-0.086473</td>\n",
              "      <td>-0.003511</td>\n",
              "      <td>-0.320429</td>\n",
              "      <td>0.041841</td>\n",
              "      <td>0.065665</td>\n",
              "      <td>-0.032333</td>\n",
              "    </tr>\n",
              "    <tr>\n",
              "      <th>resp_rate_mean</th>\n",
              "      <td>0.367766</td>\n",
              "      <td>-0.030232</td>\n",
              "      <td>0.061263</td>\n",
              "      <td>1.000000</td>\n",
              "      <td>0.152827</td>\n",
              "      <td>-0.258508</td>\n",
              "      <td>0.004971</td>\n",
              "      <td>0.035551</td>\n",
              "      <td>0.026888</td>\n",
              "      <td>-0.019744</td>\n",
              "      <td>0.129859</td>\n",
              "    </tr>\n",
              "    <tr>\n",
              "      <th>temperature_mean</th>\n",
              "      <td>0.236752</td>\n",
              "      <td>0.073281</td>\n",
              "      <td>0.064001</td>\n",
              "      <td>0.152827</td>\n",
              "      <td>1.000000</td>\n",
              "      <td>0.004151</td>\n",
              "      <td>-0.002216</td>\n",
              "      <td>-0.182736</td>\n",
              "      <td>0.052648</td>\n",
              "      <td>0.030748</td>\n",
              "      <td>0.090309</td>\n",
              "    </tr>\n",
              "    <tr>\n",
              "      <th>spo2_mean</th>\n",
              "      <td>-0.114732</td>\n",
              "      <td>-0.009610</td>\n",
              "      <td>-0.086473</td>\n",
              "      <td>-0.258508</td>\n",
              "      <td>0.004151</td>\n",
              "      <td>1.000000</td>\n",
              "      <td>-0.003241</td>\n",
              "      <td>-0.076048</td>\n",
              "      <td>-0.090170</td>\n",
              "      <td>-0.007370</td>\n",
              "      <td>0.013813</td>\n",
              "    </tr>\n",
              "    <tr>\n",
              "      <th>glucose_mean</th>\n",
              "      <td>0.008782</td>\n",
              "      <td>-0.007334</td>\n",
              "      <td>-0.003511</td>\n",
              "      <td>0.004971</td>\n",
              "      <td>-0.002216</td>\n",
              "      <td>-0.003241</td>\n",
              "      <td>1.000000</td>\n",
              "      <td>-0.003308</td>\n",
              "      <td>0.001094</td>\n",
              "      <td>-0.007385</td>\n",
              "      <td>0.001934</td>\n",
              "    </tr>\n",
              "    <tr>\n",
              "      <th>age</th>\n",
              "      <td>-0.194803</td>\n",
              "      <td>0.011870</td>\n",
              "      <td>-0.320429</td>\n",
              "      <td>0.035551</td>\n",
              "      <td>-0.182736</td>\n",
              "      <td>-0.076048</td>\n",
              "      <td>-0.003308</td>\n",
              "      <td>1.000000</td>\n",
              "      <td>-0.111619</td>\n",
              "      <td>-0.120005</td>\n",
              "      <td>-0.020405</td>\n",
              "    </tr>\n",
              "    <tr>\n",
              "      <th>weight</th>\n",
              "      <td>0.007742</td>\n",
              "      <td>0.026038</td>\n",
              "      <td>0.041841</td>\n",
              "      <td>0.026888</td>\n",
              "      <td>0.052648</td>\n",
              "      <td>-0.090170</td>\n",
              "      <td>0.001094</td>\n",
              "      <td>-0.111619</td>\n",
              "      <td>1.000000</td>\n",
              "      <td>0.202401</td>\n",
              "      <td>0.031580</td>\n",
              "    </tr>\n",
              "    <tr>\n",
              "      <th>height</th>\n",
              "      <td>-0.013009</td>\n",
              "      <td>-0.005347</td>\n",
              "      <td>0.065665</td>\n",
              "      <td>-0.019744</td>\n",
              "      <td>0.030748</td>\n",
              "      <td>-0.007370</td>\n",
              "      <td>-0.007385</td>\n",
              "      <td>-0.120005</td>\n",
              "      <td>0.202401</td>\n",
              "      <td>1.000000</td>\n",
              "      <td>-0.012012</td>\n",
              "    </tr>\n",
              "    <tr>\n",
              "      <th>los</th>\n",
              "      <td>0.091079</td>\n",
              "      <td>-0.040897</td>\n",
              "      <td>-0.032333</td>\n",
              "      <td>0.129859</td>\n",
              "      <td>0.090309</td>\n",
              "      <td>0.013813</td>\n",
              "      <td>0.001934</td>\n",
              "      <td>-0.020405</td>\n",
              "      <td>0.031580</td>\n",
              "      <td>-0.012012</td>\n",
              "      <td>1.000000</td>\n",
              "    </tr>\n",
              "  </tbody>\n",
              "</table>\n",
              "</div>\n",
              "      <button class=\"colab-df-convert\" onclick=\"convertToInteractive('df-68f9635d-c0f3-422b-93f1-c38de99845f7')\"\n",
              "              title=\"Convert this dataframe to an interactive table.\"\n",
              "              style=\"display:none;\">\n",
              "        \n",
              "  <svg xmlns=\"http://www.w3.org/2000/svg\" height=\"24px\"viewBox=\"0 0 24 24\"\n",
              "       width=\"24px\">\n",
              "    <path d=\"M0 0h24v24H0V0z\" fill=\"none\"/>\n",
              "    <path d=\"M18.56 5.44l.94 2.06.94-2.06 2.06-.94-2.06-.94-.94-2.06-.94 2.06-2.06.94zm-11 1L8.5 8.5l.94-2.06 2.06-.94-2.06-.94L8.5 2.5l-.94 2.06-2.06.94zm10 10l.94 2.06.94-2.06 2.06-.94-2.06-.94-.94-2.06-.94 2.06-2.06.94z\"/><path d=\"M17.41 7.96l-1.37-1.37c-.4-.4-.92-.59-1.43-.59-.52 0-1.04.2-1.43.59L10.3 9.45l-7.72 7.72c-.78.78-.78 2.05 0 2.83L4 21.41c.39.39.9.59 1.41.59.51 0 1.02-.2 1.41-.59l7.78-7.78 2.81-2.81c.8-.78.8-2.07 0-2.86zM5.41 20L4 18.59l7.72-7.72 1.47 1.35L5.41 20z\"/>\n",
              "  </svg>\n",
              "      </button>\n",
              "      \n",
              "  <style>\n",
              "    .colab-df-container {\n",
              "      display:flex;\n",
              "      flex-wrap:wrap;\n",
              "      gap: 12px;\n",
              "    }\n",
              "\n",
              "    .colab-df-convert {\n",
              "      background-color: #E8F0FE;\n",
              "      border: none;\n",
              "      border-radius: 50%;\n",
              "      cursor: pointer;\n",
              "      display: none;\n",
              "      fill: #1967D2;\n",
              "      height: 32px;\n",
              "      padding: 0 0 0 0;\n",
              "      width: 32px;\n",
              "    }\n",
              "\n",
              "    .colab-df-convert:hover {\n",
              "      background-color: #E2EBFA;\n",
              "      box-shadow: 0px 1px 2px rgba(60, 64, 67, 0.3), 0px 1px 3px 1px rgba(60, 64, 67, 0.15);\n",
              "      fill: #174EA6;\n",
              "    }\n",
              "\n",
              "    [theme=dark] .colab-df-convert {\n",
              "      background-color: #3B4455;\n",
              "      fill: #D2E3FC;\n",
              "    }\n",
              "\n",
              "    [theme=dark] .colab-df-convert:hover {\n",
              "      background-color: #434B5C;\n",
              "      box-shadow: 0px 1px 3px 1px rgba(0, 0, 0, 0.15);\n",
              "      filter: drop-shadow(0px 1px 2px rgba(0, 0, 0, 0.3));\n",
              "      fill: #FFFFFF;\n",
              "    }\n",
              "  </style>\n",
              "\n",
              "      <script>\n",
              "        const buttonEl =\n",
              "          document.querySelector('#df-68f9635d-c0f3-422b-93f1-c38de99845f7 button.colab-df-convert');\n",
              "        buttonEl.style.display =\n",
              "          google.colab.kernel.accessAllowed ? 'block' : 'none';\n",
              "\n",
              "        async function convertToInteractive(key) {\n",
              "          const element = document.querySelector('#df-68f9635d-c0f3-422b-93f1-c38de99845f7');\n",
              "          const dataTable =\n",
              "            await google.colab.kernel.invokeFunction('convertToInteractive',\n",
              "                                                     [key], {});\n",
              "          if (!dataTable) return;\n",
              "\n",
              "          const docLinkHtml = 'Like what you see? Visit the ' +\n",
              "            '<a target=\"_blank\" href=https://colab.research.google.com/notebooks/data_table.ipynb>data table notebook</a>'\n",
              "            + ' to learn more about interactive tables.';\n",
              "          element.innerHTML = '';\n",
              "          dataTable['output_type'] = 'display_data';\n",
              "          await google.colab.output.renderOutput(dataTable, element);\n",
              "          const docLink = document.createElement('div');\n",
              "          docLink.innerHTML = docLinkHtml;\n",
              "          element.appendChild(docLink);\n",
              "        }\n",
              "      </script>\n",
              "    </div>\n",
              "  </div>\n",
              "  "
            ]
          },
          "metadata": {},
          "execution_count": 44
        }
      ]
    },
    {
      "cell_type": "markdown",
      "source": [
        "## 5. Previsão de dias de hospitalização no CTI"
      ],
      "metadata": {
        "id": "y-eQl67zOFNS"
      }
    },
    {
      "cell_type": "markdown",
      "source": [
        "### Regressão linear múltipla###\n",
        "\n",
        "* Note que nessa seção utilizaremos a biblioteca [statsmodels](https://www.statsmodels.org/stable/index.html) que nos fornece informações relevantes sobre a regressão não disponíveis no SKLearn.\n"
      ],
      "metadata": {
        "id": "XR_DTmfJFjIF"
      }
    },
    {
      "cell_type": "code",
      "source": [
        "df_modelo.drop(columns = ['stay_id'], inplace=True)"
      ],
      "metadata": {
        "id": "2faNMz2GC976"
      },
      "execution_count": null,
      "outputs": []
    },
    {
      "cell_type": "markdown",
      "source": [
        "Primeiro, precisamos codificar a variável categórica manualmente."
      ],
      "metadata": {
        "id": "sf-iwnVUzqEj"
      }
    },
    {
      "cell_type": "code",
      "source": [
        "codificador_genero = OneHotEncoder(handle_unknown='ignore')\n",
        "g = pd.DataFrame([['F'], ['M']], columns=['gender'])\n",
        "codificador_genero.fit(g)\n",
        "genero_codificado = pd.DataFrame(codificador_genero.transform(df_modelo[['gender']]).toarray(), columns=['genderF', 'genderM'])\n",
        "df_modelo['genderF'] = genero_codificado['genderF']\n",
        "df_modelo['genderM'] = genero_codificado['genderM']"
      ],
      "metadata": {
        "id": "ViiUAU_0zukf"
      },
      "execution_count": null,
      "outputs": []
    },
    {
      "cell_type": "code",
      "source": [
        "#implemente o modelo\n",
        "#a saída abaixo é um exemplo"
      ],
      "metadata": {
        "id": "DIwy4LlwzzLF"
      },
      "execution_count": 1,
      "outputs": []
    },
    {
      "cell_type": "markdown",
      "source": [
        "Note como o modelo é ruim. Vamos analisar os resíduos do modelo."
      ],
      "metadata": {
        "id": "XgLSPq2i1ES6"
      }
    },
    {
      "cell_type": "code",
      "source": [
        "df_resultados = pd.DataFrame()\n",
        "df_resultados['previsao'] = list(y_pred)\n",
        "df_resultados['verdadeiro'] = list(y_teste)\n",
        "df_resultados['residuos'] = df_resultados['previsao'] - df_resultados['verdadeiro']\n",
        "df_resultados = df_resultados.sort_values(by='residuos').reset_index(drop=True)\n",
        "df_resultados.describe()"
      ],
      "metadata": {
        "id": "8gSgeafqgLHm"
      },
      "execution_count": null,
      "outputs": []
    },
    {
      "cell_type": "code",
      "source": [
        "df_resultados['residuos'].plot.hist(bins=100)"
      ],
      "metadata": {
        "id": "NJ7FJejO1U0-",
        "colab": {
          "base_uri": "https://localhost:8080/",
          "height": 539
        },
        "outputId": "38cabce6-ef9c-4a7b-c264-7a87129a234f"
      },
      "execution_count": null,
      "outputs": [
        {
          "output_type": "execute_result",
          "data": {
            "text/plain": [
              "<Axes: ylabel='Frequency'>"
            ]
          },
          "metadata": {},
          "execution_count": 49
        },
        {
          "output_type": "display_data",
          "data": {
            "text/plain": [
              "<Figure size 800x600 with 1 Axes>"
            ],
            "image/png": "[encoded data removed]"
          },
          "metadata": {}
        }
      ]
    },
    {
      "cell_type": "markdown",
      "source": [
        "* Apesar de obtermos um modelo muito ruim, há uma concentração de valores de resíduos próximo de zero. \n",
        "\n",
        "#### **Suas análises** ####\n",
        "\n",
        "Por que você acha que isso acontece?\n",
        "Você acha que aplicar uma tranformação no eixo y utilizando um log poderia ajudar? Experimente."
      ],
      "metadata": {
        "id": "n0yWgMvp1EFC"
      }
    },
    {
      "cell_type": "code",
      "source": [],
      "metadata": {
        "id": "UjX16tndbQ0D"
      },
      "execution_count": 2,
      "outputs": []
    },
    {
      "cell_type": "code",
      "source": [
        "df_resultados = pd.DataFrame()\n",
        "df_resultados['previsao'] = list(y_pred)\n",
        "df_resultados['verdadeiro'] = list(y_teste)\n",
        "df_resultados['residuos'] = df_resultados['previsao'] - df_resultados['verdadeiro']\n",
        "df_resultados = df_resultados.sort_values(by='residuos').reset_index(drop=True)\n",
        "df_resultados.describe()"
      ],
      "metadata": {
        "id": "TZD4o2N72MZL"
      },
      "execution_count": null,
      "outputs": []
    },
    {
      "cell_type": "code",
      "source": [
        "df_resultados['residuos'].plot.hist(bins=100)"
      ],
      "metadata": {
        "id": "emyAxoNu2xhd"
      },
      "execution_count": null,
      "outputs": []
    },
    {
      "cell_type": "markdown",
      "source": [
        "####**Suas análises**####\n",
        "Qual o efeito do uso do log? Os resultados melhoraram?\n",
        "Existem outras alternativas para melhorar os resutados?\n",
        "* O que fizemos foi diminuir o intervalo de variação da variável resposta, o que reflete no valor de *mean absolute error*. No entanto, o modelo continua  ruim (veja que *coefficient of determination* continua muito baixo). %APAGAR"
      ],
      "metadata": {
        "id": "rFgnwMml24pT"
      }
    },
    {
      "cell_type": "markdown",
      "source": [
        "### Modelo com xgboost\n",
        "Abaixo, utilizaremos um outro modelo de regressão que não assume que as relações entre as varia'veis sejam lineares. Isso é interessante para comparar os nossos resultados."
      ],
      "metadata": {
        "id": "fjx_MuJH3lc-"
      }
    },
    {
      "cell_type": "code",
      "source": [
        "import xgboost as xgb\n",
        "modelo_xgb = xgb.XGBRegressor(objective=\"reg:squarederror\", random_state=42, \n",
        "                             booster=\"gbtree\")\n",
        "\n",
        "modelo_xgb.fit(X_treino, y_treino)\n",
        "\n",
        "y_pred = modelo_xgb.predict(X_teste)\n",
        "\n",
        "print(\"====================================================\")\n",
        "print(\"Mean squared error: %.2f\" % mean_squared_error(y_teste, y_pred))\n",
        "print(\"Mean absolute error: %.2f\" % mean_absolute_error(y_teste, y_pred))\n",
        "print(\"Root mean absolute error: %.2f\" % mean_squared_error(y_teste, y_pred, squared=False))\n",
        "print(\"Coefficient of determination: %.2f\" % r2_score(y_teste, y_pred))\n",
        "print(\"====================================================\")\n",
        "\n",
        "plt.rcParams.update({'figure.figsize':(8,6), 'figure.dpi':100})\n",
        "plt.scatter(x=y_teste, y=y_pred, s=3)\n",
        "plt.plot(y_teste, y_teste, c='red')\n",
        "plt.ylabel('y_pred')\n",
        "plt.xlabel('y_teste')"
      ],
      "metadata": {
        "colab": {
          "base_uri": "https://localhost:8080/",
          "height": 664
        },
        "id": "48JCIpL1AJZg",
        "outputId": "9b6a1440-2e57-4279-bc0d-5ce345ebb6ad"
      },
      "execution_count": null,
      "outputs": [
        {
          "output_type": "stream",
          "name": "stdout",
          "text": [
            "====================================================\n",
            "Mean squared error: 0.31\n",
            "Mean absolute error: 0.43\n",
            "Root mean absolute error: 0.56\n",
            "Coefficient of determination: 0.16\n",
            "====================================================\n"
          ]
        },
        {
          "output_type": "execute_result",
          "data": {
            "text/plain": [
              "Text(0.5, 0, 'y_teste')"
            ]
          },
          "metadata": {},
          "execution_count": 53
        },
        {
          "output_type": "display_data",
          "data": {
            "text/plain": [
              "<Figure size 800x600 with 1 Axes>"
            ],
            "image/png": "[encoded data removed]"
          },
          "metadata": {}
        }
      ]
    },
    {
      "cell_type": "code",
      "source": [
        "df_resultados = pd.DataFrame()\n",
        "df_resultados['previsao'] = list(y_pred)\n",
        "df_resultados['verdadeiro'] = list(y_teste)\n",
        "df_resultados['residuos'] = df_resultados['previsao'] - df_resultados['verdadeiro']\n",
        "df_resultados = df_resultados.sort_values(by='residuos').reset_index(drop=True)\n",
        "df_resultados.describe()"
      ],
      "metadata": {
        "colab": {
          "base_uri": "https://localhost:8080/",
          "height": 300
        },
        "id": "kQRX1oJb4u33",
        "outputId": "86c17766-8f2e-4669-9ca2-b5b84fc16a1c"
      },
      "execution_count": null,
      "outputs": [
        {
          "output_type": "execute_result",
          "data": {
            "text/plain": [
              "          previsao   verdadeiro     residuos\n",
              "count  5371.000000  5371.000000  5371.000000\n",
              "mean      1.391346     1.384976     0.006370\n",
              "std       0.284779     0.610460     0.558862\n",
              "min       0.508034     0.693315    -2.859702\n",
              "25%       1.179434     0.921594    -0.266011\n",
              "50%       1.323611     1.203817     0.116188\n",
              "75%       1.549645     1.662095     0.381799\n",
              "max       3.066603     4.521938     1.814644"
            ],
            "text/html": [
              "\n",
              "  <div id=\"df-e4439593-ec50-4d21-872e-d6a32171793d\">\n",
              "    <div class=\"colab-df-container\">\n",
              "      <div>\n",
              "<style scoped>\n",
              "    .dataframe tbody tr th:only-of-type {\n",
              "        vertical-align: middle;\n",
              "    }\n",
              "\n",
              "    .dataframe tbody tr th {\n",
              "        vertical-align: top;\n",
              "    }\n",
              "\n",
              "    .dataframe thead th {\n",
              "        text-align: right;\n",
              "    }\n",
              "</style>\n",
              "<table border=\"1\" class=\"dataframe\">\n",
              "  <thead>\n",
              "    <tr style=\"text-align: right;\">\n",
              "      <th></th>\n",
              "      <th>previsao</th>\n",
              "      <th>verdadeiro</th>\n",
              "      <th>residuos</th>\n",
              "    </tr>\n",
              "  </thead>\n",
              "  <tbody>\n",
              "    <tr>\n",
              "      <th>count</th>\n",
              "      <td>5371.000000</td>\n",
              "      <td>5371.000000</td>\n",
              "      <td>5371.000000</td>\n",
              "    </tr>\n",
              "    <tr>\n",
              "      <th>mean</th>\n",
              "      <td>1.391346</td>\n",
              "      <td>1.384976</td>\n",
              "      <td>0.006370</td>\n",
              "    </tr>\n",
              "    <tr>\n",
              "      <th>std</th>\n",
              "      <td>0.284779</td>\n",
              "      <td>0.610460</td>\n",
              "      <td>0.558862</td>\n",
              "    </tr>\n",
              "    <tr>\n",
              "      <th>min</th>\n",
              "      <td>0.508034</td>\n",
              "      <td>0.693315</td>\n",
              "      <td>-2.859702</td>\n",
              "    </tr>\n",
              "    <tr>\n",
              "      <th>25%</th>\n",
              "      <td>1.179434</td>\n",
              "      <td>0.921594</td>\n",
              "      <td>-0.266011</td>\n",
              "    </tr>\n",
              "    <tr>\n",
              "      <th>50%</th>\n",
              "      <td>1.323611</td>\n",
              "      <td>1.203817</td>\n",
              "      <td>0.116188</td>\n",
              "    </tr>\n",
              "    <tr>\n",
              "      <th>75%</th>\n",
              "      <td>1.549645</td>\n",
              "      <td>1.662095</td>\n",
              "      <td>0.381799</td>\n",
              "    </tr>\n",
              "    <tr>\n",
              "      <th>max</th>\n",
              "      <td>3.066603</td>\n",
              "      <td>4.521938</td>\n",
              "      <td>1.814644</td>\n",
              "    </tr>\n",
              "  </tbody>\n",
              "</table>\n",
              "</div>\n",
              "      <button class=\"colab-df-convert\" onclick=\"convertToInteractive('df-e4439593-ec50-4d21-872e-d6a32171793d')\"\n",
              "              title=\"Convert this dataframe to an interactive table.\"\n",
              "              style=\"display:none;\">\n",
              "        \n",
              "  <svg xmlns=\"http://www.w3.org/2000/svg\" height=\"24px\"viewBox=\"0 0 24 24\"\n",
              "       width=\"24px\">\n",
              "    <path d=\"M0 0h24v24H0V0z\" fill=\"none\"/>\n",
              "    <path d=\"M18.56 5.44l.94 2.06.94-2.06 2.06-.94-2.06-.94-.94-2.06-.94 2.06-2.06.94zm-11 1L8.5 8.5l.94-2.06 2.06-.94-2.06-.94L8.5 2.5l-.94 2.06-2.06.94zm10 10l.94 2.06.94-2.06 2.06-.94-2.06-.94-.94-2.06-.94 2.06-2.06.94z\"/><path d=\"M17.41 7.96l-1.37-1.37c-.4-.4-.92-.59-1.43-.59-.52 0-1.04.2-1.43.59L10.3 9.45l-7.72 7.72c-.78.78-.78 2.05 0 2.83L4 21.41c.39.39.9.59 1.41.59.51 0 1.02-.2 1.41-.59l7.78-7.78 2.81-2.81c.8-.78.8-2.07 0-2.86zM5.41 20L4 18.59l7.72-7.72 1.47 1.35L5.41 20z\"/>\n",
              "  </svg>\n",
              "      </button>\n",
              "      \n",
              "  <style>\n",
              "    .colab-df-container {\n",
              "      display:flex;\n",
              "      flex-wrap:wrap;\n",
              "      gap: 12px;\n",
              "    }\n",
              "\n",
              "    .colab-df-convert {\n",
              "      background-color: #E8F0FE;\n",
              "      border: none;\n",
              "      border-radius: 50%;\n",
              "      cursor: pointer;\n",
              "      display: none;\n",
              "      fill: #1967D2;\n",
              "      height: 32px;\n",
              "      padding: 0 0 0 0;\n",
              "      width: 32px;\n",
              "    }\n",
              "\n",
              "    .colab-df-convert:hover {\n",
              "      background-color: #E2EBFA;\n",
              "      box-shadow: 0px 1px 2px rgba(60, 64, 67, 0.3), 0px 1px 3px 1px rgba(60, 64, 67, 0.15);\n",
              "      fill: #174EA6;\n",
              "    }\n",
              "\n",
              "    [theme=dark] .colab-df-convert {\n",
              "      background-color: #3B4455;\n",
              "      fill: #D2E3FC;\n",
              "    }\n",
              "\n",
              "    [theme=dark] .colab-df-convert:hover {\n",
              "      background-color: #434B5C;\n",
              "      box-shadow: 0px 1px 3px 1px rgba(0, 0, 0, 0.15);\n",
              "      filter: drop-shadow(0px 1px 2px rgba(0, 0, 0, 0.3));\n",
              "      fill: #FFFFFF;\n",
              "    }\n",
              "  </style>\n",
              "\n",
              "      <script>\n",
              "        const buttonEl =\n",
              "          document.querySelector('#df-e4439593-ec50-4d21-872e-d6a32171793d button.colab-df-convert');\n",
              "        buttonEl.style.display =\n",
              "          google.colab.kernel.accessAllowed ? 'block' : 'none';\n",
              "\n",
              "        async function convertToInteractive(key) {\n",
              "          const element = document.querySelector('#df-e4439593-ec50-4d21-872e-d6a32171793d');\n",
              "          const dataTable =\n",
              "            await google.colab.kernel.invokeFunction('convertToInteractive',\n",
              "                                                     [key], {});\n",
              "          if (!dataTable) return;\n",
              "\n",
              "          const docLinkHtml = 'Like what you see? Visit the ' +\n",
              "            '<a target=\"_blank\" href=https://colab.research.google.com/notebooks/data_table.ipynb>data table notebook</a>'\n",
              "            + ' to learn more about interactive tables.';\n",
              "          element.innerHTML = '';\n",
              "          dataTable['output_type'] = 'display_data';\n",
              "          await google.colab.output.renderOutput(dataTable, element);\n",
              "          const docLink = document.createElement('div');\n",
              "          docLink.innerHTML = docLinkHtml;\n",
              "          element.appendChild(docLink);\n",
              "        }\n",
              "      </script>\n",
              "    </div>\n",
              "  </div>\n",
              "  "
            ]
          },
          "metadata": {},
          "execution_count": 54
        }
      ]
    },
    {
      "cell_type": "code",
      "source": [
        "df_resultados['residuos'].plot.hist(bins=100)"
      ],
      "metadata": {
        "colab": {
          "base_uri": "https://localhost:8080/",
          "height": 539
        },
        "id": "vNpynNbr40gE",
        "outputId": "bcfcb08d-b03b-49ef-8a7e-46565096aa33"
      },
      "execution_count": null,
      "outputs": [
        {
          "output_type": "execute_result",
          "data": {
            "text/plain": [
              "<Axes: ylabel='Frequency'>"
            ]
          },
          "metadata": {},
          "execution_count": 55
        },
        {
          "output_type": "display_data",
          "data": {
            "text/plain": [
              "<Figure size 800x600 with 1 Axes>"
            ],
            "image/png": "[encoded data removed]"
          },
          "metadata": {}
        }
      ]
    },
    {
      "cell_type": "markdown",
      "source": [
        "* O uso do XGBoost resultou em um modelo ligeiramente melhor. O *coefficient of determination* aumentou para 0.16.\n",
        "\n",
        "##**Análises adicionais**##\n",
        "\n",
        "* Note que os resultados do artigo base eram muito melhores dos que os obtidos aqui. Por que você acha que isso acoteceu?\n",
        "\n",
        "* Existem outras variáveis que você poderia adicionar/retirar ao modelo? Faça alguns testes para ver se você consegue melhorar o modelo. \n",
        "\n",
        "* Recortar os dados de acordo com os valores da variável de resposta ajuda o modelo? Por exemplo, considerar apenas os casos em que os pacientes ficaram internados no máximo n dias. Sim ou não e por quê?\n",
        "\n"
      ],
      "metadata": {
        "id": "cw6Ugu3h4s2Q"
      }
    }
  ]
}