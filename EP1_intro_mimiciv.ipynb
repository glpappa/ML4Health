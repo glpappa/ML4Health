{
  "cells": [
    {
      "cell_type": "markdown",
      "metadata": {
        "id": "view-in-github",
        "colab_type": "text"
      },
      "source": [
        "<a href=\"https://colab.research.google.com/github/glpappa/ML4Health/blob/main/EP1_intro_mimiciv.ipynb\" target=\"_parent\"><img src=\"https://colab.research.google.com/assets/colab-badge.svg\" alt=\"Open In Colab\"/></a>"
      ]
    },
    {
      "cell_type": "markdown",
      "id": "99bfa891-d515-45a5-8617-156122cdd4d2",
      "metadata": {
        "id": "99bfa891-d515-45a5-8617-156122cdd4d2"
      },
      "source": [
        "# Exercício Prático 1 \n",
        "**Introdução a base MIMIC-IV**\n",
        "\n",
        "Esse exercício será avaliado apenas para a graduação.No entanto, aconselhamos os outros alunos a seguí-lo para se acostumarem com a base de dados, o que pode facilitar a execução do próximo trabalho.\n",
        "\n",
        "Aconselhamos vocês a seguirem o fluxo do notebook, uma vez que algumas tarefas são encadeadas. Todas as partes que precisam ser implmentadas estão maracada como \"Análises a serem implementadas\" ou simplesmente \"Análises\".\n",
        "\n",
        "---\n",
        "\n",
        "**ATENÇÃO**\n",
        "\n",
        "- Para executar esse notebook, você precisa ter acesso às bases do MIMIC-IV no [BigQuery](https://mimic.mit.edu/docs/gettingstarted/cloud/bigquery/).\n",
        "- Para executar esse notebook local, você precisa instalar o [gcloud-cli](https://cloud.google.com/sdk/docs/install?hl=pt-br) e inicializá-lo.\n",
        "\n",
        "\n",
        "---\n",
        "\n",
        "\n",
        "\n"
      ]
    },
    {
      "cell_type": "markdown",
      "id": "cc87dfec-c9de-4905-8d95-18cd633e8a5e",
      "metadata": {
        "id": "cc87dfec-c9de-4905-8d95-18cd633e8a5e"
      },
      "source": [
        "## Carregar pacotes"
      ]
    },
    {
      "cell_type": "code",
      "execution_count": null,
      "id": "9916279c-9837-4b2e-83fe-a977b1bec9c5",
      "metadata": {
        "tags": [],
        "id": "9916279c-9837-4b2e-83fe-a977b1bec9c5"
      },
      "outputs": [],
      "source": [
        "from google.cloud import bigquery\n",
        "from collections import OrderedDict\n",
        "import matplotlib.pyplot as plt\n",
        "import numpy as np\n",
        "import pandas as pd\n",
        "import seaborn as sns"
      ]
    },
    {
      "cell_type": "markdown",
      "id": "a5efd991-00dd-4c23-9e70-6fead883eb78",
      "metadata": {
        "id": "a5efd991-00dd-4c23-9e70-6fead883eb78"
      },
      "source": [
        "**Rode o código abaixo somente se estiver no colab.**"
      ]
    },
    {
      "cell_type": "code",
      "execution_count": null,
      "id": "7e8d2341-b751-4e5e-8337-a3fc09c9c2e1",
      "metadata": {
        "tags": [],
        "id": "7e8d2341-b751-4e5e-8337-a3fc09c9c2e1"
      },
      "outputs": [],
      "source": [
        "from google.colab import auth\n",
        "auth.authenticate_user()\n",
        "\n",
        "# from google.colab import data_table\n",
        "# data_table.enable_dataframe_formatter()"
      ]
    },
    {
      "cell_type": "markdown",
      "id": "ccd0775b-5e82-4149-8a31-fb7c46eb7d35",
      "metadata": {
        "id": "ccd0775b-5e82-4149-8a31-fb7c46eb7d35"
      },
      "source": [
        "## Variáveis globais"
      ]
    },
    {
      "cell_type": "code",
      "execution_count": null,
      "id": "db6f939b-9890-4129-a819-16d8e5924ffc",
      "metadata": {
        "tags": [],
        "id": "db6f939b-9890-4129-a819-16d8e5924ffc"
      },
      "outputs": [],
      "source": [
        "projeto = 'mimic-ml-01' # Project ID inserted based on the query results selected to explore\n",
        "location = 'US' # Location inserted based on the query results selected to explore\n",
        "\n",
        "dataset_hosp = 'physionet-data.mimiciv_hosp'\n",
        "dataset_icu = 'physionet-data.mimiciv_icu'\n",
        "dataset_ed = 'physionet-data.mimiciv_ed'\n",
        "dataset_note = 'physionet-data.mimiciv_note'\n",
        "dataset_cxr = 'physionet-data.mimic_cxr'\n",
        "\n",
        "paciente = 10012853\n",
        "admissao = 27882036"
      ]
    },
    {
      "cell_type": "markdown",
      "id": "a7c867e6-95e0-401c-9321-3cf3c8c61607",
      "metadata": {
        "id": "a7c867e6-95e0-401c-9321-3cf3c8c61607"
      },
      "source": [
        "## Funções auxiliares"
      ]
    },
    {
      "cell_type": "code",
      "execution_count": null,
      "id": "a87bbf0c-b46e-4faf-9c36-3f8ed9203431",
      "metadata": {
        "tags": [],
        "id": "a87bbf0c-b46e-4faf-9c36-3f8ed9203431"
      },
      "outputs": [],
      "source": [
        "def get_tabela(projeto_id:str, dataset_id: str, tabela_id: str, atributos_str:str, where_str:str = '') -> pd.DataFrame:\n",
        "    sql = 'SELECT ' + atributos_str + ' FROM `' + dataset_id + '.' + tabela_id + '`'\n",
        "    if where_str != '':\n",
        "        sql += ' WHERE ' + where_str\n",
        "    sql += ';'\n",
        "    print(sql)\n",
        "    return(pd.read_gbq(sql, projeto_id))\n",
        "\n",
        "def get_lista_tabelas(dataset_id: str) -> list:\n",
        "    lista_tabelas = cliente.list_tables(dataset_id)\n",
        "    lista = [tabela.table_id for tabela in lista_tabelas]\n",
        "    return(lista)\n",
        "\n",
        "def imprimir_lista_tabelas(dataset_id: str) -> None:\n",
        "    lista_tabelas = cliente.list_tables(dataset_id)\n",
        "    print(\"Tabelas da base de dados '{}':\".format(dataset_id))\n",
        "    for i, tabela in enumerate(lista_tabelas):\n",
        "        print(\"\\t{}- {}.{}.{}\".format(i+1, tabela.project, tabela.dataset_id, tabela.table_id))\n",
        "        \n",
        "def imprimir_lista_atributos(dataset_id: str, tabela_id: str) -> pd.DataFrame:\n",
        "    tabela = cliente.get_table(dataset_id + '.' + tabela_id)\n",
        "    nomes = [] \n",
        "    tipos = []\n",
        "    modos = []\n",
        "    for coluna in tabela.schema:\n",
        "        nomes.append(coluna.name)\n",
        "        tipos.append(coluna.field_type)\n",
        "        modos.append(coluna.mode)\n",
        "    df = pd.DataFrame({'Nome': nomes, 'Tipo do campo': tipos, 'Modo': modos})\n",
        "    display(df)\n"
      ]
    },
    {
      "cell_type": "markdown",
      "id": "94c41f1f-3718-41ee-87f5-70026df22dd7",
      "metadata": {
        "id": "94c41f1f-3718-41ee-87f5-70026df22dd7"
      },
      "source": [
        "## Conectar ao bigquery"
      ]
    },
    {
      "cell_type": "code",
      "execution_count": null,
      "id": "bab212c2-7d45-43ed-a490-7ae97da7e2ee",
      "metadata": {
        "id": "bab212c2-7d45-43ed-a490-7ae97da7e2ee"
      },
      "outputs": [],
      "source": [
        "cliente = bigquery.Client(project=projeto, location=location)"
      ]
    },
    {
      "cell_type": "markdown",
      "source": [
        "# Listagem das tabelas\n",
        "A MIMIC-IV é divida em 4 bases de dados: MIMIC-HOSP, MIMIC-ED, MIMIC-ICU, MIMIC-CXR.\n",
        "Abaixo, listamos as tabelas de cada uma das bases.\n",
        "\n"
      ],
      "metadata": {
        "id": "Z9Oq45bmKOzR"
      },
      "id": "Z9Oq45bmKOzR"
    },
    {
      "cell_type": "markdown",
      "id": "aeb11ca7-b2ba-40b0-ae40-572b3ab4596a",
      "metadata": {
        "id": "aeb11ca7-b2ba-40b0-ae40-572b3ab4596a"
      },
      "source": [
        "## MIMIC-HOSP\n",
        "\n"
      ]
    },
    {
      "cell_type": "code",
      "execution_count": null,
      "id": "7dad806f-c2ab-4414-9749-e0999da463c9",
      "metadata": {
        "tags": [],
        "colab": {
          "base_uri": "https://localhost:8080/"
        },
        "id": "7dad806f-c2ab-4414-9749-e0999da463c9",
        "outputId": "4055a695-be3f-4f40-8db0-7355f75729d3"
      },
      "outputs": [
        {
          "output_type": "stream",
          "name": "stdout",
          "text": [
            "Tabelas da base de dados 'physionet-data.mimiciv_hosp':\n",
            "\t1- physionet-data.mimiciv_hosp.admissions\n",
            "\t2- physionet-data.mimiciv_hosp.d_hcpcs\n",
            "\t3- physionet-data.mimiciv_hosp.d_icd_diagnoses\n",
            "\t4- physionet-data.mimiciv_hosp.d_icd_procedures\n",
            "\t5- physionet-data.mimiciv_hosp.d_labitems\n",
            "\t6- physionet-data.mimiciv_hosp.diagnoses_icd\n",
            "\t7- physionet-data.mimiciv_hosp.drgcodes\n",
            "\t8- physionet-data.mimiciv_hosp.emar\n",
            "\t9- physionet-data.mimiciv_hosp.emar_detail\n",
            "\t10- physionet-data.mimiciv_hosp.hcpcsevents\n",
            "\t11- physionet-data.mimiciv_hosp.labevents\n",
            "\t12- physionet-data.mimiciv_hosp.microbiologyevents\n",
            "\t13- physionet-data.mimiciv_hosp.omr\n",
            "\t14- physionet-data.mimiciv_hosp.patients\n",
            "\t15- physionet-data.mimiciv_hosp.pharmacy\n",
            "\t16- physionet-data.mimiciv_hosp.poe\n",
            "\t17- physionet-data.mimiciv_hosp.poe_detail\n",
            "\t18- physionet-data.mimiciv_hosp.prescriptions\n",
            "\t19- physionet-data.mimiciv_hosp.procedures_icd\n",
            "\t20- physionet-data.mimiciv_hosp.provider\n",
            "\t21- physionet-data.mimiciv_hosp.services\n",
            "\t22- physionet-data.mimiciv_hosp.transfers\n"
          ]
        }
      ],
      "source": [
        "imprimir_lista_tabelas(dataset_hosp)"
      ]
    },
    {
      "cell_type": "markdown",
      "source": [
        "## MIMIC-ED"
      ],
      "metadata": {
        "id": "pFjYgZfCLSJI"
      },
      "id": "pFjYgZfCLSJI"
    },
    {
      "cell_type": "code",
      "source": [
        "imprimir_lista_tabelas(dataset_ed)"
      ],
      "metadata": {
        "colab": {
          "base_uri": "https://localhost:8080/"
        },
        "id": "jFTX66naK_10",
        "outputId": "dd2e0f06-908d-4f7e-a802-8a8c828045c8"
      },
      "id": "jFTX66naK_10",
      "execution_count": null,
      "outputs": [
        {
          "output_type": "stream",
          "name": "stdout",
          "text": [
            "Tabelas da base de dados 'physionet-data.mimiciv_ed':\n",
            "\t1- physionet-data.mimiciv_ed.diagnosis\n",
            "\t2- physionet-data.mimiciv_ed.edstays\n",
            "\t3- physionet-data.mimiciv_ed.medrecon\n",
            "\t4- physionet-data.mimiciv_ed.pyxis\n",
            "\t5- physionet-data.mimiciv_ed.triage\n",
            "\t6- physionet-data.mimiciv_ed.vitalsign\n"
          ]
        }
      ]
    },
    {
      "cell_type": "markdown",
      "source": [
        "## MIMIC-ICU"
      ],
      "metadata": {
        "id": "xNsR-5sxLZwS"
      },
      "id": "xNsR-5sxLZwS"
    },
    {
      "cell_type": "code",
      "source": [
        "imprimir_lista_tabelas(dataset_icu)"
      ],
      "metadata": {
        "colab": {
          "base_uri": "https://localhost:8080/"
        },
        "id": "tUele7-uLCXa",
        "outputId": "10866673-9601-4da7-bfbc-5938b1fc75f5"
      },
      "id": "tUele7-uLCXa",
      "execution_count": null,
      "outputs": [
        {
          "output_type": "stream",
          "name": "stdout",
          "text": [
            "Tabelas da base de dados 'physionet-data.mimiciv_icu':\n",
            "\t1- physionet-data.mimiciv_icu.caregiver\n",
            "\t2- physionet-data.mimiciv_icu.chartevents\n",
            "\t3- physionet-data.mimiciv_icu.d_items\n",
            "\t4- physionet-data.mimiciv_icu.datetimeevents\n",
            "\t5- physionet-data.mimiciv_icu.icustays\n",
            "\t6- physionet-data.mimiciv_icu.ingredientevents\n",
            "\t7- physionet-data.mimiciv_icu.inputevents\n",
            "\t8- physionet-data.mimiciv_icu.outputevents\n",
            "\t9- physionet-data.mimiciv_icu.procedureevents\n"
          ]
        }
      ]
    },
    {
      "cell_type": "markdown",
      "source": [
        "## MIMIC-CXR"
      ],
      "metadata": {
        "id": "sPeM6FVyLcbd"
      },
      "id": "sPeM6FVyLcbd"
    },
    {
      "cell_type": "code",
      "source": [
        "imprimir_lista_tabelas(dataset_cxr)"
      ],
      "metadata": {
        "colab": {
          "base_uri": "https://localhost:8080/"
        },
        "id": "0dO5myUQLEva",
        "outputId": "7b708c28-cf63-4ca6-be52-9ca64ced6436"
      },
      "id": "0dO5myUQLEva",
      "execution_count": null,
      "outputs": [
        {
          "output_type": "stream",
          "name": "stdout",
          "text": [
            "Tabelas da base de dados 'physionet-data.mimic_cxr':\n",
            "\t1- physionet-data.mimic_cxr.chexpert\n",
            "\t2- physionet-data.mimic_cxr.dicom_metadata_string\n",
            "\t3- physionet-data.mimic_cxr.record_list\n",
            "\t4- physionet-data.mimic_cxr.study_list\n"
          ]
        }
      ]
    },
    {
      "cell_type": "code",
      "source": [
        "imprimir_lista_tabelas(dataset_note)"
      ],
      "metadata": {
        "colab": {
          "base_uri": "https://localhost:8080/"
        },
        "id": "VFxMpFMxLHil",
        "outputId": "dda049fd-df2c-450b-e826-78e7a147c360"
      },
      "id": "VFxMpFMxLHil",
      "execution_count": null,
      "outputs": [
        {
          "output_type": "stream",
          "name": "stdout",
          "text": [
            "Tabelas da base de dados 'physionet-data.mimiciv_note':\n",
            "\t1- physionet-data.mimiciv_note.discharge\n",
            "\t2- physionet-data.mimiciv_note.discharge_detail\n",
            "\t3- physionet-data.mimiciv_note.radiology\n",
            "\t4- physionet-data.mimiciv_note.radiology_detail\n"
          ]
        }
      ]
    },
    {
      "cell_type": "markdown",
      "id": "b37e5541-c3c8-419b-939e-2174ee6e808d",
      "metadata": {
        "tags": [],
        "id": "b37e5541-c3c8-419b-939e-2174ee6e808d"
      },
      "source": [
        "# Caracterização populacional\n",
        "Nessa seção, são apresentadas algumas caracterizações considerando a população disponível na base."
      ]
    },
    {
      "cell_type": "markdown",
      "source": [
        "### 1. Dados demográficos\n",
        "- As tabelas que possuem dados demográficos são *admissions*, *patients* e *edstays*"
      ],
      "metadata": {
        "id": "EEoF8rwDLt6u"
      },
      "id": "EEoF8rwDLt6u"
    },
    {
      "cell_type": "markdown",
      "source": [
        "#### Investigando a tabela *patients*"
      ],
      "metadata": {
        "id": "8Z9RSMN4OYEV"
      },
      "id": "8Z9RSMN4OYEV"
    },
    {
      "cell_type": "code",
      "execution_count": null,
      "id": "0eceb9a0-54c5-41bb-9976-0a5fcc1e1ee7",
      "metadata": {
        "tags": [],
        "colab": {
          "base_uri": "https://localhost:8080/",
          "height": 238
        },
        "id": "0eceb9a0-54c5-41bb-9976-0a5fcc1e1ee7",
        "outputId": "4687f1c0-6253-4a1a-8657-9fe72d840900"
      },
      "outputs": [
        {
          "output_type": "display_data",
          "data": {
            "text/plain": [
              "                Nome Tipo do campo      Modo\n",
              "0         subject_id       INTEGER  REQUIRED\n",
              "1             gender        STRING  REQUIRED\n",
              "2         anchor_age       INTEGER  NULLABLE\n",
              "3        anchor_year       INTEGER  REQUIRED\n",
              "4  anchor_year_group        STRING  REQUIRED\n",
              "5                dod          DATE  NULLABLE"
            ],
            "text/html": [
              "\n",
              "  <div id=\"df-1d14af5e-c214-49c9-8b53-8a487ef484aa\">\n",
              "    <div class=\"colab-df-container\">\n",
              "      <div>\n",
              "<style scoped>\n",
              "    .dataframe tbody tr th:only-of-type {\n",
              "        vertical-align: middle;\n",
              "    }\n",
              "\n",
              "    .dataframe tbody tr th {\n",
              "        vertical-align: top;\n",
              "    }\n",
              "\n",
              "    .dataframe thead th {\n",
              "        text-align: right;\n",
              "    }\n",
              "</style>\n",
              "<table border=\"1\" class=\"dataframe\">\n",
              "  <thead>\n",
              "    <tr style=\"text-align: right;\">\n",
              "      <th></th>\n",
              "      <th>Nome</th>\n",
              "      <th>Tipo do campo</th>\n",
              "      <th>Modo</th>\n",
              "    </tr>\n",
              "  </thead>\n",
              "  <tbody>\n",
              "    <tr>\n",
              "      <th>0</th>\n",
              "      <td>subject_id</td>\n",
              "      <td>INTEGER</td>\n",
              "      <td>REQUIRED</td>\n",
              "    </tr>\n",
              "    <tr>\n",
              "      <th>1</th>\n",
              "      <td>gender</td>\n",
              "      <td>STRING</td>\n",
              "      <td>REQUIRED</td>\n",
              "    </tr>\n",
              "    <tr>\n",
              "      <th>2</th>\n",
              "      <td>anchor_age</td>\n",
              "      <td>INTEGER</td>\n",
              "      <td>NULLABLE</td>\n",
              "    </tr>\n",
              "    <tr>\n",
              "      <th>3</th>\n",
              "      <td>anchor_year</td>\n",
              "      <td>INTEGER</td>\n",
              "      <td>REQUIRED</td>\n",
              "    </tr>\n",
              "    <tr>\n",
              "      <th>4</th>\n",
              "      <td>anchor_year_group</td>\n",
              "      <td>STRING</td>\n",
              "      <td>REQUIRED</td>\n",
              "    </tr>\n",
              "    <tr>\n",
              "      <th>5</th>\n",
              "      <td>dod</td>\n",
              "      <td>DATE</td>\n",
              "      <td>NULLABLE</td>\n",
              "    </tr>\n",
              "  </tbody>\n",
              "</table>\n",
              "</div>\n",
              "      <button class=\"colab-df-convert\" onclick=\"convertToInteractive('df-1d14af5e-c214-49c9-8b53-8a487ef484aa')\"\n",
              "              title=\"Convert this dataframe to an interactive table.\"\n",
              "              style=\"display:none;\">\n",
              "        \n",
              "  <svg xmlns=\"http://www.w3.org/2000/svg\" height=\"24px\"viewBox=\"0 0 24 24\"\n",
              "       width=\"24px\">\n",
              "    <path d=\"M0 0h24v24H0V0z\" fill=\"none\"/>\n",
              "    <path d=\"M18.56 5.44l.94 2.06.94-2.06 2.06-.94-2.06-.94-.94-2.06-.94 2.06-2.06.94zm-11 1L8.5 8.5l.94-2.06 2.06-.94-2.06-.94L8.5 2.5l-.94 2.06-2.06.94zm10 10l.94 2.06.94-2.06 2.06-.94-2.06-.94-.94-2.06-.94 2.06-2.06.94z\"/><path d=\"M17.41 7.96l-1.37-1.37c-.4-.4-.92-.59-1.43-.59-.52 0-1.04.2-1.43.59L10.3 9.45l-7.72 7.72c-.78.78-.78 2.05 0 2.83L4 21.41c.39.39.9.59 1.41.59.51 0 1.02-.2 1.41-.59l7.78-7.78 2.81-2.81c.8-.78.8-2.07 0-2.86zM5.41 20L4 18.59l7.72-7.72 1.47 1.35L5.41 20z\"/>\n",
              "  </svg>\n",
              "      </button>\n",
              "      \n",
              "  <style>\n",
              "    .colab-df-container {\n",
              "      display:flex;\n",
              "      flex-wrap:wrap;\n",
              "      gap: 12px;\n",
              "    }\n",
              "\n",
              "    .colab-df-convert {\n",
              "      background-color: #E8F0FE;\n",
              "      border: none;\n",
              "      border-radius: 50%;\n",
              "      cursor: pointer;\n",
              "      display: none;\n",
              "      fill: #1967D2;\n",
              "      height: 32px;\n",
              "      padding: 0 0 0 0;\n",
              "      width: 32px;\n",
              "    }\n",
              "\n",
              "    .colab-df-convert:hover {\n",
              "      background-color: #E2EBFA;\n",
              "      box-shadow: 0px 1px 2px rgba(60, 64, 67, 0.3), 0px 1px 3px 1px rgba(60, 64, 67, 0.15);\n",
              "      fill: #174EA6;\n",
              "    }\n",
              "\n",
              "    [theme=dark] .colab-df-convert {\n",
              "      background-color: #3B4455;\n",
              "      fill: #D2E3FC;\n",
              "    }\n",
              "\n",
              "    [theme=dark] .colab-df-convert:hover {\n",
              "      background-color: #434B5C;\n",
              "      box-shadow: 0px 1px 3px 1px rgba(0, 0, 0, 0.15);\n",
              "      filter: drop-shadow(0px 1px 2px rgba(0, 0, 0, 0.3));\n",
              "      fill: #FFFFFF;\n",
              "    }\n",
              "  </style>\n",
              "\n",
              "      <script>\n",
              "        const buttonEl =\n",
              "          document.querySelector('#df-1d14af5e-c214-49c9-8b53-8a487ef484aa button.colab-df-convert');\n",
              "        buttonEl.style.display =\n",
              "          google.colab.kernel.accessAllowed ? 'block' : 'none';\n",
              "\n",
              "        async function convertToInteractive(key) {\n",
              "          const element = document.querySelector('#df-1d14af5e-c214-49c9-8b53-8a487ef484aa');\n",
              "          const dataTable =\n",
              "            await google.colab.kernel.invokeFunction('convertToInteractive',\n",
              "                                                     [key], {});\n",
              "          if (!dataTable) return;\n",
              "\n",
              "          const docLinkHtml = 'Like what you see? Visit the ' +\n",
              "            '<a target=\"_blank\" href=https://colab.research.google.com/notebooks/data_table.ipynb>data table notebook</a>'\n",
              "            + ' to learn more about interactive tables.';\n",
              "          element.innerHTML = '';\n",
              "          dataTable['output_type'] = 'display_data';\n",
              "          await google.colab.output.renderOutput(dataTable, element);\n",
              "          const docLink = document.createElement('div');\n",
              "          docLink.innerHTML = docLinkHtml;\n",
              "          element.appendChild(docLink);\n",
              "        }\n",
              "      </script>\n",
              "    </div>\n",
              "  </div>\n",
              "  "
            ]
          },
          "metadata": {}
        }
      ],
      "source": [
        "imprimir_lista_atributos(dataset_hosp, 'patients')"
      ]
    },
    {
      "cell_type": "code",
      "execution_count": null,
      "id": "5c88f1ef-7666-44e6-9e5b-38e0f2389625",
      "metadata": {
        "tags": [],
        "colab": {
          "base_uri": "https://localhost:8080/"
        },
        "id": "5c88f1ef-7666-44e6-9e5b-38e0f2389625",
        "outputId": "a5078f27-d499-4792-dff8-2e26e166c264"
      },
      "outputs": [
        {
          "output_type": "stream",
          "name": "stdout",
          "text": [
            "SELECT * FROM `physionet-data.mimiciv_hosp.patients`;\n"
          ]
        }
      ],
      "source": [
        "pacientes = get_tabela(projeto, dataset_hosp, 'patients', '*', '') "
      ]
    },
    {
      "cell_type": "code",
      "execution_count": null,
      "id": "4602add3-cdac-4409-bc42-30d9df9e07a5",
      "metadata": {
        "tags": [],
        "colab": {
          "base_uri": "https://localhost:8080/",
          "height": 206
        },
        "id": "4602add3-cdac-4409-bc42-30d9df9e07a5",
        "outputId": "c933fb83-1bcc-4ff4-98e2-fdc14749c3aa"
      },
      "outputs": [
        {
          "output_type": "display_data",
          "data": {
            "text/plain": [
              "   subject_id gender  anchor_age  anchor_year anchor_year_group  dod\n",
              "0    10078138      F          18         2110       2017 - 2019  NaT\n",
              "1    10180372      M          18         2110       2008 - 2010  NaT\n",
              "2    10686175      M          18         2110       2011 - 2013  NaT\n",
              "3    10851602      F          18         2110       2014 - 2016  NaT\n",
              "4    10902424      F          18         2110       2017 - 2019  NaT"
            ],
            "text/html": [
              "\n",
              "  <div id=\"df-ae242e86-a026-4b67-b84e-4f0ff81cecee\">\n",
              "    <div class=\"colab-df-container\">\n",
              "      <div>\n",
              "<style scoped>\n",
              "    .dataframe tbody tr th:only-of-type {\n",
              "        vertical-align: middle;\n",
              "    }\n",
              "\n",
              "    .dataframe tbody tr th {\n",
              "        vertical-align: top;\n",
              "    }\n",
              "\n",
              "    .dataframe thead th {\n",
              "        text-align: right;\n",
              "    }\n",
              "</style>\n",
              "<table border=\"1\" class=\"dataframe\">\n",
              "  <thead>\n",
              "    <tr style=\"text-align: right;\">\n",
              "      <th></th>\n",
              "      <th>subject_id</th>\n",
              "      <th>gender</th>\n",
              "      <th>anchor_age</th>\n",
              "      <th>anchor_year</th>\n",
              "      <th>anchor_year_group</th>\n",
              "      <th>dod</th>\n",
              "    </tr>\n",
              "  </thead>\n",
              "  <tbody>\n",
              "    <tr>\n",
              "      <th>0</th>\n",
              "      <td>10078138</td>\n",
              "      <td>F</td>\n",
              "      <td>18</td>\n",
              "      <td>2110</td>\n",
              "      <td>2017 - 2019</td>\n",
              "      <td>NaT</td>\n",
              "    </tr>\n",
              "    <tr>\n",
              "      <th>1</th>\n",
              "      <td>10180372</td>\n",
              "      <td>M</td>\n",
              "      <td>18</td>\n",
              "      <td>2110</td>\n",
              "      <td>2008 - 2010</td>\n",
              "      <td>NaT</td>\n",
              "    </tr>\n",
              "    <tr>\n",
              "      <th>2</th>\n",
              "      <td>10686175</td>\n",
              "      <td>M</td>\n",
              "      <td>18</td>\n",
              "      <td>2110</td>\n",
              "      <td>2011 - 2013</td>\n",
              "      <td>NaT</td>\n",
              "    </tr>\n",
              "    <tr>\n",
              "      <th>3</th>\n",
              "      <td>10851602</td>\n",
              "      <td>F</td>\n",
              "      <td>18</td>\n",
              "      <td>2110</td>\n",
              "      <td>2014 - 2016</td>\n",
              "      <td>NaT</td>\n",
              "    </tr>\n",
              "    <tr>\n",
              "      <th>4</th>\n",
              "      <td>10902424</td>\n",
              "      <td>F</td>\n",
              "      <td>18</td>\n",
              "      <td>2110</td>\n",
              "      <td>2017 - 2019</td>\n",
              "      <td>NaT</td>\n",
              "    </tr>\n",
              "  </tbody>\n",
              "</table>\n",
              "</div>\n",
              "      <button class=\"colab-df-convert\" onclick=\"convertToInteractive('df-ae242e86-a026-4b67-b84e-4f0ff81cecee')\"\n",
              "              title=\"Convert this dataframe to an interactive table.\"\n",
              "              style=\"display:none;\">\n",
              "        \n",
              "  <svg xmlns=\"http://www.w3.org/2000/svg\" height=\"24px\"viewBox=\"0 0 24 24\"\n",
              "       width=\"24px\">\n",
              "    <path d=\"M0 0h24v24H0V0z\" fill=\"none\"/>\n",
              "    <path d=\"M18.56 5.44l.94 2.06.94-2.06 2.06-.94-2.06-.94-.94-2.06-.94 2.06-2.06.94zm-11 1L8.5 8.5l.94-2.06 2.06-.94-2.06-.94L8.5 2.5l-.94 2.06-2.06.94zm10 10l.94 2.06.94-2.06 2.06-.94-2.06-.94-.94-2.06-.94 2.06-2.06.94z\"/><path d=\"M17.41 7.96l-1.37-1.37c-.4-.4-.92-.59-1.43-.59-.52 0-1.04.2-1.43.59L10.3 9.45l-7.72 7.72c-.78.78-.78 2.05 0 2.83L4 21.41c.39.39.9.59 1.41.59.51 0 1.02-.2 1.41-.59l7.78-7.78 2.81-2.81c.8-.78.8-2.07 0-2.86zM5.41 20L4 18.59l7.72-7.72 1.47 1.35L5.41 20z\"/>\n",
              "  </svg>\n",
              "      </button>\n",
              "      \n",
              "  <style>\n",
              "    .colab-df-container {\n",
              "      display:flex;\n",
              "      flex-wrap:wrap;\n",
              "      gap: 12px;\n",
              "    }\n",
              "\n",
              "    .colab-df-convert {\n",
              "      background-color: #E8F0FE;\n",
              "      border: none;\n",
              "      border-radius: 50%;\n",
              "      cursor: pointer;\n",
              "      display: none;\n",
              "      fill: #1967D2;\n",
              "      height: 32px;\n",
              "      padding: 0 0 0 0;\n",
              "      width: 32px;\n",
              "    }\n",
              "\n",
              "    .colab-df-convert:hover {\n",
              "      background-color: #E2EBFA;\n",
              "      box-shadow: 0px 1px 2px rgba(60, 64, 67, 0.3), 0px 1px 3px 1px rgba(60, 64, 67, 0.15);\n",
              "      fill: #174EA6;\n",
              "    }\n",
              "\n",
              "    [theme=dark] .colab-df-convert {\n",
              "      background-color: #3B4455;\n",
              "      fill: #D2E3FC;\n",
              "    }\n",
              "\n",
              "    [theme=dark] .colab-df-convert:hover {\n",
              "      background-color: #434B5C;\n",
              "      box-shadow: 0px 1px 3px 1px rgba(0, 0, 0, 0.15);\n",
              "      filter: drop-shadow(0px 1px 2px rgba(0, 0, 0, 0.3));\n",
              "      fill: #FFFFFF;\n",
              "    }\n",
              "  </style>\n",
              "\n",
              "      <script>\n",
              "        const buttonEl =\n",
              "          document.querySelector('#df-ae242e86-a026-4b67-b84e-4f0ff81cecee button.colab-df-convert');\n",
              "        buttonEl.style.display =\n",
              "          google.colab.kernel.accessAllowed ? 'block' : 'none';\n",
              "\n",
              "        async function convertToInteractive(key) {\n",
              "          const element = document.querySelector('#df-ae242e86-a026-4b67-b84e-4f0ff81cecee');\n",
              "          const dataTable =\n",
              "            await google.colab.kernel.invokeFunction('convertToInteractive',\n",
              "                                                     [key], {});\n",
              "          if (!dataTable) return;\n",
              "\n",
              "          const docLinkHtml = 'Like what you see? Visit the ' +\n",
              "            '<a target=\"_blank\" href=https://colab.research.google.com/notebooks/data_table.ipynb>data table notebook</a>'\n",
              "            + ' to learn more about interactive tables.';\n",
              "          element.innerHTML = '';\n",
              "          dataTable['output_type'] = 'display_data';\n",
              "          await google.colab.output.renderOutput(dataTable, element);\n",
              "          const docLink = document.createElement('div');\n",
              "          docLink.innerHTML = docLinkHtml;\n",
              "          element.appendChild(docLink);\n",
              "        }\n",
              "      </script>\n",
              "    </div>\n",
              "  </div>\n",
              "  "
            ]
          },
          "metadata": {}
        }
      ],
      "source": [
        "display(pacientes.head())"
      ]
    },
    {
      "cell_type": "code",
      "execution_count": null,
      "id": "56d74b09-1312-4b9a-a01e-3a4620b57688",
      "metadata": {
        "tags": [],
        "colab": {
          "base_uri": "https://localhost:8080/"
        },
        "id": "56d74b09-1312-4b9a-a01e-3a4620b57688",
        "outputId": "2cb1194a-a31c-44cc-917c-079bda5df481"
      },
      "outputs": [
        {
          "output_type": "stream",
          "name": "stdout",
          "text": [
            "(299712, 6)\n",
            "Foram registrados 299712 pacientes no hospital.\n"
          ]
        }
      ],
      "source": [
        "num_pacientes = pacientes['subject_id'].unique().size\n",
        "print('{}'.format(pacientes.shape))\n",
        "print('Foram registrados ' + str(num_pacientes) + ' pacientes no hospital.')"
      ]
    },
    {
      "cell_type": "markdown",
      "id": "624fe8a4-b827-4ec2-8628-e7ebb9aaf885",
      "metadata": {
        "tags": [],
        "id": "624fe8a4-b827-4ec2-8628-e7ebb9aaf885"
      },
      "source": [
        "#### Distribuição da variável idade"
      ]
    },
    {
      "cell_type": "code",
      "execution_count": null,
      "id": "85c72ab7-63bf-451a-baba-4a23902f405e",
      "metadata": {
        "tags": [],
        "colab": {
          "base_uri": "https://localhost:8080/",
          "height": 881
        },
        "id": "85c72ab7-63bf-451a-baba-4a23902f405e",
        "outputId": "e296c0d0-b0c6-45b7-f7d0-f92596ea026e"
      },
      "outputs": [
        {
          "output_type": "display_data",
          "data": {
            "text/plain": [
              "<Figure size 1500x1000 with 1 Axes>"
            ],
            "image/png": "[encoded data removed]"
          },
          "metadata": {}
        }
      ],
      "source": [
        "idade_pacientes = pacientes[['subject_id','anchor_age']].groupby('anchor_age').count().reset_index()\n",
        "lista_idades = idade_pacientes['anchor_age'].to_list()\n",
        "for i in range(18,92):\n",
        "    if i not in lista_idades:\n",
        "        idade_pacientes = pd.concat([idade_pacientes, pd.DataFrame({'anchor_age': [i], 'subject_id': [0]})])\n",
        "idade_pacientes = idade_pacientes.sort_values('anchor_age').set_index('anchor_age')\n",
        "\n",
        "ax = idade_pacientes.plot(kind='bar', figsize=(15, 10), legend='', title='Distribuição do número de pacientes por idade')\n",
        "ax.set_xlabel(\"anchor_age\", fontsize=12)\n",
        "ax.set_ylabel(\"total de pacientes\", fontsize=12)\n",
        "plt.show()"
      ]
    },
    {
      "cell_type": "markdown",
      "id": "99740ee3-baa0-4ebb-a0de-42ef42315ae3",
      "metadata": {
        "tags": [],
        "id": "99740ee3-baa0-4ebb-a0de-42ef42315ae3"
      },
      "source": [
        "#### Análises a serem implementadas\n",
        "\n",
        "Implemente cada análise em uma célula diferente, e sempre coloque o título do que está sendo analisado, conforme exemplo para variável gênero abaixo.\n",
        "\n",
        "\n",
        "- Faça gráficos da distribuição de gênero (gender), seguro (insurance), estado civil (marital_status), raça (race). Esses dados estão na tabela *admissions*.\n",
        "- Faça o gráfico da distribuição do meio de transporte de chegada (arrival_transport) no departamento de emergência e do local onde o paciente foi encaminhado (disposition). Esses dados estão na tabela *edstays*.\n",
        "- Quantos dos atendimentos registrados no hospital são encaminhados para o departamento de emergência? (*admissions* versus *edstays*)\n",
        "- Que porcentagem de pacientes vai à óbito no hospital?\n"
      ]
    },
    {
      "cell_type": "markdown",
      "source": [
        "#### Distribuição da variável gênero\n",
        "\n"
      ],
      "metadata": {
        "id": "0G1xLyXZOF8Z"
      },
      "id": "0G1xLyXZOF8Z"
    },
    {
      "cell_type": "code",
      "source": [
        "# código para distribuição de gênero"
      ],
      "metadata": {
        "id": "Qc_Bsw_iaoEx"
      },
      "id": "Qc_Bsw_iaoEx",
      "execution_count": null,
      "outputs": []
    },
    {
      "cell_type": "markdown",
      "source": [
        "### 2. Dados administrativos"
      ],
      "metadata": {
        "id": "amXfSZ5QG9tA"
      },
      "id": "amXfSZ5QG9tA"
    },
    {
      "cell_type": "markdown",
      "source": [
        "#### Investigando a tabela *services*"
      ],
      "metadata": {
        "id": "TNqX9LEAzQNo"
      },
      "id": "TNqX9LEAzQNo"
    },
    {
      "cell_type": "markdown",
      "source": [
        "#### Análises a serem implementadas\n",
        "\n",
        "* Repita o processo realizado na tabela *patients* para a tabela *services*. \n",
        "* Identifique quais os 5 serviços mais utilizados pelos pacientes. "
      ],
      "metadata": {
        "id": "SUVobacKzd9G"
      },
      "id": "SUVobacKzd9G"
    },
    {
      "cell_type": "code",
      "source": [
        "# Escreva seu código aqui."
      ],
      "metadata": {
        "id": "G4dOfsFB093k"
      },
      "id": "G4dOfsFB093k",
      "execution_count": null,
      "outputs": []
    },
    {
      "cell_type": "markdown",
      "source": [
        "### 3. Sinais vitais"
      ],
      "metadata": {
        "id": "MuplMKICY832"
      },
      "id": "MuplMKICY832"
    },
    {
      "cell_type": "code",
      "source": [
        "sinais_vitais = get_tabela(projeto, dataset_ed, 'vitalsign', '*', '') "
      ],
      "metadata": {
        "colab": {
          "base_uri": "https://localhost:8080/"
        },
        "id": "gMai91aZZPCL",
        "outputId": "b9750414-a473-43ff-9b18-e0b602fdf0bb"
      },
      "id": "gMai91aZZPCL",
      "execution_count": null,
      "outputs": [
        {
          "output_type": "stream",
          "name": "stdout",
          "text": [
            "SELECT * FROM `physionet-data.mimiciv_ed.vitalsign`;\n"
          ]
        }
      ]
    },
    {
      "cell_type": "code",
      "source": [
        "sinais_vitais.shape"
      ],
      "metadata": {
        "colab": {
          "base_uri": "https://localhost:8080/"
        },
        "id": "73bMh9XYaurm",
        "outputId": "8d8eb248-1c9b-4e7f-fb22-5e0dc28af315"
      },
      "id": "73bMh9XYaurm",
      "execution_count": null,
      "outputs": [
        {
          "output_type": "execute_result",
          "data": {
            "text/plain": [
              "(1564610, 11)"
            ]
          },
          "metadata": {},
          "execution_count": 9
        }
      ]
    },
    {
      "cell_type": "code",
      "source": [
        "sinais_vitais.head()"
      ],
      "metadata": {
        "colab": {
          "base_uri": "https://localhost:8080/",
          "height": 206
        },
        "id": "1jG_7vCKaxVC",
        "outputId": "5840a375-7244-4c8f-d110-8e269cbc738c"
      },
      "id": "1jG_7vCKaxVC",
      "execution_count": null,
      "outputs": [
        {
          "output_type": "execute_result",
          "data": {
            "text/plain": [
              "   subject_id   stay_id           charttime   temperature      heartrate  \\\n",
              "0    10014967  36889300 2198-09-17 09:01:00  96.400000000   70.000000000   \n",
              "1    10015057  34668050 2151-04-15 01:10:00  97.800000000   69.000000000   \n",
              "2    10023708  32140682 2144-05-18 09:06:00  97.100000000   63.000000000   \n",
              "3    10036086  39396729 2206-03-05 23:59:00          None  101.000000000   \n",
              "4    10036086  39396729 2206-03-06 00:00:00          None  102.000000000   \n",
              "\n",
              "       resprate         o2sat  sbp  dbp               rhythm  pain  \n",
              "0  30.000000000  95.000000000  179  103                 None    10  \n",
              "1  10.000000000  95.000000000   89   45                 None     0  \n",
              "2  11.000000000  96.000000000  135   45  Normal Sinus Rhythm     0  \n",
              "3  32.000000000  91.000000000  102   46                 None     2  \n",
              "4  34.000000000  92.000000000   73   40                 None  None  "
            ],
            "text/html": [
              "\n",
              "  <div id=\"df-1255bec4-3f43-4334-8fbf-c29e7cac9ee1\">\n",
              "    <div class=\"colab-df-container\">\n",
              "      <div>\n",
              "<style scoped>\n",
              "    .dataframe tbody tr th:only-of-type {\n",
              "        vertical-align: middle;\n",
              "    }\n",
              "\n",
              "    .dataframe tbody tr th {\n",
              "        vertical-align: top;\n",
              "    }\n",
              "\n",
              "    .dataframe thead th {\n",
              "        text-align: right;\n",
              "    }\n",
              "</style>\n",
              "<table border=\"1\" class=\"dataframe\">\n",
              "  <thead>\n",
              "    <tr style=\"text-align: right;\">\n",
              "      <th></th>\n",
              "      <th>subject_id</th>\n",
              "      <th>stay_id</th>\n",
              "      <th>charttime</th>\n",
              "      <th>temperature</th>\n",
              "      <th>heartrate</th>\n",
              "      <th>resprate</th>\n",
              "      <th>o2sat</th>\n",
              "      <th>sbp</th>\n",
              "      <th>dbp</th>\n",
              "      <th>rhythm</th>\n",
              "      <th>pain</th>\n",
              "    </tr>\n",
              "  </thead>\n",
              "  <tbody>\n",
              "    <tr>\n",
              "      <th>0</th>\n",
              "      <td>10014967</td>\n",
              "      <td>36889300</td>\n",
              "      <td>2198-09-17 09:01:00</td>\n",
              "      <td>96.400000000</td>\n",
              "      <td>70.000000000</td>\n",
              "      <td>30.000000000</td>\n",
              "      <td>95.000000000</td>\n",
              "      <td>179</td>\n",
              "      <td>103</td>\n",
              "      <td>None</td>\n",
              "      <td>10</td>\n",
              "    </tr>\n",
              "    <tr>\n",
              "      <th>1</th>\n",
              "      <td>10015057</td>\n",
              "      <td>34668050</td>\n",
              "      <td>2151-04-15 01:10:00</td>\n",
              "      <td>97.800000000</td>\n",
              "      <td>69.000000000</td>\n",
              "      <td>10.000000000</td>\n",
              "      <td>95.000000000</td>\n",
              "      <td>89</td>\n",
              "      <td>45</td>\n",
              "      <td>None</td>\n",
              "      <td>0</td>\n",
              "    </tr>\n",
              "    <tr>\n",
              "      <th>2</th>\n",
              "      <td>10023708</td>\n",
              "      <td>32140682</td>\n",
              "      <td>2144-05-18 09:06:00</td>\n",
              "      <td>97.100000000</td>\n",
              "      <td>63.000000000</td>\n",
              "      <td>11.000000000</td>\n",
              "      <td>96.000000000</td>\n",
              "      <td>135</td>\n",
              "      <td>45</td>\n",
              "      <td>Normal Sinus Rhythm</td>\n",
              "      <td>0</td>\n",
              "    </tr>\n",
              "    <tr>\n",
              "      <th>3</th>\n",
              "      <td>10036086</td>\n",
              "      <td>39396729</td>\n",
              "      <td>2206-03-05 23:59:00</td>\n",
              "      <td>None</td>\n",
              "      <td>101.000000000</td>\n",
              "      <td>32.000000000</td>\n",
              "      <td>91.000000000</td>\n",
              "      <td>102</td>\n",
              "      <td>46</td>\n",
              "      <td>None</td>\n",
              "      <td>2</td>\n",
              "    </tr>\n",
              "    <tr>\n",
              "      <th>4</th>\n",
              "      <td>10036086</td>\n",
              "      <td>39396729</td>\n",
              "      <td>2206-03-06 00:00:00</td>\n",
              "      <td>None</td>\n",
              "      <td>102.000000000</td>\n",
              "      <td>34.000000000</td>\n",
              "      <td>92.000000000</td>\n",
              "      <td>73</td>\n",
              "      <td>40</td>\n",
              "      <td>None</td>\n",
              "      <td>None</td>\n",
              "    </tr>\n",
              "  </tbody>\n",
              "</table>\n",
              "</div>\n",
              "      <button class=\"colab-df-convert\" onclick=\"convertToInteractive('df-1255bec4-3f43-4334-8fbf-c29e7cac9ee1')\"\n",
              "              title=\"Convert this dataframe to an interactive table.\"\n",
              "              style=\"display:none;\">\n",
              "        \n",
              "  <svg xmlns=\"http://www.w3.org/2000/svg\" height=\"24px\"viewBox=\"0 0 24 24\"\n",
              "       width=\"24px\">\n",
              "    <path d=\"M0 0h24v24H0V0z\" fill=\"none\"/>\n",
              "    <path d=\"M18.56 5.44l.94 2.06.94-2.06 2.06-.94-2.06-.94-.94-2.06-.94 2.06-2.06.94zm-11 1L8.5 8.5l.94-2.06 2.06-.94-2.06-.94L8.5 2.5l-.94 2.06-2.06.94zm10 10l.94 2.06.94-2.06 2.06-.94-2.06-.94-.94-2.06-.94 2.06-2.06.94z\"/><path d=\"M17.41 7.96l-1.37-1.37c-.4-.4-.92-.59-1.43-.59-.52 0-1.04.2-1.43.59L10.3 9.45l-7.72 7.72c-.78.78-.78 2.05 0 2.83L4 21.41c.39.39.9.59 1.41.59.51 0 1.02-.2 1.41-.59l7.78-7.78 2.81-2.81c.8-.78.8-2.07 0-2.86zM5.41 20L4 18.59l7.72-7.72 1.47 1.35L5.41 20z\"/>\n",
              "  </svg>\n",
              "      </button>\n",
              "      \n",
              "  <style>\n",
              "    .colab-df-container {\n",
              "      display:flex;\n",
              "      flex-wrap:wrap;\n",
              "      gap: 12px;\n",
              "    }\n",
              "\n",
              "    .colab-df-convert {\n",
              "      background-color: #E8F0FE;\n",
              "      border: none;\n",
              "      border-radius: 50%;\n",
              "      cursor: pointer;\n",
              "      display: none;\n",
              "      fill: #1967D2;\n",
              "      height: 32px;\n",
              "      padding: 0 0 0 0;\n",
              "      width: 32px;\n",
              "    }\n",
              "\n",
              "    .colab-df-convert:hover {\n",
              "      background-color: #E2EBFA;\n",
              "      box-shadow: 0px 1px 2px rgba(60, 64, 67, 0.3), 0px 1px 3px 1px rgba(60, 64, 67, 0.15);\n",
              "      fill: #174EA6;\n",
              "    }\n",
              "\n",
              "    [theme=dark] .colab-df-convert {\n",
              "      background-color: #3B4455;\n",
              "      fill: #D2E3FC;\n",
              "    }\n",
              "\n",
              "    [theme=dark] .colab-df-convert:hover {\n",
              "      background-color: #434B5C;\n",
              "      box-shadow: 0px 1px 3px 1px rgba(0, 0, 0, 0.15);\n",
              "      filter: drop-shadow(0px 1px 2px rgba(0, 0, 0, 0.3));\n",
              "      fill: #FFFFFF;\n",
              "    }\n",
              "  </style>\n",
              "\n",
              "      <script>\n",
              "        const buttonEl =\n",
              "          document.querySelector('#df-1255bec4-3f43-4334-8fbf-c29e7cac9ee1 button.colab-df-convert');\n",
              "        buttonEl.style.display =\n",
              "          google.colab.kernel.accessAllowed ? 'block' : 'none';\n",
              "\n",
              "        async function convertToInteractive(key) {\n",
              "          const element = document.querySelector('#df-1255bec4-3f43-4334-8fbf-c29e7cac9ee1');\n",
              "          const dataTable =\n",
              "            await google.colab.kernel.invokeFunction('convertToInteractive',\n",
              "                                                     [key], {});\n",
              "          if (!dataTable) return;\n",
              "\n",
              "          const docLinkHtml = 'Like what you see? Visit the ' +\n",
              "            '<a target=\"_blank\" href=https://colab.research.google.com/notebooks/data_table.ipynb>data table notebook</a>'\n",
              "            + ' to learn more about interactive tables.';\n",
              "          element.innerHTML = '';\n",
              "          dataTable['output_type'] = 'display_data';\n",
              "          await google.colab.output.renderOutput(dataTable, element);\n",
              "          const docLink = document.createElement('div');\n",
              "          docLink.innerHTML = docLinkHtml;\n",
              "          element.appendChild(docLink);\n",
              "        }\n",
              "      </script>\n",
              "    </div>\n",
              "  </div>\n",
              "  "
            ]
          },
          "metadata": {},
          "execution_count": 10
        }
      ]
    },
    {
      "cell_type": "markdown",
      "source": [
        "#### Investigando a coluna heartrate"
      ],
      "metadata": {
        "id": "9wrKrfrJ3KPs"
      },
      "id": "9wrKrfrJ3KPs"
    },
    {
      "cell_type": "markdown",
      "source": [
        "* Distribuição da coluna heartrate"
      ],
      "metadata": {
        "id": "1RMBh1Bx38HN"
      },
      "id": "1RMBh1Bx38HN"
    },
    {
      "cell_type": "code",
      "source": [
        "sinais_vitais['heartrate_num'] = pd.to_numeric(sinais_vitais['heartrate'])\n",
        "sinais_vitais[['heartrate_num']].plot.hist(bins=100)"
      ],
      "metadata": {
        "colab": {
          "base_uri": "https://localhost:8080/",
          "height": 448
        },
        "id": "-wZvcq9fdoCK",
        "outputId": "c7704793-f34e-458c-aa3c-d84ebadf48ca"
      },
      "id": "-wZvcq9fdoCK",
      "execution_count": null,
      "outputs": [
        {
          "output_type": "execute_result",
          "data": {
            "text/plain": [
              "<Axes: ylabel='Frequency'>"
            ]
          },
          "metadata": {},
          "execution_count": 11
        },
        {
          "output_type": "display_data",
          "data": {
            "text/plain": [
              "<Figure size 640x480 with 1 Axes>"
            ],
            "image/png": "[encoded data removed]"
          },
          "metadata": {}
        }
      ]
    },
    {
      "cell_type": "markdown",
      "source": [
        "* Análise de outliers da coluna heartrate"
      ],
      "metadata": {
        "id": "1jnHT_fN356O"
      },
      "id": "1jnHT_fN356O"
    },
    {
      "cell_type": "code",
      "source": [
        "sinais_vitais[['heartrate_num']].plot.box()"
      ],
      "metadata": {
        "colab": {
          "base_uri": "https://localhost:8080/",
          "height": 448
        },
        "id": "RtKW2_Tr35MW",
        "outputId": "c0287a30-49ec-4117-a97a-1724655dffe7"
      },
      "id": "RtKW2_Tr35MW",
      "execution_count": null,
      "outputs": [
        {
          "output_type": "execute_result",
          "data": {
            "text/plain": [
              "<Axes: >"
            ]
          },
          "metadata": {},
          "execution_count": 12
        },
        {
          "output_type": "display_data",
          "data": {
            "text/plain": [
              "<Figure size 640x480 with 1 Axes>"
            ],
            "image/png": "[encoded data removed]"
          },
          "metadata": {}
        }
      ]
    },
    {
      "cell_type": "code",
      "source": [
        "taxacardiaca_corte = sinais_vitais.loc[sinais_vitais['heartrate_num'] < 250,'heartrate_num']\n",
        "taxacardiaca_corte.plot.hist(bins=100)"
      ],
      "metadata": {
        "colab": {
          "base_uri": "https://localhost:8080/",
          "height": 447
        },
        "id": "3jNSzNmLAWQ4",
        "outputId": "fe0de8e6-7468-479e-c566-d89e851101b6"
      },
      "id": "3jNSzNmLAWQ4",
      "execution_count": null,
      "outputs": [
        {
          "output_type": "execute_result",
          "data": {
            "text/plain": [
              "<Axes: ylabel='Frequency'>"
            ]
          },
          "metadata": {},
          "execution_count": 55
        },
        {
          "output_type": "display_data",
          "data": {
            "text/plain": [
              "<Figure size 640x480 with 1 Axes>"
            ],
            "image/png": "[encoded data removed]"
          },
          "metadata": {}
        }
      ]
    },
    {
      "cell_type": "markdown",
      "source": [
        "Frequência cardíaca normal por idade:\n",
        "* até 2 anos — 120 a 140 bpm;\n",
        "* 8 até 17 anos — 80 a 100 bpm;\n",
        "* adulto sedentário — 70 a 80 bpm;\n",
        "* adultos que praticam atividades físicas e idosos — 50 a 60 bpm.\n"
      ],
      "metadata": {
        "id": "e05bzsKI4LF0"
      },
      "id": "e05bzsKI4LF0"
    },
    {
      "cell_type": "code",
      "source": [
        "sv_pac = sinais_vitais[['subject_id','heartrate_num']].merge(pacientes[['subject_id','anchor_age']], on='subject_id')\n",
        "sv_pac[sv_pac['heartrate_num']<250].head()"
      ],
      "metadata": {
        "colab": {
          "base_uri": "https://localhost:8080/",
          "height": 206
        },
        "id": "8GjfAyTuSvxR",
        "outputId": "e3c15c4f-33f8-4f9a-d04d-fb9000d02617"
      },
      "id": "8GjfAyTuSvxR",
      "execution_count": null,
      "outputs": [
        {
          "output_type": "execute_result",
          "data": {
            "text/plain": [
              "   subject_id  heartrate_num  anchor_age\n",
              "0    10014967           70.0          65\n",
              "1    10014967           67.0          65\n",
              "2    10014967           51.0          65\n",
              "3    10014967           53.0          65\n",
              "4    10014967           78.0          65"
            ],
            "text/html": [
              "\n",
              "  <div id=\"df-c1740265-e3bb-4227-9433-fd62c2c386cc\">\n",
              "    <div class=\"colab-df-container\">\n",
              "      <div>\n",
              "<style scoped>\n",
              "    .dataframe tbody tr th:only-of-type {\n",
              "        vertical-align: middle;\n",
              "    }\n",
              "\n",
              "    .dataframe tbody tr th {\n",
              "        vertical-align: top;\n",
              "    }\n",
              "\n",
              "    .dataframe thead th {\n",
              "        text-align: right;\n",
              "    }\n",
              "</style>\n",
              "<table border=\"1\" class=\"dataframe\">\n",
              "  <thead>\n",
              "    <tr style=\"text-align: right;\">\n",
              "      <th></th>\n",
              "      <th>subject_id</th>\n",
              "      <th>heartrate_num</th>\n",
              "      <th>anchor_age</th>\n",
              "    </tr>\n",
              "  </thead>\n",
              "  <tbody>\n",
              "    <tr>\n",
              "      <th>0</th>\n",
              "      <td>10014967</td>\n",
              "      <td>70.0</td>\n",
              "      <td>65</td>\n",
              "    </tr>\n",
              "    <tr>\n",
              "      <th>1</th>\n",
              "      <td>10014967</td>\n",
              "      <td>67.0</td>\n",
              "      <td>65</td>\n",
              "    </tr>\n",
              "    <tr>\n",
              "      <th>2</th>\n",
              "      <td>10014967</td>\n",
              "      <td>51.0</td>\n",
              "      <td>65</td>\n",
              "    </tr>\n",
              "    <tr>\n",
              "      <th>3</th>\n",
              "      <td>10014967</td>\n",
              "      <td>53.0</td>\n",
              "      <td>65</td>\n",
              "    </tr>\n",
              "    <tr>\n",
              "      <th>4</th>\n",
              "      <td>10014967</td>\n",
              "      <td>78.0</td>\n",
              "      <td>65</td>\n",
              "    </tr>\n",
              "  </tbody>\n",
              "</table>\n",
              "</div>\n",
              "      <button class=\"colab-df-convert\" onclick=\"convertToInteractive('df-c1740265-e3bb-4227-9433-fd62c2c386cc')\"\n",
              "              title=\"Convert this dataframe to an interactive table.\"\n",
              "              style=\"display:none;\">\n",
              "        \n",
              "  <svg xmlns=\"http://www.w3.org/2000/svg\" height=\"24px\"viewBox=\"0 0 24 24\"\n",
              "       width=\"24px\">\n",
              "    <path d=\"M0 0h24v24H0V0z\" fill=\"none\"/>\n",
              "    <path d=\"M18.56 5.44l.94 2.06.94-2.06 2.06-.94-2.06-.94-.94-2.06-.94 2.06-2.06.94zm-11 1L8.5 8.5l.94-2.06 2.06-.94-2.06-.94L8.5 2.5l-.94 2.06-2.06.94zm10 10l.94 2.06.94-2.06 2.06-.94-2.06-.94-.94-2.06-.94 2.06-2.06.94z\"/><path d=\"M17.41 7.96l-1.37-1.37c-.4-.4-.92-.59-1.43-.59-.52 0-1.04.2-1.43.59L10.3 9.45l-7.72 7.72c-.78.78-.78 2.05 0 2.83L4 21.41c.39.39.9.59 1.41.59.51 0 1.02-.2 1.41-.59l7.78-7.78 2.81-2.81c.8-.78.8-2.07 0-2.86zM5.41 20L4 18.59l7.72-7.72 1.47 1.35L5.41 20z\"/>\n",
              "  </svg>\n",
              "      </button>\n",
              "      \n",
              "  <style>\n",
              "    .colab-df-container {\n",
              "      display:flex;\n",
              "      flex-wrap:wrap;\n",
              "      gap: 12px;\n",
              "    }\n",
              "\n",
              "    .colab-df-convert {\n",
              "      background-color: #E8F0FE;\n",
              "      border: none;\n",
              "      border-radius: 50%;\n",
              "      cursor: pointer;\n",
              "      display: none;\n",
              "      fill: #1967D2;\n",
              "      height: 32px;\n",
              "      padding: 0 0 0 0;\n",
              "      width: 32px;\n",
              "    }\n",
              "\n",
              "    .colab-df-convert:hover {\n",
              "      background-color: #E2EBFA;\n",
              "      box-shadow: 0px 1px 2px rgba(60, 64, 67, 0.3), 0px 1px 3px 1px rgba(60, 64, 67, 0.15);\n",
              "      fill: #174EA6;\n",
              "    }\n",
              "\n",
              "    [theme=dark] .colab-df-convert {\n",
              "      background-color: #3B4455;\n",
              "      fill: #D2E3FC;\n",
              "    }\n",
              "\n",
              "    [theme=dark] .colab-df-convert:hover {\n",
              "      background-color: #434B5C;\n",
              "      box-shadow: 0px 1px 3px 1px rgba(0, 0, 0, 0.15);\n",
              "      filter: drop-shadow(0px 1px 2px rgba(0, 0, 0, 0.3));\n",
              "      fill: #FFFFFF;\n",
              "    }\n",
              "  </style>\n",
              "\n",
              "      <script>\n",
              "        const buttonEl =\n",
              "          document.querySelector('#df-c1740265-e3bb-4227-9433-fd62c2c386cc button.colab-df-convert');\n",
              "        buttonEl.style.display =\n",
              "          google.colab.kernel.accessAllowed ? 'block' : 'none';\n",
              "\n",
              "        async function convertToInteractive(key) {\n",
              "          const element = document.querySelector('#df-c1740265-e3bb-4227-9433-fd62c2c386cc');\n",
              "          const dataTable =\n",
              "            await google.colab.kernel.invokeFunction('convertToInteractive',\n",
              "                                                     [key], {});\n",
              "          if (!dataTable) return;\n",
              "\n",
              "          const docLinkHtml = 'Like what you see? Visit the ' +\n",
              "            '<a target=\"_blank\" href=https://colab.research.google.com/notebooks/data_table.ipynb>data table notebook</a>'\n",
              "            + ' to learn more about interactive tables.';\n",
              "          element.innerHTML = '';\n",
              "          dataTable['output_type'] = 'display_data';\n",
              "          await google.colab.output.renderOutput(dataTable, element);\n",
              "          const docLink = document.createElement('div');\n",
              "          docLink.innerHTML = docLinkHtml;\n",
              "          element.appendChild(docLink);\n",
              "        }\n",
              "      </script>\n",
              "    </div>\n",
              "  </div>\n",
              "  "
            ]
          },
          "metadata": {},
          "execution_count": 28
        }
      ]
    },
    {
      "cell_type": "code",
      "source": [
        "sv_pac[sv_pac['heartrate_num']<250].plot.scatter(x='anchor_age', y='heartrate_num', s=5, figsize=(15,10), c='black', title='Frequência cardíaca por idade')"
      ],
      "metadata": {
        "colab": {
          "base_uri": "https://localhost:8080/",
          "height": 890
        },
        "id": "g6-ExXSCOVVL",
        "outputId": "5a07633c-1f90-4445-b189-ddfbc9c86ea0"
      },
      "id": "g6-ExXSCOVVL",
      "execution_count": null,
      "outputs": [
        {
          "output_type": "execute_result",
          "data": {
            "text/plain": [
              "<Axes: title={'center': 'Frequência cardíaca por idade'}, xlabel='anchor_age', ylabel='heartrate_num'>"
            ]
          },
          "metadata": {},
          "execution_count": 36
        },
        {
          "output_type": "display_data",
          "data": {
            "text/plain": [
              "<Figure size 1500x1000 with 1 Axes>"
            ],
            "image/png": "[encoded data removed]"
          },
          "metadata": {}
        }
      ]
    },
    {
      "cell_type": "markdown",
      "source": [
        "#### Análises a serem implementadas\n",
        "\n",
        "1. Faça um estudo da distribuição e análise de outliers da taxa respiratória, temperatura dos pacientes, pressão arterial (sbp, dbp) e saturação de oxigênio (o2sat). Existem valores estranhos?\n",
        "2. É necessário fazer um cálculo para saber a idade do paciente quando esses sinais vitais foram medidos e portanto os gráficos acima não refletem a realidade da população. Faça o ajuste necessário.\n",
        "3. Existem dados de sinais vitais na base MIMIC-ICU, verifique e investigue em qual tabela se encontra. Se necessário, consulte https://github.com/MIT-LCP/mimic-iv/tree/master/concepts/measurement."
      ],
      "metadata": {
        "id": "mkZlfsQNRxdp"
      },
      "id": "mkZlfsQNRxdp"
    },
    {
      "cell_type": "markdown",
      "source": [
        "# Caracterização do paciente"
      ],
      "metadata": {
        "id": "dboL4dqs7ssy"
      },
      "id": "dboL4dqs7ssy"
    },
    {
      "cell_type": "markdown",
      "source": [
        "#### Análises a serem implementadas\n",
        "\n",
        "##### Investigando o fluxo do paciente numa hospitalização\n"
      ],
      "metadata": {
        "id": "wK-bn6wY8VBe"
      },
      "id": "wK-bn6wY8VBe"
    },
    {
      "cell_type": "code",
      "source": [
        "sql = \"\"\"SELECT t.subject_id, t.hadm_id, t.careunit, t.intime, t.outtime \n",
        "        FROM `physionet-data.mimiciv_hosp.transfers` t\n",
        "        WHERE t.hadm_id = 27882036 and t.subject_id = 10012853;\"\"\"\n",
        "transferencias = pd.read_gbq(sql, projeto)\n",
        "transferencias.reset_index(inplace=True)\n",
        "transferencias = transferencias.loc[0:4,['index','careunit','intime','outtime']]\n",
        "transferencias.loc[transferencias['careunit'] == 'Trauma SICU (TSICU)','index'] = 3\n",
        "df_grafico = pd.concat([transferencias.iloc[:,0:3].rename(columns={'intime':'time'}),transferencias.iloc[:,[0,1,3]].rename(columns={'outtime':'time'})])\n",
        "df_grafico.sort_values(['index','time'], inplace=True)\n",
        "df_grafico.set_index('time',inplace=True)\n",
        "df_grafico.groupby('careunit')['index'].plot(legend=True, xlabel='Período', ylabel='Ala', marker='o', figsize=(15,10), title='Transferências da paciente durante hospitalização')"
      ],
      "metadata": {
        "id": "T2hmD1ti9Z1Z"
      },
      "id": "T2hmD1ti9Z1Z",
      "execution_count": null,
      "outputs": []
    },
    {
      "cell_type": "markdown",
      "source": [
        "![transferencias_paciente_hospitalizado.png](data:image/png;base64,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)"
      ],
      "metadata": {
        "id": "v6HvC7q3-n5C"
      },
      "id": "v6HvC7q3-n5C"
    },
    {
      "cell_type": "markdown",
      "source": [
        "#### Investigando os sinais vitais do paciente internado no CTI."
      ],
      "metadata": {
        "id": "yCFof9Hf9bdT"
      },
      "id": "yCFof9Hf9bdT"
    },
    {
      "cell_type": "code",
      "source": [
        "sql = \"\"\"\n",
        "select\n",
        "    ce.subject_id\n",
        "  , ce.stay_id\n",
        "  , ce.charttime\n",
        "  , AVG(case when itemid in (220045) and valuenum > 0 and valuenum < 300 then valuenum else null end) as heart_rate\n",
        "  , AVG(case when itemid in (220179,220050) and valuenum > 0 and valuenum < 400 then valuenum else null end) as sbp\n",
        "  , AVG(case when itemid in (220180,220051) and valuenum > 0 and valuenum < 300 then valuenum else null end) as dbp\n",
        "  , AVG(case when itemid in (220052,220181,225312) and valuenum > 0 and valuenum < 300 then valuenum else null end) as mbp\n",
        "  , AVG(case when itemid = 220179 and valuenum > 0 and valuenum < 400 then valuenum else null end) as sbp_ni\n",
        "  , AVG(case when itemid = 220180 and valuenum > 0 and valuenum < 300 then valuenum else null end) as dbp_ni\n",
        "  , AVG(case when itemid = 220181 and valuenum > 0 and valuenum < 300 then valuenum else null end) as mbp_ni\n",
        "  , AVG(case when itemid in (220210,224690) and valuenum > 0 and valuenum < 70 then valuenum else null end) as resp_rate\n",
        "  , ROUND(\n",
        "      AVG(case when itemid in (223761) and valuenum > 70 and valuenum < 120 then (valuenum-32)/1.8 -- converted to degC in valuenum call\n",
        "              when itemid in (223762) and valuenum > 10 and valuenum < 50  then valuenum else null end)\n",
        "    , 2) as temperature\n",
        "  , MAX(CASE WHEN itemid = 224642 THEN value ELSE NULL END) AS temperature_site\n",
        "  , AVG(case when itemid in (220277) and valuenum > 0 and valuenum <= 100 then valuenum else null end) as spo2\n",
        "  , AVG(case when itemid in (225664,220621,226537) and valuenum > 0 then valuenum else null end) as glucose\n",
        "  FROM physionet-data.mimiciv_icu.chartevents ce\n",
        "  where ce.stay_id IS NOT NULL and ce.subject_id = 10012853\n",
        "  and ce.itemid in\n",
        "  (\n",
        "    220045, -- Heart Rate\n",
        "    225309, -- ART BP Systolic\n",
        "    225310, -- ART BP Diastolic\n",
        "    225312, -- ART BP Mean\n",
        "    220050, -- Arterial Blood Pressure systolic\n",
        "    220051, -- Arterial Blood Pressure diastolic\n",
        "    220052, -- Arterial Blood Pressure mean\n",
        "    220179, -- Non Invasive Blood Pressure systolic\n",
        "    220180, -- Non Invasive Blood Pressure diastolic\n",
        "    220181, -- Non Invasive Blood Pressure mean\n",
        "    220210, -- Respiratory Rate\n",
        "    224690, -- Respiratory Rate (Total)\n",
        "    220277, -- SPO2, peripheral\n",
        "    -- GLUCOSE, both lab and fingerstick\n",
        "    225664, -- Glucose finger stick\n",
        "    220621, -- Glucose (serum)\n",
        "    226537, -- Glucose (whole blood)\n",
        "    -- TEMPERATURE\n",
        "    223762, -- \"Temperature Celsius\"\n",
        "    223761,  -- \"Temperature Fahrenheit\"\n",
        "    224642 -- Temperature Site\n",
        "    -- 226329 -- Blood Temperature CCO (C)\n",
        ")\n",
        "group by ce.subject_id, ce.stay_id, ce.charttime\n",
        ";\"\"\"\n",
        "\n",
        "sinal_vital_paciente = pd.read_gbq(sql, projeto) "
      ],
      "metadata": {
        "id": "hBkE8Un5AZUg"
      },
      "id": "hBkE8Un5AZUg",
      "execution_count": null,
      "outputs": []
    },
    {
      "cell_type": "code",
      "source": [
        "sinal_vital_paciente.head()"
      ],
      "metadata": {
        "colab": {
          "base_uri": "https://localhost:8080/",
          "height": 206
        },
        "id": "6s5PHrcvCSkr",
        "outputId": "4643396d-0b9f-43af-8204-efe769b82c90"
      },
      "id": "6s5PHrcvCSkr",
      "execution_count": null,
      "outputs": [
        {
          "output_type": "execute_result",
          "data": {
            "text/plain": [
              "   subject_id   stay_id           charttime  heart_rate    sbp   dbp   mbp  \\\n",
              "0    10012853  31338022 2176-11-27 07:00:00        61.0    NaN   NaN   NaN   \n",
              "1    10012853  31338022 2176-11-28 16:01:00         NaN   75.0  48.0  53.0   \n",
              "2    10012853  31338022 2176-11-27 20:00:00        68.0    NaN   NaN   NaN   \n",
              "3    10012853  31338022 2176-11-27 18:01:00         NaN  132.0  45.0  67.0   \n",
              "4    10012853  31338022 2176-11-26 14:01:00         NaN  127.0  37.0  61.0   \n",
              "\n",
              "   sbp_ni  dbp_ni  mbp_ni  resp_rate  temperature temperature_site  spo2  \\\n",
              "0     NaN     NaN     NaN       22.0          NaN             None  92.0   \n",
              "1    75.0    48.0    53.0        NaN          NaN             None   NaN   \n",
              "2     NaN     NaN     NaN       23.0        37.11             Oral  96.0   \n",
              "3   132.0    45.0    67.0        NaN          NaN             None   NaN   \n",
              "4   127.0    37.0    61.0        NaN          NaN             None   NaN   \n",
              "\n",
              "   glucose  \n",
              "0     83.0  \n",
              "1      NaN  \n",
              "2    113.0  \n",
              "3      NaN  \n",
              "4      NaN  "
            ],
            "text/html": [
              "\n",
              "  <div id=\"df-afabf850-f74a-4cad-826a-7e95611ac97d\">\n",
              "    <div class=\"colab-df-container\">\n",
              "      <div>\n",
              "<style scoped>\n",
              "    .dataframe tbody tr th:only-of-type {\n",
              "        vertical-align: middle;\n",
              "    }\n",
              "\n",
              "    .dataframe tbody tr th {\n",
              "        vertical-align: top;\n",
              "    }\n",
              "\n",
              "    .dataframe thead th {\n",
              "        text-align: right;\n",
              "    }\n",
              "</style>\n",
              "<table border=\"1\" class=\"dataframe\">\n",
              "  <thead>\n",
              "    <tr style=\"text-align: right;\">\n",
              "      <th></th>\n",
              "      <th>subject_id</th>\n",
              "      <th>stay_id</th>\n",
              "      <th>charttime</th>\n",
              "      <th>heart_rate</th>\n",
              "      <th>sbp</th>\n",
              "      <th>dbp</th>\n",
              "      <th>mbp</th>\n",
              "      <th>sbp_ni</th>\n",
              "      <th>dbp_ni</th>\n",
              "      <th>mbp_ni</th>\n",
              "      <th>resp_rate</th>\n",
              "      <th>temperature</th>\n",
              "      <th>temperature_site</th>\n",
              "      <th>spo2</th>\n",
              "      <th>glucose</th>\n",
              "    </tr>\n",
              "  </thead>\n",
              "  <tbody>\n",
              "    <tr>\n",
              "      <th>0</th>\n",
              "      <td>10012853</td>\n",
              "      <td>31338022</td>\n",
              "      <td>2176-11-27 07:00:00</td>\n",
              "      <td>61.0</td>\n",
              "      <td>NaN</td>\n",
              "      <td>NaN</td>\n",
              "      <td>NaN</td>\n",
              "      <td>NaN</td>\n",
              "      <td>NaN</td>\n",
              "      <td>NaN</td>\n",
              "      <td>22.0</td>\n",
              "      <td>NaN</td>\n",
              "      <td>None</td>\n",
              "      <td>92.0</td>\n",
              "      <td>83.0</td>\n",
              "    </tr>\n",
              "    <tr>\n",
              "      <th>1</th>\n",
              "      <td>10012853</td>\n",
              "      <td>31338022</td>\n",
              "      <td>2176-11-28 16:01:00</td>\n",
              "      <td>NaN</td>\n",
              "      <td>75.0</td>\n",
              "      <td>48.0</td>\n",
              "      <td>53.0</td>\n",
              "      <td>75.0</td>\n",
              "      <td>48.0</td>\n",
              "      <td>53.0</td>\n",
              "      <td>NaN</td>\n",
              "      <td>NaN</td>\n",
              "      <td>None</td>\n",
              "      <td>NaN</td>\n",
              "      <td>NaN</td>\n",
              "    </tr>\n",
              "    <tr>\n",
              "      <th>2</th>\n",
              "      <td>10012853</td>\n",
              "      <td>31338022</td>\n",
              "      <td>2176-11-27 20:00:00</td>\n",
              "      <td>68.0</td>\n",
              "      <td>NaN</td>\n",
              "      <td>NaN</td>\n",
              "      <td>NaN</td>\n",
              "      <td>NaN</td>\n",
              "      <td>NaN</td>\n",
              "      <td>NaN</td>\n",
              "      <td>23.0</td>\n",
              "      <td>37.11</td>\n",
              "      <td>Oral</td>\n",
              "      <td>96.0</td>\n",
              "      <td>113.0</td>\n",
              "    </tr>\n",
              "    <tr>\n",
              "      <th>3</th>\n",
              "      <td>10012853</td>\n",
              "      <td>31338022</td>\n",
              "      <td>2176-11-27 18:01:00</td>\n",
              "      <td>NaN</td>\n",
              "      <td>132.0</td>\n",
              "      <td>45.0</td>\n",
              "      <td>67.0</td>\n",
              "      <td>132.0</td>\n",
              "      <td>45.0</td>\n",
              "      <td>67.0</td>\n",
              "      <td>NaN</td>\n",
              "      <td>NaN</td>\n",
              "      <td>None</td>\n",
              "      <td>NaN</td>\n",
              "      <td>NaN</td>\n",
              "    </tr>\n",
              "    <tr>\n",
              "      <th>4</th>\n",
              "      <td>10012853</td>\n",
              "      <td>31338022</td>\n",
              "      <td>2176-11-26 14:01:00</td>\n",
              "      <td>NaN</td>\n",
              "      <td>127.0</td>\n",
              "      <td>37.0</td>\n",
              "      <td>61.0</td>\n",
              "      <td>127.0</td>\n",
              "      <td>37.0</td>\n",
              "      <td>61.0</td>\n",
              "      <td>NaN</td>\n",
              "      <td>NaN</td>\n",
              "      <td>None</td>\n",
              "      <td>NaN</td>\n",
              "      <td>NaN</td>\n",
              "    </tr>\n",
              "  </tbody>\n",
              "</table>\n",
              "</div>\n",
              "      <button class=\"colab-df-convert\" onclick=\"convertToInteractive('df-afabf850-f74a-4cad-826a-7e95611ac97d')\"\n",
              "              title=\"Convert this dataframe to an interactive table.\"\n",
              "              style=\"display:none;\">\n",
              "        \n",
              "  <svg xmlns=\"http://www.w3.org/2000/svg\" height=\"24px\"viewBox=\"0 0 24 24\"\n",
              "       width=\"24px\">\n",
              "    <path d=\"M0 0h24v24H0V0z\" fill=\"none\"/>\n",
              "    <path d=\"M18.56 5.44l.94 2.06.94-2.06 2.06-.94-2.06-.94-.94-2.06-.94 2.06-2.06.94zm-11 1L8.5 8.5l.94-2.06 2.06-.94-2.06-.94L8.5 2.5l-.94 2.06-2.06.94zm10 10l.94 2.06.94-2.06 2.06-.94-2.06-.94-.94-2.06-.94 2.06-2.06.94z\"/><path d=\"M17.41 7.96l-1.37-1.37c-.4-.4-.92-.59-1.43-.59-.52 0-1.04.2-1.43.59L10.3 9.45l-7.72 7.72c-.78.78-.78 2.05 0 2.83L4 21.41c.39.39.9.59 1.41.59.51 0 1.02-.2 1.41-.59l7.78-7.78 2.81-2.81c.8-.78.8-2.07 0-2.86zM5.41 20L4 18.59l7.72-7.72 1.47 1.35L5.41 20z\"/>\n",
              "  </svg>\n",
              "      </button>\n",
              "      \n",
              "  <style>\n",
              "    .colab-df-container {\n",
              "      display:flex;\n",
              "      flex-wrap:wrap;\n",
              "      gap: 12px;\n",
              "    }\n",
              "\n",
              "    .colab-df-convert {\n",
              "      background-color: #E8F0FE;\n",
              "      border: none;\n",
              "      border-radius: 50%;\n",
              "      cursor: pointer;\n",
              "      display: none;\n",
              "      fill: #1967D2;\n",
              "      height: 32px;\n",
              "      padding: 0 0 0 0;\n",
              "      width: 32px;\n",
              "    }\n",
              "\n",
              "    .colab-df-convert:hover {\n",
              "      background-color: #E2EBFA;\n",
              "      box-shadow: 0px 1px 2px rgba(60, 64, 67, 0.3), 0px 1px 3px 1px rgba(60, 64, 67, 0.15);\n",
              "      fill: #174EA6;\n",
              "    }\n",
              "\n",
              "    [theme=dark] .colab-df-convert {\n",
              "      background-color: #3B4455;\n",
              "      fill: #D2E3FC;\n",
              "    }\n",
              "\n",
              "    [theme=dark] .colab-df-convert:hover {\n",
              "      background-color: #434B5C;\n",
              "      box-shadow: 0px 1px 3px 1px rgba(0, 0, 0, 0.15);\n",
              "      filter: drop-shadow(0px 1px 2px rgba(0, 0, 0, 0.3));\n",
              "      fill: #FFFFFF;\n",
              "    }\n",
              "  </style>\n",
              "\n",
              "      <script>\n",
              "        const buttonEl =\n",
              "          document.querySelector('#df-afabf850-f74a-4cad-826a-7e95611ac97d button.colab-df-convert');\n",
              "        buttonEl.style.display =\n",
              "          google.colab.kernel.accessAllowed ? 'block' : 'none';\n",
              "\n",
              "        async function convertToInteractive(key) {\n",
              "          const element = document.querySelector('#df-afabf850-f74a-4cad-826a-7e95611ac97d');\n",
              "          const dataTable =\n",
              "            await google.colab.kernel.invokeFunction('convertToInteractive',\n",
              "                                                     [key], {});\n",
              "          if (!dataTable) return;\n",
              "\n",
              "          const docLinkHtml = 'Like what you see? Visit the ' +\n",
              "            '<a target=\"_blank\" href=https://colab.research.google.com/notebooks/data_table.ipynb>data table notebook</a>'\n",
              "            + ' to learn more about interactive tables.';\n",
              "          element.innerHTML = '';\n",
              "          dataTable['output_type'] = 'display_data';\n",
              "          await google.colab.output.renderOutput(dataTable, element);\n",
              "          const docLink = document.createElement('div');\n",
              "          docLink.innerHTML = docLinkHtml;\n",
              "          element.appendChild(docLink);\n",
              "        }\n",
              "      </script>\n",
              "    </div>\n",
              "  </div>\n",
              "  "
            ]
          },
          "metadata": {},
          "execution_count": 14
        }
      ]
    },
    {
      "cell_type": "code",
      "source": [
        "sinal_vital_paciente.shape"
      ],
      "metadata": {
        "colab": {
          "base_uri": "https://localhost:8080/"
        },
        "id": "uSvi4c25BjCg",
        "outputId": "4c8fc6eb-595b-470c-88c6-9b2174d75945"
      },
      "id": "uSvi4c25BjCg",
      "execution_count": null,
      "outputs": [
        {
          "output_type": "execute_result",
          "data": {
            "text/plain": [
              "(181, 15)"
            ]
          },
          "metadata": {},
          "execution_count": 13
        }
      ]
    },
    {
      "cell_type": "code",
      "source": [
        "sinal_vital_paciente['stay_id'].unique()"
      ],
      "metadata": {
        "colab": {
          "base_uri": "https://localhost:8080/"
        },
        "id": "m0PzAxMBBuqs",
        "outputId": "75c3254c-bb33-4503-e118-95ff22370a5c"
      },
      "id": "m0PzAxMBBuqs",
      "execution_count": null,
      "outputs": [
        {
          "output_type": "execute_result",
          "data": {
            "text/plain": [
              "<IntegerArray>\n",
              "[31338022]\n",
              "Length: 1, dtype: Int64"
            ]
          },
          "metadata": {},
          "execution_count": 11
        }
      ]
    },
    {
      "cell_type": "code",
      "source": [
        "df_grafico = sinal_vital_paciente.loc[:,['charttime', 'heart_rate', 'sbp', 'dbp','spo2']]\n",
        "df_grafico.rename(columns = {'charttime':'hora'}, inplace = True)\n",
        "df_grafico.sort_values(by='hora', inplace=True)\n",
        "df_grafico.set_index('hora', inplace=True)\n",
        "df_grafico.head()"
      ],
      "metadata": {
        "colab": {
          "base_uri": "https://localhost:8080/",
          "height": 238
        },
        "id": "hRwwz8UWCYpH",
        "outputId": "be941ba4-fd87-41a1-8711-f8fbe76c8f2d"
      },
      "id": "hRwwz8UWCYpH",
      "execution_count": null,
      "outputs": [
        {
          "output_type": "execute_result",
          "data": {
            "text/plain": [
              "                     heart_rate    sbp   dbp  spo2\n",
              "hora                                              \n",
              "2176-11-26 02:34:00        77.0    NaN   NaN  94.0\n",
              "2176-11-26 02:35:00         NaN  164.0  63.0   NaN\n",
              "2176-11-26 02:36:00        73.0    NaN   NaN  96.0\n",
              "2176-11-26 03:00:00        70.0    NaN   NaN  93.0\n",
              "2176-11-26 04:00:00        66.0    NaN   NaN  90.0"
            ],
            "text/html": [
              "\n",
              "  <div id=\"df-fe27314a-e5b6-43f7-9bdc-34590836bf01\">\n",
              "    <div class=\"colab-df-container\">\n",
              "      <div>\n",
              "<style scoped>\n",
              "    .dataframe tbody tr th:only-of-type {\n",
              "        vertical-align: middle;\n",
              "    }\n",
              "\n",
              "    .dataframe tbody tr th {\n",
              "        vertical-align: top;\n",
              "    }\n",
              "\n",
              "    .dataframe thead th {\n",
              "        text-align: right;\n",
              "    }\n",
              "</style>\n",
              "<table border=\"1\" class=\"dataframe\">\n",
              "  <thead>\n",
              "    <tr style=\"text-align: right;\">\n",
              "      <th></th>\n",
              "      <th>heart_rate</th>\n",
              "      <th>sbp</th>\n",
              "      <th>dbp</th>\n",
              "      <th>spo2</th>\n",
              "    </tr>\n",
              "    <tr>\n",
              "      <th>hora</th>\n",
              "      <th></th>\n",
              "      <th></th>\n",
              "      <th></th>\n",
              "      <th></th>\n",
              "    </tr>\n",
              "  </thead>\n",
              "  <tbody>\n",
              "    <tr>\n",
              "      <th>2176-11-26 02:34:00</th>\n",
              "      <td>77.0</td>\n",
              "      <td>NaN</td>\n",
              "      <td>NaN</td>\n",
              "      <td>94.0</td>\n",
              "    </tr>\n",
              "    <tr>\n",
              "      <th>2176-11-26 02:35:00</th>\n",
              "      <td>NaN</td>\n",
              "      <td>164.0</td>\n",
              "      <td>63.0</td>\n",
              "      <td>NaN</td>\n",
              "    </tr>\n",
              "    <tr>\n",
              "      <th>2176-11-26 02:36:00</th>\n",
              "      <td>73.0</td>\n",
              "      <td>NaN</td>\n",
              "      <td>NaN</td>\n",
              "      <td>96.0</td>\n",
              "    </tr>\n",
              "    <tr>\n",
              "      <th>2176-11-26 03:00:00</th>\n",
              "      <td>70.0</td>\n",
              "      <td>NaN</td>\n",
              "      <td>NaN</td>\n",
              "      <td>93.0</td>\n",
              "    </tr>\n",
              "    <tr>\n",
              "      <th>2176-11-26 04:00:00</th>\n",
              "      <td>66.0</td>\n",
              "      <td>NaN</td>\n",
              "      <td>NaN</td>\n",
              "      <td>90.0</td>\n",
              "    </tr>\n",
              "  </tbody>\n",
              "</table>\n",
              "</div>\n",
              "      <button class=\"colab-df-convert\" onclick=\"convertToInteractive('df-fe27314a-e5b6-43f7-9bdc-34590836bf01')\"\n",
              "              title=\"Convert this dataframe to an interactive table.\"\n",
              "              style=\"display:none;\">\n",
              "        \n",
              "  <svg xmlns=\"http://www.w3.org/2000/svg\" height=\"24px\"viewBox=\"0 0 24 24\"\n",
              "       width=\"24px\">\n",
              "    <path d=\"M0 0h24v24H0V0z\" fill=\"none\"/>\n",
              "    <path d=\"M18.56 5.44l.94 2.06.94-2.06 2.06-.94-2.06-.94-.94-2.06-.94 2.06-2.06.94zm-11 1L8.5 8.5l.94-2.06 2.06-.94-2.06-.94L8.5 2.5l-.94 2.06-2.06.94zm10 10l.94 2.06.94-2.06 2.06-.94-2.06-.94-.94-2.06-.94 2.06-2.06.94z\"/><path d=\"M17.41 7.96l-1.37-1.37c-.4-.4-.92-.59-1.43-.59-.52 0-1.04.2-1.43.59L10.3 9.45l-7.72 7.72c-.78.78-.78 2.05 0 2.83L4 21.41c.39.39.9.59 1.41.59.51 0 1.02-.2 1.41-.59l7.78-7.78 2.81-2.81c.8-.78.8-2.07 0-2.86zM5.41 20L4 18.59l7.72-7.72 1.47 1.35L5.41 20z\"/>\n",
              "  </svg>\n",
              "      </button>\n",
              "      \n",
              "  <style>\n",
              "    .colab-df-container {\n",
              "      display:flex;\n",
              "      flex-wrap:wrap;\n",
              "      gap: 12px;\n",
              "    }\n",
              "\n",
              "    .colab-df-convert {\n",
              "      background-color: #E8F0FE;\n",
              "      border: none;\n",
              "      border-radius: 50%;\n",
              "      cursor: pointer;\n",
              "      display: none;\n",
              "      fill: #1967D2;\n",
              "      height: 32px;\n",
              "      padding: 0 0 0 0;\n",
              "      width: 32px;\n",
              "    }\n",
              "\n",
              "    .colab-df-convert:hover {\n",
              "      background-color: #E2EBFA;\n",
              "      box-shadow: 0px 1px 2px rgba(60, 64, 67, 0.3), 0px 1px 3px 1px rgba(60, 64, 67, 0.15);\n",
              "      fill: #174EA6;\n",
              "    }\n",
              "\n",
              "    [theme=dark] .colab-df-convert {\n",
              "      background-color: #3B4455;\n",
              "      fill: #D2E3FC;\n",
              "    }\n",
              "\n",
              "    [theme=dark] .colab-df-convert:hover {\n",
              "      background-color: #434B5C;\n",
              "      box-shadow: 0px 1px 3px 1px rgba(0, 0, 0, 0.15);\n",
              "      filter: drop-shadow(0px 1px 2px rgba(0, 0, 0, 0.3));\n",
              "      fill: #FFFFFF;\n",
              "    }\n",
              "  </style>\n",
              "\n",
              "      <script>\n",
              "        const buttonEl =\n",
              "          document.querySelector('#df-fe27314a-e5b6-43f7-9bdc-34590836bf01 button.colab-df-convert');\n",
              "        buttonEl.style.display =\n",
              "          google.colab.kernel.accessAllowed ? 'block' : 'none';\n",
              "\n",
              "        async function convertToInteractive(key) {\n",
              "          const element = document.querySelector('#df-fe27314a-e5b6-43f7-9bdc-34590836bf01');\n",
              "          const dataTable =\n",
              "            await google.colab.kernel.invokeFunction('convertToInteractive',\n",
              "                                                     [key], {});\n",
              "          if (!dataTable) return;\n",
              "\n",
              "          const docLinkHtml = 'Like what you see? Visit the ' +\n",
              "            '<a target=\"_blank\" href=https://colab.research.google.com/notebooks/data_table.ipynb>data table notebook</a>'\n",
              "            + ' to learn more about interactive tables.';\n",
              "          element.innerHTML = '';\n",
              "          dataTable['output_type'] = 'display_data';\n",
              "          await google.colab.output.renderOutput(dataTable, element);\n",
              "          const docLink = document.createElement('div');\n",
              "          docLink.innerHTML = docLinkHtml;\n",
              "          element.appendChild(docLink);\n",
              "        }\n",
              "      </script>\n",
              "    </div>\n",
              "  </div>\n",
              "  "
            ]
          },
          "metadata": {},
          "execution_count": 40
        }
      ]
    },
    {
      "cell_type": "code",
      "source": [
        "df_grafico.plot(kind='line', legend=True, xlabel='Período', ylabel='Valor', marker='.', figsize=(15,10), title='Sinais vitais da paciente durante a hospitalização')"
      ],
      "metadata": {
        "colab": {
          "base_uri": "https://localhost:8080/",
          "height": 829
        },
        "id": "rNQD5MZbD0Lr",
        "outputId": "10be0bf2-a957-41c5-e899-991175e1bb54"
      },
      "id": "rNQD5MZbD0Lr",
      "execution_count": null,
      "outputs": [
        {
          "output_type": "execute_result",
          "data": {
            "text/plain": [
              "<Axes: title={'center': 'Sinais vitais da paciente durante a hospitalização'}, xlabel='Período', ylabel='Valor'>"
            ]
          },
          "metadata": {},
          "execution_count": 44
        },
        {
          "output_type": "display_data",
          "data": {
            "text/plain": [
              "<Figure size 1500x1000 with 1 Axes>"
            ],
            "image/png": "[encoded data removed]"
          },
          "metadata": {}
        }
      ]
    },
    {
      "cell_type": "markdown",
      "source": [
        "* Obs.: o pacote matplotlib apenas desenha uma linha entre dois pontos consecutivos com valores válidos e deixa em branco nos valores NaN.\n",
        "* Para desenhar apenas o gráfico podemos preencher o dataframe utilizando a função *fillna*. Confira abaixo o resultado e teste outros valores para o parâmetro '*method*'. "
      ],
      "metadata": {
        "id": "p_Fc2earHcSr"
      },
      "id": "p_Fc2earHcSr"
    },
    {
      "cell_type": "code",
      "source": [
        "df_grafico.fillna(method='bfill').plot(kind='line', legend=True, xlabel='Período', ylabel='Valor', marker='.', figsize=(15,10), title='Sinais vitais da paciente durante a hospitalização')"
      ],
      "metadata": {
        "colab": {
          "base_uri": "https://localhost:8080/",
          "height": 829
        },
        "id": "FuNFGX7_G_hc",
        "outputId": "ffb41e21-4b06-4ddf-80ff-5567b20d3a67"
      },
      "id": "FuNFGX7_G_hc",
      "execution_count": null,
      "outputs": [
        {
          "output_type": "execute_result",
          "data": {
            "text/plain": [
              "<Axes: title={'center': 'Sinais vitais da paciente durante a hospitalização'}, xlabel='Período', ylabel='Valor'>"
            ]
          },
          "metadata": {},
          "execution_count": 43
        },
        {
          "output_type": "display_data",
          "data": {
            "text/plain": [
              "<Figure size 1500x1000 with 1 Axes>"
            ],
            "image/png": "[encoded data removed]"
          },
          "metadata": {}
        }
      ]
    },
    {
      "cell_type": "markdown",
      "source": [
        "#####Análises a serem implementadas\n",
        "* Teste outras abordagens para tratar esse problemas, como uso da média, remoção de registros, etc. No fim do semestre, voltaremos a esse assunto tratando outros métodos. Esse passo será importante para a próxima tarefa, onde você conseguirá testar a diferença de diferentes formas de imputação. "
      ],
      "metadata": {
        "id": "IPw7t1l3LjmV"
      },
      "id": "IPw7t1l3LjmV"
    },
    {
      "cell_type": "markdown",
      "source": [
        "# Previsão de Mortalidade\n",
        "Até o momento, fizemos análises para entender melhor os dados da MIMIC-IV. Agora, criaremos um modelo simples para prever se o paciente irá sobreviver ou não depois de hospitalizado. Para isso, utilizaremos regressão logística.\n",
        "- A tarefa é prever se o paciente vai sobreviver ou não utilizando um método de classificação.\n",
        "- A princípio, iremos utilizar dados demográficos do paciente: idade, estado civil, raça, idioma. Iniciaremos com um método de regressão logística."
      ],
      "metadata": {
        "id": "66-m2xVULnHc"
      },
      "id": "66-m2xVULnHc"
    },
    {
      "cell_type": "code",
      "source": [
        "# from sklearn.impute import SimpleImputer\n",
        "# from sklearn.pipeline import Pipeline\n",
        "# from sklearn.pipeline import make_pipeline\n",
        "# from sklearn.preprocessing import OrdinalEncoder\n",
        "# from sklearn.compose import ColumnTransformer\n",
        "# from sklearn.feature_selection import SelectPercentile\n",
        "# from sklearn.feature_selection import chi2\n",
        "from sklearn.model_selection import train_test_split\n",
        "from sklearn.linear_model import LogisticRegression\n",
        "from sklearn.preprocessing import OneHotEncoder\n",
        "from sklearn.pipeline import make_pipeline\n",
        "from sklearn.compose import make_column_transformer"
      ],
      "metadata": {
        "id": "wz7oom3vLrNs"
      },
      "id": "wz7oom3vLrNs",
      "execution_count": null,
      "outputs": []
    },
    {
      "cell_type": "markdown",
      "source": [
        "#### 1. Selecionar dados"
      ],
      "metadata": {
        "id": "JvJc6uTIOI01"
      },
      "id": "JvJc6uTIOI01"
    },
    {
      "cell_type": "code",
      "source": [
        "demografico = get_tabela(projeto, dataset_hosp, 'patients', 'subject_id, anchor_age')\n",
        "demog_atendimento = get_tabela(projeto, dataset_hosp, 'admissions', 'subject_id, hadm_id, marital_status, race, language, hospital_expire_flag')\n",
        "demografico = demografico.merge(demog_atendimento, on='subject_id')"
      ],
      "metadata": {
        "colab": {
          "base_uri": "https://localhost:8080/"
        },
        "id": "Dvcvy33wNx36",
        "outputId": "36f41885-7166-43ab-f832-de55f6bd2ba0"
      },
      "id": "Dvcvy33wNx36",
      "execution_count": null,
      "outputs": [
        {
          "output_type": "stream",
          "name": "stdout",
          "text": [
            "SELECT subject_id, anchor_age FROM `physionet-data.mimiciv_hosp.patients`;\n",
            "SELECT subject_id, hadm_id, marital_status, race, language, hospital_expire_flag FROM `physionet-data.mimiciv_hosp.admissions`;\n"
          ]
        }
      ]
    },
    {
      "cell_type": "code",
      "source": [
        "demografico.head()"
      ],
      "metadata": {
        "colab": {
          "base_uri": "https://localhost:8080/",
          "height": 206
        },
        "id": "8rSenySnOAWt",
        "outputId": "db4eb62e-6420-4aad-c4d7-317f95faf923"
      },
      "id": "8rSenySnOAWt",
      "execution_count": null,
      "outputs": [
        {
          "output_type": "execute_result",
          "data": {
            "text/plain": [
              "   subject_id  anchor_age   hadm_id marital_status  \\\n",
              "0    10686175          18  27744664         SINGLE   \n",
              "1    11289691          18  23182566         SINGLE   \n",
              "2    11289691          18  25537045         SINGLE   \n",
              "3    11595073          18  26034097         SINGLE   \n",
              "4    11776346          18  29730252         SINGLE   \n",
              "\n",
              "                            race language  hospital_expire_flag  \n",
              "0  AMERICAN INDIAN/ALASKA NATIVE  ENGLISH                     0  \n",
              "1         BLACK/AFRICAN AMERICAN  ENGLISH                     0  \n",
              "2         BLACK/AFRICAN AMERICAN  ENGLISH                     0  \n",
              "3                          WHITE  ENGLISH                     0  \n",
              "4           ASIAN - ASIAN INDIAN  ENGLISH                     0  "
            ],
            "text/html": [
              "\n",
              "  <div id=\"df-6af8acd2-bbf7-4125-bde2-25dd4fa7e299\">\n",
              "    <div class=\"colab-df-container\">\n",
              "      <div>\n",
              "<style scoped>\n",
              "    .dataframe tbody tr th:only-of-type {\n",
              "        vertical-align: middle;\n",
              "    }\n",
              "\n",
              "    .dataframe tbody tr th {\n",
              "        vertical-align: top;\n",
              "    }\n",
              "\n",
              "    .dataframe thead th {\n",
              "        text-align: right;\n",
              "    }\n",
              "</style>\n",
              "<table border=\"1\" class=\"dataframe\">\n",
              "  <thead>\n",
              "    <tr style=\"text-align: right;\">\n",
              "      <th></th>\n",
              "      <th>subject_id</th>\n",
              "      <th>anchor_age</th>\n",
              "      <th>hadm_id</th>\n",
              "      <th>marital_status</th>\n",
              "      <th>race</th>\n",
              "      <th>language</th>\n",
              "      <th>hospital_expire_flag</th>\n",
              "    </tr>\n",
              "  </thead>\n",
              "  <tbody>\n",
              "    <tr>\n",
              "      <th>0</th>\n",
              "      <td>10686175</td>\n",
              "      <td>18</td>\n",
              "      <td>27744664</td>\n",
              "      <td>SINGLE</td>\n",
              "      <td>AMERICAN INDIAN/ALASKA NATIVE</td>\n",
              "      <td>ENGLISH</td>\n",
              "      <td>0</td>\n",
              "    </tr>\n",
              "    <tr>\n",
              "      <th>1</th>\n",
              "      <td>11289691</td>\n",
              "      <td>18</td>\n",
              "      <td>23182566</td>\n",
              "      <td>SINGLE</td>\n",
              "      <td>BLACK/AFRICAN AMERICAN</td>\n",
              "      <td>ENGLISH</td>\n",
              "      <td>0</td>\n",
              "    </tr>\n",
              "    <tr>\n",
              "      <th>2</th>\n",
              "      <td>11289691</td>\n",
              "      <td>18</td>\n",
              "      <td>25537045</td>\n",
              "      <td>SINGLE</td>\n",
              "      <td>BLACK/AFRICAN AMERICAN</td>\n",
              "      <td>ENGLISH</td>\n",
              "      <td>0</td>\n",
              "    </tr>\n",
              "    <tr>\n",
              "      <th>3</th>\n",
              "      <td>11595073</td>\n",
              "      <td>18</td>\n",
              "      <td>26034097</td>\n",
              "      <td>SINGLE</td>\n",
              "      <td>WHITE</td>\n",
              "      <td>ENGLISH</td>\n",
              "      <td>0</td>\n",
              "    </tr>\n",
              "    <tr>\n",
              "      <th>4</th>\n",
              "      <td>11776346</td>\n",
              "      <td>18</td>\n",
              "      <td>29730252</td>\n",
              "      <td>SINGLE</td>\n",
              "      <td>ASIAN - ASIAN INDIAN</td>\n",
              "      <td>ENGLISH</td>\n",
              "      <td>0</td>\n",
              "    </tr>\n",
              "  </tbody>\n",
              "</table>\n",
              "</div>\n",
              "      <button class=\"colab-df-convert\" onclick=\"convertToInteractive('df-6af8acd2-bbf7-4125-bde2-25dd4fa7e299')\"\n",
              "              title=\"Convert this dataframe to an interactive table.\"\n",
              "              style=\"display:none;\">\n",
              "        \n",
              "  <svg xmlns=\"http://www.w3.org/2000/svg\" height=\"24px\"viewBox=\"0 0 24 24\"\n",
              "       width=\"24px\">\n",
              "    <path d=\"M0 0h24v24H0V0z\" fill=\"none\"/>\n",
              "    <path d=\"M18.56 5.44l.94 2.06.94-2.06 2.06-.94-2.06-.94-.94-2.06-.94 2.06-2.06.94zm-11 1L8.5 8.5l.94-2.06 2.06-.94-2.06-.94L8.5 2.5l-.94 2.06-2.06.94zm10 10l.94 2.06.94-2.06 2.06-.94-2.06-.94-.94-2.06-.94 2.06-2.06.94z\"/><path d=\"M17.41 7.96l-1.37-1.37c-.4-.4-.92-.59-1.43-.59-.52 0-1.04.2-1.43.59L10.3 9.45l-7.72 7.72c-.78.78-.78 2.05 0 2.83L4 21.41c.39.39.9.59 1.41.59.51 0 1.02-.2 1.41-.59l7.78-7.78 2.81-2.81c.8-.78.8-2.07 0-2.86zM5.41 20L4 18.59l7.72-7.72 1.47 1.35L5.41 20z\"/>\n",
              "  </svg>\n",
              "      </button>\n",
              "      \n",
              "  <style>\n",
              "    .colab-df-container {\n",
              "      display:flex;\n",
              "      flex-wrap:wrap;\n",
              "      gap: 12px;\n",
              "    }\n",
              "\n",
              "    .colab-df-convert {\n",
              "      background-color: #E8F0FE;\n",
              "      border: none;\n",
              "      border-radius: 50%;\n",
              "      cursor: pointer;\n",
              "      display: none;\n",
              "      fill: #1967D2;\n",
              "      height: 32px;\n",
              "      padding: 0 0 0 0;\n",
              "      width: 32px;\n",
              "    }\n",
              "\n",
              "    .colab-df-convert:hover {\n",
              "      background-color: #E2EBFA;\n",
              "      box-shadow: 0px 1px 2px rgba(60, 64, 67, 0.3), 0px 1px 3px 1px rgba(60, 64, 67, 0.15);\n",
              "      fill: #174EA6;\n",
              "    }\n",
              "\n",
              "    [theme=dark] .colab-df-convert {\n",
              "      background-color: #3B4455;\n",
              "      fill: #D2E3FC;\n",
              "    }\n",
              "\n",
              "    [theme=dark] .colab-df-convert:hover {\n",
              "      background-color: #434B5C;\n",
              "      box-shadow: 0px 1px 3px 1px rgba(0, 0, 0, 0.15);\n",
              "      filter: drop-shadow(0px 1px 2px rgba(0, 0, 0, 0.3));\n",
              "      fill: #FFFFFF;\n",
              "    }\n",
              "  </style>\n",
              "\n",
              "      <script>\n",
              "        const buttonEl =\n",
              "          document.querySelector('#df-6af8acd2-bbf7-4125-bde2-25dd4fa7e299 button.colab-df-convert');\n",
              "        buttonEl.style.display =\n",
              "          google.colab.kernel.accessAllowed ? 'block' : 'none';\n",
              "\n",
              "        async function convertToInteractive(key) {\n",
              "          const element = document.querySelector('#df-6af8acd2-bbf7-4125-bde2-25dd4fa7e299');\n",
              "          const dataTable =\n",
              "            await google.colab.kernel.invokeFunction('convertToInteractive',\n",
              "                                                     [key], {});\n",
              "          if (!dataTable) return;\n",
              "\n",
              "          const docLinkHtml = 'Like what you see? Visit the ' +\n",
              "            '<a target=\"_blank\" href=https://colab.research.google.com/notebooks/data_table.ipynb>data table notebook</a>'\n",
              "            + ' to learn more about interactive tables.';\n",
              "          element.innerHTML = '';\n",
              "          dataTable['output_type'] = 'display_data';\n",
              "          await google.colab.output.renderOutput(dataTable, element);\n",
              "          const docLink = document.createElement('div');\n",
              "          docLink.innerHTML = docLinkHtml;\n",
              "          element.appendChild(docLink);\n",
              "        }\n",
              "      </script>\n",
              "    </div>\n",
              "  </div>\n",
              "  "
            ]
          },
          "metadata": {},
          "execution_count": 54
        }
      ]
    },
    {
      "cell_type": "markdown",
      "source": [
        "#####Análises a serem implementadas\n",
        "* Aqui a idade deve ser calculada da mesma forma que a sugestão 2 da seção *Investigando a coluna heartrate*! "
      ],
      "metadata": {
        "id": "2TTULMDAQx3C"
      },
      "id": "2TTULMDAQx3C"
    },
    {
      "cell_type": "code",
      "source": [
        "# recalcular a idade dos pacientes de acordo com a data da hospitalização."
      ],
      "metadata": {
        "id": "4Z-RJ-zRRYyf"
      },
      "id": "4Z-RJ-zRRYyf",
      "execution_count": null,
      "outputs": []
    },
    {
      "cell_type": "code",
      "source": [
        "demografico.shape"
      ],
      "metadata": {
        "colab": {
          "base_uri": "https://localhost:8080/"
        },
        "id": "eg6qZXp5OVg3",
        "outputId": "ebcf26a4-da4f-4998-b5ca-083be5ee767c"
      },
      "id": "eg6qZXp5OVg3",
      "execution_count": null,
      "outputs": [
        {
          "output_type": "execute_result",
          "data": {
            "text/plain": [
              "(431231, 7)"
            ]
          },
          "metadata": {},
          "execution_count": 56
        }
      ]
    },
    {
      "cell_type": "code",
      "source": [
        "demografico['subject_id'].unique().size"
      ],
      "metadata": {
        "colab": {
          "base_uri": "https://localhost:8080/"
        },
        "id": "aIfTG0wfOXb0",
        "outputId": "c9d834fc-9a69-4336-d649-fbf9009ddde8"
      },
      "id": "aIfTG0wfOXb0",
      "execution_count": null,
      "outputs": [
        {
          "output_type": "execute_result",
          "data": {
            "text/plain": [
              "180733"
            ]
          },
          "metadata": {},
          "execution_count": 57
        }
      ]
    },
    {
      "cell_type": "markdown",
      "source": [
        "#### 2. Analisar classes"
      ],
      "metadata": {
        "id": "k4p-w7yVPZV_"
      },
      "id": "k4p-w7yVPZV_"
    },
    {
      "cell_type": "code",
      "source": [
        "demografico[['subject_id','hospital_expire_flag']].drop_duplicates()['hospital_expire_flag'].plot.hist()"
      ],
      "metadata": {
        "colab": {
          "base_uri": "https://localhost:8080/",
          "height": 448
        },
        "id": "mXAA12ycOgzU",
        "outputId": "fb516f6e-1a64-4019-9ac8-5ad82d54356d"
      },
      "id": "mXAA12ycOgzU",
      "execution_count": null,
      "outputs": [
        {
          "output_type": "execute_result",
          "data": {
            "text/plain": [
              "<Axes: ylabel='Frequency'>"
            ]
          },
          "metadata": {},
          "execution_count": 58
        },
        {
          "output_type": "display_data",
          "data": {
            "text/plain": [
              "<Figure size 640x480 with 1 Axes>"
            ],
            "image/png": "[encoded data removed]"
          },
          "metadata": {}
        }
      ]
    },
    {
      "cell_type": "markdown",
      "source": [
        "#####Análises a serem implementadas\n",
        "- Note que há um desbalanceamento de classes. Como tratar?"
      ],
      "metadata": {
        "id": "Kj1DQTO_PNdd"
      },
      "id": "Kj1DQTO_PNdd"
    },
    {
      "cell_type": "markdown",
      "source": [
        "#### 3. Analisar dados faltantes"
      ],
      "metadata": {
        "id": "BjedbwXGRw6L"
      },
      "id": "BjedbwXGRw6L"
    },
    {
      "cell_type": "code",
      "source": [
        "demografico.columns"
      ],
      "metadata": {
        "colab": {
          "base_uri": "https://localhost:8080/"
        },
        "id": "50KsBqxmSqHm",
        "outputId": "0c9c36a6-f5ca-49ed-b90a-49140c667ecd"
      },
      "id": "50KsBqxmSqHm",
      "execution_count": null,
      "outputs": [
        {
          "output_type": "execute_result",
          "data": {
            "text/plain": [
              "Index(['subject_id', 'anchor_age', 'hadm_id', 'marital_status', 'race',\n",
              "       'language', 'hospital_expire_flag'],\n",
              "      dtype='object')"
            ]
          },
          "metadata": {},
          "execution_count": 65
        }
      ]
    },
    {
      "cell_type": "code",
      "source": [
        "demografico.info()"
      ],
      "metadata": {
        "colab": {
          "base_uri": "https://localhost:8080/"
        },
        "id": "QNJqa4vbPM-O",
        "outputId": "8db8a5f1-dd82-42cb-d94c-62403589faef"
      },
      "id": "QNJqa4vbPM-O",
      "execution_count": null,
      "outputs": [
        {
          "output_type": "stream",
          "name": "stdout",
          "text": [
            "<class 'pandas.core.frame.DataFrame'>\n",
            "Int64Index: 431231 entries, 0 to 431230\n",
            "Data columns (total 7 columns):\n",
            " #   Column                Non-Null Count   Dtype \n",
            "---  ------                --------------   ----- \n",
            " 0   subject_id            431231 non-null  Int64 \n",
            " 1   anchor_age            431231 non-null  Int64 \n",
            " 2   hadm_id               431231 non-null  Int64 \n",
            " 3   marital_status        421998 non-null  object\n",
            " 4   race                  431231 non-null  object\n",
            " 5   language              431231 non-null  object\n",
            " 6   hospital_expire_flag  431231 non-null  Int64 \n",
            "dtypes: Int64(4), object(3)\n",
            "memory usage: 28.0+ MB\n"
          ]
        }
      ]
    },
    {
      "cell_type": "markdown",
      "source": [
        "#### 4. Particionar conjunto de dados (treino/teste)"
      ],
      "metadata": {
        "id": "hEe6uGFCSU5f"
      },
      "id": "hEe6uGFCSU5f"
    },
    {
      "cell_type": "code",
      "source": [
        "df_modelo = demografico.loc[:,['anchor_age', 'marital_status', 'race', 'language', 'hospital_expire_flag']].drop_duplicates()"
      ],
      "metadata": {
        "id": "oE9yRogvYEhV"
      },
      "id": "oE9yRogvYEhV",
      "execution_count": null,
      "outputs": []
    },
    {
      "cell_type": "code",
      "source": [
        "X = df_modelo.loc[:,['anchor_age', 'marital_status', 'race', 'language']]\n",
        "y = df_modelo.loc[:,'hospital_expire_flag']\n",
        "X_treino, X_teste, y_treino, y_teste = train_test_split(X,y,\n",
        "                                   random_state=104, \n",
        "                                   test_size=0.10, \n",
        "                                   shuffle=True)"
      ],
      "metadata": {
        "id": "TXpibIpCOnvq"
      },
      "id": "TXpibIpCOnvq",
      "execution_count": null,
      "outputs": []
    },
    {
      "cell_type": "markdown",
      "source": [
        "####Análises a serem implementadas\n",
        "- Note que como o particionamento foi realizado, um mesmo paciente pode estar em ambos conjuntos, de treino e teste. Por que é um problema? E como resolver?\n",
        "- Além disso, o mesmo paciente pode ter várias hospitalizações mas apenas na última ele faleceu. Isso é um problema? Explique e sugira uma solução se for o caso."
      ],
      "metadata": {
        "id": "zl2AdYjuVddX"
      },
      "id": "zl2AdYjuVddX"
    },
    {
      "cell_type": "markdown",
      "source": [
        "#### 5. Criar modelo"
      ],
      "metadata": {
        "id": "QmS7g7x2TTnk"
      },
      "id": "QmS7g7x2TTnk"
    },
    {
      "cell_type": "code",
      "source": [
        "#Ao rodar o comando fit no fim dessa célula, o Google colab gera automaticamente o pipeline seguido\n",
        "#Esse fluxo não aparece em outros ambientes.\n",
        "variaveis_numericas = ['anchor_age']\n",
        "variaveis_categoricas = ['marital_status', 'race', 'language']\n",
        "\n",
        "preprocessamento =  make_column_transformer(\n",
        "    (OneHotEncoder(), variaveis_categoricas),\n",
        ")\n",
        "\n",
        "modelo1 = make_pipeline(\n",
        "    preprocessamento,\n",
        "    LogisticRegression(solver = \"liblinear\", class_weight=\"balanced\"),\n",
        ")\n",
        "\n",
        "modelo2 = make_pipeline(\n",
        "    preprocessamento,\n",
        "    LogisticRegression(solver = \"liblinear\"),\n",
        ")\n",
        "\n",
        "\n",
        "modelo1.fit(X_treino, y_treino)\n",
        "modelo2.fit(X_treino, y_treino)"
      ],
      "metadata": {
        "colab": {
          "base_uri": "https://localhost:8080/",
          "height": 193
        },
        "id": "38lfGREiSTeU",
        "outputId": "16a9b8ed-7d4c-4d6b-c1d9-e3daa3866761"
      },
      "id": "38lfGREiSTeU",
      "execution_count": null,
      "outputs": [
        {
          "output_type": "execute_result",
          "data": {
            "text/plain": [
              "Pipeline(steps=[('columntransformer',\n",
              "                 ColumnTransformer(transformers=[('onehotencoder',\n",
              "                                                  OneHotEncoder(),\n",
              "                                                  ['marital_status', 'race',\n",
              "                                                   'language'])])),\n",
              "                ('logisticregression', LogisticRegression(solver='liblinear'))])"
            ],
            "text/html": [
              "<style>#sk-container-id-2 {color: black;background-color: white;}#sk-container-id-2 pre{padding: 0;}#sk-container-id-2 div.sk-toggleable {background-color: white;}#sk-container-id-2 label.sk-toggleable__label {cursor: pointer;display: block;width: 100%;margin-bottom: 0;padding: 0.3em;box-sizing: border-box;text-align: center;}#sk-container-id-2 label.sk-toggleable__label-arrow:before {content: \"▸\";float: left;margin-right: 0.25em;color: #696969;}#sk-container-id-2 label.sk-toggleable__label-arrow:hover:before {color: black;}#sk-container-id-2 div.sk-estimator:hover label.sk-toggleable__label-arrow:before {color: black;}#sk-container-id-2 div.sk-toggleable__content {max-height: 0;max-width: 0;overflow: hidden;text-align: left;background-color: #f0f8ff;}#sk-container-id-2 div.sk-toggleable__content pre {margin: 0.2em;color: black;border-radius: 0.25em;background-color: #f0f8ff;}#sk-container-id-2 input.sk-toggleable__control:checked~div.sk-toggleable__content {max-height: 200px;max-width: 100%;overflow: auto;}#sk-container-id-2 input.sk-toggleable__control:checked~label.sk-toggleable__label-arrow:before {content: \"▾\";}#sk-container-id-2 div.sk-estimator input.sk-toggleable__control:checked~label.sk-toggleable__label {background-color: #d4ebff;}#sk-container-id-2 div.sk-label input.sk-toggleable__control:checked~label.sk-toggleable__label {background-color: #d4ebff;}#sk-container-id-2 input.sk-hidden--visually {border: 0;clip: rect(1px 1px 1px 1px);clip: rect(1px, 1px, 1px, 1px);height: 1px;margin: -1px;overflow: hidden;padding: 0;position: absolute;width: 1px;}#sk-container-id-2 div.sk-estimator {font-family: monospace;background-color: #f0f8ff;border: 1px dotted black;border-radius: 0.25em;box-sizing: border-box;margin-bottom: 0.5em;}#sk-container-id-2 div.sk-estimator:hover {background-color: #d4ebff;}#sk-container-id-2 div.sk-parallel-item::after {content: \"\";width: 100%;border-bottom: 1px solid gray;flex-grow: 1;}#sk-container-id-2 div.sk-label:hover label.sk-toggleable__label {background-color: #d4ebff;}#sk-container-id-2 div.sk-serial::before {content: \"\";position: absolute;border-left: 1px solid gray;box-sizing: border-box;top: 0;bottom: 0;left: 50%;z-index: 0;}#sk-container-id-2 div.sk-serial {display: flex;flex-direction: column;align-items: center;background-color: white;padding-right: 0.2em;padding-left: 0.2em;position: relative;}#sk-container-id-2 div.sk-item {position: relative;z-index: 1;}#sk-container-id-2 div.sk-parallel {display: flex;align-items: stretch;justify-content: center;background-color: white;position: relative;}#sk-container-id-2 div.sk-item::before, #sk-container-id-2 div.sk-parallel-item::before {content: \"\";position: absolute;border-left: 1px solid gray;box-sizing: border-box;top: 0;bottom: 0;left: 50%;z-index: -1;}#sk-container-id-2 div.sk-parallel-item {display: flex;flex-direction: column;z-index: 1;position: relative;background-color: white;}#sk-container-id-2 div.sk-parallel-item:first-child::after {align-self: flex-end;width: 50%;}#sk-container-id-2 div.sk-parallel-item:last-child::after {align-self: flex-start;width: 50%;}#sk-container-id-2 div.sk-parallel-item:only-child::after {width: 0;}#sk-container-id-2 div.sk-dashed-wrapped {border: 1px dashed gray;margin: 0 0.4em 0.5em 0.4em;box-sizing: border-box;padding-bottom: 0.4em;background-color: white;}#sk-container-id-2 div.sk-label label {font-family: monospace;font-weight: bold;display: inline-block;line-height: 1.2em;}#sk-container-id-2 div.sk-label-container {text-align: center;}#sk-container-id-2 div.sk-container {/* jupyter's `normalize.less` sets `[hidden] { display: none; }` but bootstrap.min.css set `[hidden] { display: none !important; }` so we also need the `!important` here to be able to override the default hidden behavior on the sphinx rendered scikit-learn.org. See: https://github.com/scikit-learn/scikit-learn/issues/21755 */display: inline-block !important;position: relative;}#sk-container-id-2 div.sk-text-repr-fallback {display: none;}</style><div id=\"sk-container-id-2\" class=\"sk-top-container\"><div class=\"sk-text-repr-fallback\"><pre>Pipeline(steps=[(&#x27;columntransformer&#x27;,\n",
              "                 ColumnTransformer(transformers=[(&#x27;onehotencoder&#x27;,\n",
              "                                                  OneHotEncoder(),\n",
              "                                                  [&#x27;marital_status&#x27;, &#x27;race&#x27;,\n",
              "                                                   &#x27;language&#x27;])])),\n",
              "                (&#x27;logisticregression&#x27;, LogisticRegression(solver=&#x27;liblinear&#x27;))])</pre><b>In a Jupyter environment, please rerun this cell to show the HTML representation or trust the notebook. <br />On GitHub, the HTML representation is unable to render, please try loading this page with nbviewer.org.</b></div><div class=\"sk-container\" hidden><div class=\"sk-item sk-dashed-wrapped\"><div class=\"sk-label-container\"><div class=\"sk-label sk-toggleable\"><input class=\"sk-toggleable__control sk-hidden--visually\" id=\"sk-estimator-id-6\" type=\"checkbox\" ><label for=\"sk-estimator-id-6\" class=\"sk-toggleable__label sk-toggleable__label-arrow\">Pipeline</label><div class=\"sk-toggleable__content\"><pre>Pipeline(steps=[(&#x27;columntransformer&#x27;,\n",
              "                 ColumnTransformer(transformers=[(&#x27;onehotencoder&#x27;,\n",
              "                                                  OneHotEncoder(),\n",
              "                                                  [&#x27;marital_status&#x27;, &#x27;race&#x27;,\n",
              "                                                   &#x27;language&#x27;])])),\n",
              "                (&#x27;logisticregression&#x27;, LogisticRegression(solver=&#x27;liblinear&#x27;))])</pre></div></div></div><div class=\"sk-serial\"><div class=\"sk-item sk-dashed-wrapped\"><div class=\"sk-label-container\"><div class=\"sk-label sk-toggleable\"><input class=\"sk-toggleable__control sk-hidden--visually\" id=\"sk-estimator-id-7\" type=\"checkbox\" ><label for=\"sk-estimator-id-7\" class=\"sk-toggleable__label sk-toggleable__label-arrow\">columntransformer: ColumnTransformer</label><div class=\"sk-toggleable__content\"><pre>ColumnTransformer(transformers=[(&#x27;onehotencoder&#x27;, OneHotEncoder(),\n",
              "                                 [&#x27;marital_status&#x27;, &#x27;race&#x27;, &#x27;language&#x27;])])</pre></div></div></div><div class=\"sk-parallel\"><div class=\"sk-parallel-item\"><div class=\"sk-item\"><div class=\"sk-label-container\"><div class=\"sk-label sk-toggleable\"><input class=\"sk-toggleable__control sk-hidden--visually\" id=\"sk-estimator-id-8\" type=\"checkbox\" ><label for=\"sk-estimator-id-8\" class=\"sk-toggleable__label sk-toggleable__label-arrow\">onehotencoder</label><div class=\"sk-toggleable__content\"><pre>[&#x27;marital_status&#x27;, &#x27;race&#x27;, &#x27;language&#x27;]</pre></div></div></div><div class=\"sk-serial\"><div class=\"sk-item\"><div class=\"sk-estimator sk-toggleable\"><input class=\"sk-toggleable__control sk-hidden--visually\" id=\"sk-estimator-id-9\" type=\"checkbox\" ><label for=\"sk-estimator-id-9\" class=\"sk-toggleable__label sk-toggleable__label-arrow\">OneHotEncoder</label><div class=\"sk-toggleable__content\"><pre>OneHotEncoder()</pre></div></div></div></div></div></div></div></div><div class=\"sk-item\"><div class=\"sk-estimator sk-toggleable\"><input class=\"sk-toggleable__control sk-hidden--visually\" id=\"sk-estimator-id-10\" type=\"checkbox\" ><label for=\"sk-estimator-id-10\" class=\"sk-toggleable__label sk-toggleable__label-arrow\">LogisticRegression</label><div class=\"sk-toggleable__content\"><pre>LogisticRegression(solver=&#x27;liblinear&#x27;)</pre></div></div></div></div></div></div></div>"
            ]
          },
          "metadata": {},
          "execution_count": 78
        }
      ]
    },
    {
      "cell_type": "markdown",
      "source": [
        "#####**Análises**\n",
        "\n",
        "* Qual a diferença entre modelo1 e modelo2?"
      ],
      "metadata": {
        "id": "-03X-Zn8XNzm"
      },
      "id": "-03X-Zn8XNzm"
    },
    {
      "cell_type": "markdown",
      "source": [
        "#### 6. Rodar e analisar "
      ],
      "metadata": {
        "id": "AT32oHELUbKo"
      },
      "id": "AT32oHELUbKo"
    },
    {
      "cell_type": "code",
      "source": [
        "y_pred1 = modelo1.predict(X_teste)\n",
        "print(\"Score do modelo1: %.3f\" % modelo1.score(X_teste, y_teste))"
      ],
      "metadata": {
        "colab": {
          "base_uri": "https://localhost:8080/"
        },
        "id": "Bj_tQMr8UaG0",
        "outputId": "b10a4dd2-bc95-45bc-a502-3caaeb9000be"
      },
      "id": "Bj_tQMr8UaG0",
      "execution_count": null,
      "outputs": [
        {
          "output_type": "stream",
          "name": "stdout",
          "text": [
            "Score do modelo1: 0.661\n"
          ]
        }
      ]
    },
    {
      "cell_type": "code",
      "source": [
        "y_pred2 = modelo2.predict(X_teste)\n",
        "print(\"Score do modelo2: %.3f\" % modelo2.score(X_teste, y_teste))"
      ],
      "metadata": {
        "colab": {
          "base_uri": "https://localhost:8080/"
        },
        "id": "8ijiZmhCU56E",
        "outputId": "3dfe779e-0a61-4dfd-d618-4709e9421603"
      },
      "id": "8ijiZmhCU56E",
      "execution_count": null,
      "outputs": [
        {
          "output_type": "stream",
          "name": "stdout",
          "text": [
            "Score do modelo1: 0.845\n"
          ]
        }
      ]
    },
    {
      "cell_type": "markdown",
      "source": [
        "#####**Análises**\n",
        "\n",
        "* Explique a diferença de resultados entre modelo1 e modelo2. \n",
        "* Que outros atributos poderiam ser utilizados para essa tarefa, visando melhorar o resultado do modelo.\n",
        "* Se desejar, crie um novo modelo com novos atributos ou formas de tratar dados faltantes e desbalanceamento de classses."
      ],
      "metadata": {
        "id": "2d48GUJtXrRA"
      },
      "id": "2d48GUJtXrRA"
    },
    {
      "cell_type": "code",
      "source": [],
      "metadata": {
        "id": "P-sHIwctVJc0"
      },
      "id": "P-sHIwctVJc0",
      "execution_count": null,
      "outputs": []
    }
  ],
  "metadata": {
    "kernelspec": {
      "display_name": "Python 3 (ipykernel)",
      "language": "python",
      "name": "python3"
    },
    "language_info": {
      "codemirror_mode": {
        "name": "ipython",
        "version": 3
      },
      "file_extension": ".py",
      "mimetype": "text/x-python",
      "name": "python",
      "nbconvert_exporter": "python",
      "pygments_lexer": "ipython3",
      "version": "3.11.2"
    },
    "colab": {
      "provenance": [],
      "toc_visible": true,
      "collapsed_sections": [
        "aeb11ca7-b2ba-40b0-ae40-572b3ab4596a"
      ],
      "include_colab_link": true
    }
  },
  "nbformat": 4,
  "nbformat_minor": 5
}